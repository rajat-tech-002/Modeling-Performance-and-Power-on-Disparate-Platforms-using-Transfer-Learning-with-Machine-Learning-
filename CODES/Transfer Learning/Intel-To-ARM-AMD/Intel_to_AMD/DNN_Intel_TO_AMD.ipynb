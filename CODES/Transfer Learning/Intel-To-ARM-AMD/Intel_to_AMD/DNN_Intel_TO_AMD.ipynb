{
 "cells": [
  {
   "cell_type": "code",
   "execution_count": 1,
   "metadata": {
    "colab": {
     "base_uri": "https://localhost:8080/",
     "height": 80
    },
    "colab_type": "code",
    "id": "B20-BaAfPY7y",
    "outputId": "f08002ca-3b8e-460d-c5d9-4d5c51f847c9"
   },
   "outputs": [
    {
     "name": "stderr",
     "output_type": "stream",
     "text": [
      "Using TensorFlow backend.\n"
     ]
    }
   ],
   "source": [
    "from sklearn.preprocessing import StandardScaler\n",
    "from sklearn.preprocessing import MinMaxScaler\n",
    "from sklearn.model_selection import train_test_split\n",
    "from sklearn.metrics import mean_squared_error, r2_score\n",
    "from sklearn.metrics import mean_absolute_error\n",
    "from sklearn.model_selection import GridSearchCV \n",
    "from sklearn.model_selection import KFold\n",
    "from sklearn.metrics import accuracy_score\n",
    "from keras.layers import Dense, Dropout\n",
    "from keras.models import Sequential\n",
    "from keras.optimizers import SGD\n",
    "from matplotlib import pyplot as plt\n",
    "import matplotlib as mpl\n",
    "import seaborn as sns\n",
    "import numpy as np\n",
    "import pandas as pd\n",
    "import category_encoders as ce\n",
    "import os\n",
    "import pickle\n",
    "import gc\n",
    "from tqdm import tqdm\n",
    "from sklearn.model_selection import ShuffleSplit\n",
    "from sklearn.svm import SVR\n",
    "from sklearn.linear_model import LinearRegression\n",
    "from sklearn import linear_model\n",
    "from sklearn.neighbors import KNeighborsRegressor\n",
    "from sklearn.gaussian_process import GaussianProcessRegressor\n",
    "from sklearn.tree import DecisionTreeRegressor\n",
    "from sklearn.ensemble import RandomForestRegressor\n",
    "from sklearn.ensemble import ExtraTreesRegressor\n",
    "from sklearn import ensemble\n",
    "import xgboost as xgb\n",
    "from numpy import loadtxt\n",
    "from keras.utils.vis_utils import plot_model\n",
    "import pydot"
   ]
  },
  {
   "cell_type": "code",
   "execution_count": 2,
   "metadata": {
    "colab": {
     "base_uri": "https://localhost:8080/",
     "height": 292
    },
    "colab_type": "code",
    "id": "DCM-6XSaPlnW",
    "outputId": "a6a90f99-e186-4a02-93d2-bf7ada17c226"
   },
   "outputs": [
    {
     "name": "stdout",
     "output_type": "stream",
     "text": [
      "Requirement already satisfied: category_encoders in c:\\users\\rajat\\anaconda3\\lib\\site-packages (2.1.0)\n",
      "Requirement already satisfied: statsmodels>=0.6.1 in c:\\users\\rajat\\anaconda3\\lib\\site-packages (from category_encoders) (0.9.0)\n",
      "Requirement already satisfied: scipy>=0.19.0 in c:\\users\\rajat\\anaconda3\\lib\\site-packages (from category_encoders) (1.1.0)\n",
      "Requirement already satisfied: patsy>=0.4.1 in c:\\users\\rajat\\anaconda3\\lib\\site-packages (from category_encoders) (0.5.1)\n",
      "Requirement already satisfied: scikit-learn>=0.20.0 in c:\\users\\rajat\\anaconda3\\lib\\site-packages (from category_encoders) (0.22.2.post1)\n",
      "Requirement already satisfied: pandas>=0.21.1 in c:\\users\\rajat\\anaconda3\\lib\\site-packages (from category_encoders) (0.25.3)\n",
      "Requirement already satisfied: numpy>=1.11.3 in c:\\users\\rajat\\anaconda3\\lib\\site-packages (from category_encoders) (1.16.2)\n",
      "Requirement already satisfied: six in c:\\users\\rajat\\anaconda3\\lib\\site-packages (from patsy>=0.4.1->category_encoders) (1.12.0)\n",
      "Requirement already satisfied: joblib>=0.11 in c:\\users\\rajat\\anaconda3\\lib\\site-packages (from scikit-learn>=0.20.0->category_encoders) (0.14.0)\n",
      "Requirement already satisfied: python-dateutil>=2.6.1 in c:\\users\\rajat\\anaconda3\\lib\\site-packages (from pandas>=0.21.1->category_encoders) (2.8.0)\n",
      "Requirement already satisfied: pytz>=2017.2 in c:\\users\\rajat\\anaconda3\\lib\\site-packages (from pandas>=0.21.1->category_encoders) (2018.9)\n",
      "Note: you may need to restart the kernel to use updated packages.\n"
     ]
    }
   ],
   "source": [
    "pip install category_encoders"
   ]
  },
  {
   "cell_type": "code",
   "execution_count": 3,
   "metadata": {
    "colab": {},
    "colab_type": "code",
    "id": "IoISvsWDPY8P"
   },
   "outputs": [],
   "source": [
    "def encode_text_features(encode_decode, data_frame, encoder_isa=None, encoder_mem_type=None):\n",
    "    # Implement Categorical OneHot encoding for ISA and mem-type\n",
    "    if encode_decode == 'encode':\n",
    "        encoder_isa = ce.one_hot.OneHotEncoder(cols=['isa'])\n",
    "        encoder_mem_type = ce.one_hot.OneHotEncoder(cols=['mem-type'])\n",
    "        encoder_isa.fit(data_frame, verbose=1)\n",
    "        df_new1 = encoder_isa.transform(data_frame)\n",
    "        encoder_mem_type.fit(df_new1, verbose=1)\n",
    "        df_new = encoder_mem_type.transform(df_new1)\n",
    "        encoded_data_frame = df_new\n",
    "    else:\n",
    "        df_new1 = encoder_isa.transform(data_frame)\n",
    "        df_new = encoder_mem_type.transform(df_new1)\n",
    "        encoded_data_frame = df_new\n",
    "        \n",
    "    return encoded_data_frame, encoder_isa, encoder_mem_type"
   ]
  },
  {
   "cell_type": "code",
   "execution_count": 4,
   "metadata": {
    "colab": {},
    "colab_type": "code",
    "id": "Sq7T5i17PY8b"
   },
   "outputs": [
    {
     "ename": "FileNotFoundError",
     "evalue": "[Errno 2] File b'C:\\\\Users\\\\Rajat\\\\Desktop\\\\PROJECT_MODE\\\\Paper_2_Aditya\\\\Transfer Learning\\\\Intel-To-ARM\\\\AMD.csv' does not exist: b'C:\\\\Users\\\\Rajat\\\\Desktop\\\\PROJECT_MODE\\\\Paper_2_Aditya\\\\Transfer Learning\\\\Intel-To-ARM\\\\AMD.csv'",
     "output_type": "error",
     "traceback": [
      "\u001b[1;31m---------------------------------------------------------------------------\u001b[0m",
      "\u001b[1;31mFileNotFoundError\u001b[0m                         Traceback (most recent call last)",
      "\u001b[1;32m<ipython-input-4-3b6b8c82e366>\u001b[0m in \u001b[0;36m<module>\u001b[1;34m\u001b[0m\n\u001b[0;32m      1\u001b[0m \u001b[0mall_datasets\u001b[0m \u001b[1;33m=\u001b[0m \u001b[1;34m'C:\\\\Users\\\\Rajat\\\\Desktop\\\\PROJECT_MODE\\\\Paper_2_Aditya\\\\Dataset\\\\'\u001b[0m\u001b[1;33m\u001b[0m\u001b[1;33m\u001b[0m\u001b[0m\n\u001b[1;32m----> 2\u001b[1;33m \u001b[0mdfn\u001b[0m \u001b[1;33m=\u001b[0m \u001b[0mpd\u001b[0m\u001b[1;33m.\u001b[0m\u001b[0mread_csv\u001b[0m\u001b[1;33m(\u001b[0m\u001b[1;34m'C:\\\\Users\\\\Rajat\\\\Desktop\\\\PROJECT_MODE\\\\Paper_2_Aditya\\\\Transfer Learning\\\\Intel-To-ARM\\\\AMD.csv'\u001b[0m\u001b[1;33m)\u001b[0m\u001b[1;33m\u001b[0m\u001b[1;33m\u001b[0m\u001b[0m\n\u001b[0m\u001b[0;32m      3\u001b[0m \u001b[0mdf\u001b[0m \u001b[1;33m=\u001b[0m \u001b[0mpd\u001b[0m\u001b[1;33m.\u001b[0m\u001b[0mread_csv\u001b[0m\u001b[1;33m(\u001b[0m \u001b[1;34m'C:\\\\Users\\\\Rajat\\\\Desktop\\\\PROJECT_MODE\\\\Paper_2_Aditya\\\\Transfer Learning\\\\Intel-To-ARM\\\\INTEL.csv'\u001b[0m\u001b[1;33m)\u001b[0m\u001b[1;33m\u001b[0m\u001b[1;33m\u001b[0m\u001b[0m\n",
      "\u001b[1;32m~\\Anaconda3\\lib\\site-packages\\pandas\\io\\parsers.py\u001b[0m in \u001b[0;36mparser_f\u001b[1;34m(filepath_or_buffer, sep, delimiter, header, names, index_col, usecols, squeeze, prefix, mangle_dupe_cols, dtype, engine, converters, true_values, false_values, skipinitialspace, skiprows, skipfooter, nrows, na_values, keep_default_na, na_filter, verbose, skip_blank_lines, parse_dates, infer_datetime_format, keep_date_col, date_parser, dayfirst, cache_dates, iterator, chunksize, compression, thousands, decimal, lineterminator, quotechar, quoting, doublequote, escapechar, comment, encoding, dialect, error_bad_lines, warn_bad_lines, delim_whitespace, low_memory, memory_map, float_precision)\u001b[0m\n\u001b[0;32m    683\u001b[0m         )\n\u001b[0;32m    684\u001b[0m \u001b[1;33m\u001b[0m\u001b[0m\n\u001b[1;32m--> 685\u001b[1;33m         \u001b[1;32mreturn\u001b[0m \u001b[0m_read\u001b[0m\u001b[1;33m(\u001b[0m\u001b[0mfilepath_or_buffer\u001b[0m\u001b[1;33m,\u001b[0m \u001b[0mkwds\u001b[0m\u001b[1;33m)\u001b[0m\u001b[1;33m\u001b[0m\u001b[1;33m\u001b[0m\u001b[0m\n\u001b[0m\u001b[0;32m    686\u001b[0m \u001b[1;33m\u001b[0m\u001b[0m\n\u001b[0;32m    687\u001b[0m     \u001b[0mparser_f\u001b[0m\u001b[1;33m.\u001b[0m\u001b[0m__name__\u001b[0m \u001b[1;33m=\u001b[0m \u001b[0mname\u001b[0m\u001b[1;33m\u001b[0m\u001b[1;33m\u001b[0m\u001b[0m\n",
      "\u001b[1;32m~\\Anaconda3\\lib\\site-packages\\pandas\\io\\parsers.py\u001b[0m in \u001b[0;36m_read\u001b[1;34m(filepath_or_buffer, kwds)\u001b[0m\n\u001b[0;32m    455\u001b[0m \u001b[1;33m\u001b[0m\u001b[0m\n\u001b[0;32m    456\u001b[0m     \u001b[1;31m# Create the parser.\u001b[0m\u001b[1;33m\u001b[0m\u001b[1;33m\u001b[0m\u001b[1;33m\u001b[0m\u001b[0m\n\u001b[1;32m--> 457\u001b[1;33m     \u001b[0mparser\u001b[0m \u001b[1;33m=\u001b[0m \u001b[0mTextFileReader\u001b[0m\u001b[1;33m(\u001b[0m\u001b[0mfp_or_buf\u001b[0m\u001b[1;33m,\u001b[0m \u001b[1;33m**\u001b[0m\u001b[0mkwds\u001b[0m\u001b[1;33m)\u001b[0m\u001b[1;33m\u001b[0m\u001b[1;33m\u001b[0m\u001b[0m\n\u001b[0m\u001b[0;32m    458\u001b[0m \u001b[1;33m\u001b[0m\u001b[0m\n\u001b[0;32m    459\u001b[0m     \u001b[1;32mif\u001b[0m \u001b[0mchunksize\u001b[0m \u001b[1;32mor\u001b[0m \u001b[0miterator\u001b[0m\u001b[1;33m:\u001b[0m\u001b[1;33m\u001b[0m\u001b[1;33m\u001b[0m\u001b[0m\n",
      "\u001b[1;32m~\\Anaconda3\\lib\\site-packages\\pandas\\io\\parsers.py\u001b[0m in \u001b[0;36m__init__\u001b[1;34m(self, f, engine, **kwds)\u001b[0m\n\u001b[0;32m    893\u001b[0m             \u001b[0mself\u001b[0m\u001b[1;33m.\u001b[0m\u001b[0moptions\u001b[0m\u001b[1;33m[\u001b[0m\u001b[1;34m\"has_index_names\"\u001b[0m\u001b[1;33m]\u001b[0m \u001b[1;33m=\u001b[0m \u001b[0mkwds\u001b[0m\u001b[1;33m[\u001b[0m\u001b[1;34m\"has_index_names\"\u001b[0m\u001b[1;33m]\u001b[0m\u001b[1;33m\u001b[0m\u001b[1;33m\u001b[0m\u001b[0m\n\u001b[0;32m    894\u001b[0m \u001b[1;33m\u001b[0m\u001b[0m\n\u001b[1;32m--> 895\u001b[1;33m         \u001b[0mself\u001b[0m\u001b[1;33m.\u001b[0m\u001b[0m_make_engine\u001b[0m\u001b[1;33m(\u001b[0m\u001b[0mself\u001b[0m\u001b[1;33m.\u001b[0m\u001b[0mengine\u001b[0m\u001b[1;33m)\u001b[0m\u001b[1;33m\u001b[0m\u001b[1;33m\u001b[0m\u001b[0m\n\u001b[0m\u001b[0;32m    896\u001b[0m \u001b[1;33m\u001b[0m\u001b[0m\n\u001b[0;32m    897\u001b[0m     \u001b[1;32mdef\u001b[0m \u001b[0mclose\u001b[0m\u001b[1;33m(\u001b[0m\u001b[0mself\u001b[0m\u001b[1;33m)\u001b[0m\u001b[1;33m:\u001b[0m\u001b[1;33m\u001b[0m\u001b[1;33m\u001b[0m\u001b[0m\n",
      "\u001b[1;32m~\\Anaconda3\\lib\\site-packages\\pandas\\io\\parsers.py\u001b[0m in \u001b[0;36m_make_engine\u001b[1;34m(self, engine)\u001b[0m\n\u001b[0;32m   1133\u001b[0m     \u001b[1;32mdef\u001b[0m \u001b[0m_make_engine\u001b[0m\u001b[1;33m(\u001b[0m\u001b[0mself\u001b[0m\u001b[1;33m,\u001b[0m \u001b[0mengine\u001b[0m\u001b[1;33m=\u001b[0m\u001b[1;34m\"c\"\u001b[0m\u001b[1;33m)\u001b[0m\u001b[1;33m:\u001b[0m\u001b[1;33m\u001b[0m\u001b[1;33m\u001b[0m\u001b[0m\n\u001b[0;32m   1134\u001b[0m         \u001b[1;32mif\u001b[0m \u001b[0mengine\u001b[0m \u001b[1;33m==\u001b[0m \u001b[1;34m\"c\"\u001b[0m\u001b[1;33m:\u001b[0m\u001b[1;33m\u001b[0m\u001b[1;33m\u001b[0m\u001b[0m\n\u001b[1;32m-> 1135\u001b[1;33m             \u001b[0mself\u001b[0m\u001b[1;33m.\u001b[0m\u001b[0m_engine\u001b[0m \u001b[1;33m=\u001b[0m \u001b[0mCParserWrapper\u001b[0m\u001b[1;33m(\u001b[0m\u001b[0mself\u001b[0m\u001b[1;33m.\u001b[0m\u001b[0mf\u001b[0m\u001b[1;33m,\u001b[0m \u001b[1;33m**\u001b[0m\u001b[0mself\u001b[0m\u001b[1;33m.\u001b[0m\u001b[0moptions\u001b[0m\u001b[1;33m)\u001b[0m\u001b[1;33m\u001b[0m\u001b[1;33m\u001b[0m\u001b[0m\n\u001b[0m\u001b[0;32m   1136\u001b[0m         \u001b[1;32melse\u001b[0m\u001b[1;33m:\u001b[0m\u001b[1;33m\u001b[0m\u001b[1;33m\u001b[0m\u001b[0m\n\u001b[0;32m   1137\u001b[0m             \u001b[1;32mif\u001b[0m \u001b[0mengine\u001b[0m \u001b[1;33m==\u001b[0m \u001b[1;34m\"python\"\u001b[0m\u001b[1;33m:\u001b[0m\u001b[1;33m\u001b[0m\u001b[1;33m\u001b[0m\u001b[0m\n",
      "\u001b[1;32m~\\Anaconda3\\lib\\site-packages\\pandas\\io\\parsers.py\u001b[0m in \u001b[0;36m__init__\u001b[1;34m(self, src, **kwds)\u001b[0m\n\u001b[0;32m   1915\u001b[0m         \u001b[0mkwds\u001b[0m\u001b[1;33m[\u001b[0m\u001b[1;34m\"usecols\"\u001b[0m\u001b[1;33m]\u001b[0m \u001b[1;33m=\u001b[0m \u001b[0mself\u001b[0m\u001b[1;33m.\u001b[0m\u001b[0musecols\u001b[0m\u001b[1;33m\u001b[0m\u001b[1;33m\u001b[0m\u001b[0m\n\u001b[0;32m   1916\u001b[0m \u001b[1;33m\u001b[0m\u001b[0m\n\u001b[1;32m-> 1917\u001b[1;33m         \u001b[0mself\u001b[0m\u001b[1;33m.\u001b[0m\u001b[0m_reader\u001b[0m \u001b[1;33m=\u001b[0m \u001b[0mparsers\u001b[0m\u001b[1;33m.\u001b[0m\u001b[0mTextReader\u001b[0m\u001b[1;33m(\u001b[0m\u001b[0msrc\u001b[0m\u001b[1;33m,\u001b[0m \u001b[1;33m**\u001b[0m\u001b[0mkwds\u001b[0m\u001b[1;33m)\u001b[0m\u001b[1;33m\u001b[0m\u001b[1;33m\u001b[0m\u001b[0m\n\u001b[0m\u001b[0;32m   1918\u001b[0m         \u001b[0mself\u001b[0m\u001b[1;33m.\u001b[0m\u001b[0munnamed_cols\u001b[0m \u001b[1;33m=\u001b[0m \u001b[0mself\u001b[0m\u001b[1;33m.\u001b[0m\u001b[0m_reader\u001b[0m\u001b[1;33m.\u001b[0m\u001b[0munnamed_cols\u001b[0m\u001b[1;33m\u001b[0m\u001b[1;33m\u001b[0m\u001b[0m\n\u001b[0;32m   1919\u001b[0m \u001b[1;33m\u001b[0m\u001b[0m\n",
      "\u001b[1;32mpandas/_libs/parsers.pyx\u001b[0m in \u001b[0;36mpandas._libs.parsers.TextReader.__cinit__\u001b[1;34m()\u001b[0m\n",
      "\u001b[1;32mpandas/_libs/parsers.pyx\u001b[0m in \u001b[0;36mpandas._libs.parsers.TextReader._setup_parser_source\u001b[1;34m()\u001b[0m\n",
      "\u001b[1;31mFileNotFoundError\u001b[0m: [Errno 2] File b'C:\\\\Users\\\\Rajat\\\\Desktop\\\\PROJECT_MODE\\\\Paper_2_Aditya\\\\Transfer Learning\\\\Intel-To-ARM\\\\AMD.csv' does not exist: b'C:\\\\Users\\\\Rajat\\\\Desktop\\\\PROJECT_MODE\\\\Paper_2_Aditya\\\\Transfer Learning\\\\Intel-To-ARM\\\\AMD.csv'"
     ]
    }
   ],
   "source": [
    "all_datasets = 'C:\\\\Users\\\\Rajat\\\\Desktop\\\\PROJECT_MODE\\\\Paper_2_Aditya\\\\Dataset\\\\'\n",
    "dfn = pd.read_csv('C:\\\\Users\\\\Rajat\\\\Desktop\\\\PROJECT_MODE\\\\Paper_2_Aditya\\\\Transfer Learning\\\\Intel-To-ARM\\\\AMD.csv')\n",
    "df = pd.read_csv( 'C:\\\\Users\\\\Rajat\\\\Desktop\\\\PROJECT_MODE\\\\Paper_2_Aditya\\\\Transfer Learning\\\\Intel-To-ARM\\\\INTEL.csv')"
   ]
  },
  {
   "cell_type": "code",
   "execution_count": null,
   "metadata": {
    "colab": {
     "base_uri": "https://localhost:8080/",
     "height": 241
    },
    "colab_type": "code",
    "id": "SGDXIFQDPY8n",
    "outputId": "fa49d55f-40f2-4adf-c467-85ebaf45b5b0"
   },
   "outputs": [],
   "source": [
    "df.head()"
   ]
  },
  {
   "cell_type": "code",
   "execution_count": null,
   "metadata": {
    "colab": {
     "base_uri": "https://localhost:8080/",
     "height": 241
    },
    "colab_type": "code",
    "id": "aATDyN0fPY9l",
    "outputId": "8f2b978a-f328-4241-fa11-b543a7cbf84f"
   },
   "outputs": [],
   "source": [
    "dfn.head()"
   ]
  },
  {
   "cell_type": "code",
   "execution_count": null,
   "metadata": {
    "colab": {
     "base_uri": "https://localhost:8080/",
     "height": 255
    },
    "colab_type": "code",
    "id": "24Pvfj2GPY9z",
    "outputId": "4c90257b-aef9-494c-d5b3-259b9c9d612d"
   },
   "outputs": [],
   "source": [
    "df.columns, len(df.columns), dfn.columns, len(dfn.columns) # bus-speed is extra in physical"
   ]
  },
  {
   "cell_type": "code",
   "execution_count": 20,
   "metadata": {
    "colab": {
     "base_uri": "https://localhost:8080/",
     "height": 34
    },
    "colab_type": "code",
    "id": "VEbKBnGIPY9_",
    "outputId": "24590ef3-2136-464c-aea0-bed7b0890b4a"
   },
   "outputs": [
    {
     "data": {
      "text/plain": [
       "(1440, 570)"
      ]
     },
     "execution_count": 20,
     "metadata": {},
     "output_type": "execute_result"
    }
   ],
   "source": [
    "len(df),len(dfn)"
   ]
  },
  {
   "cell_type": "code",
   "execution_count": 21,
   "metadata": {
    "colab": {},
    "colab_type": "code",
    "id": "NdUy29hmPY-F"
   },
   "outputs": [],
   "source": [
    "encoded_data_frame, encoder_isa, encoder_mem_type = encode_text_features('encode', df, encoder_isa = None, encoder_mem_type=None)"
   ]
  },
  {
   "cell_type": "code",
   "execution_count": 22,
   "metadata": {
    "colab": {},
    "colab_type": "code",
    "id": "w9OfqWqhPY-L"
   },
   "outputs": [],
   "source": [
    "encoded_data_frame_n, encoder_isa_n, encoder_mem_type_n = encode_text_features('encode', dfn, encoder_isa = None, encoder_mem_type=None)"
   ]
  },
  {
   "cell_type": "code",
   "execution_count": 23,
   "metadata": {
    "colab": {
     "base_uri": "https://localhost:8080/",
     "height": 241
    },
    "colab_type": "code",
    "id": "vV0ZAkEEPY-T",
    "outputId": "4895e5b0-6f28-450f-b5bd-cd6f416207c4"
   },
   "outputs": [
    {
     "data": {
      "text/html": [
       "<div>\n",
       "<style scoped>\n",
       "    .dataframe tbody tr th:only-of-type {\n",
       "        vertical-align: middle;\n",
       "    }\n",
       "\n",
       "    .dataframe tbody tr th {\n",
       "        vertical-align: top;\n",
       "    }\n",
       "\n",
       "    .dataframe thead th {\n",
       "        text-align: right;\n",
       "    }\n",
       "</style>\n",
       "<table border=\"1\" class=\"dataframe\">\n",
       "  <thead>\n",
       "    <tr style=\"text-align: right;\">\n",
       "      <th></th>\n",
       "      <th>arch</th>\n",
       "      <th>cpu-clock</th>\n",
       "      <th>isa_1</th>\n",
       "      <th>l1d_assoc</th>\n",
       "      <th>l1d_cache_lines</th>\n",
       "      <th>l1d_shared_by_threads</th>\n",
       "      <th>l1d_size</th>\n",
       "      <th>l2_assoc</th>\n",
       "      <th>l2_cache_lines</th>\n",
       "      <th>l2_shared_by_threads</th>\n",
       "      <th>...</th>\n",
       "      <th>l3_size</th>\n",
       "      <th>mem-size</th>\n",
       "      <th>mem-type_1</th>\n",
       "      <th>mem-type_2</th>\n",
       "      <th>mem-type_3</th>\n",
       "      <th>mem_clock</th>\n",
       "      <th>num-cpus</th>\n",
       "      <th>PS</th>\n",
       "      <th>runtime</th>\n",
       "      <th>power</th>\n",
       "    </tr>\n",
       "  </thead>\n",
       "  <tbody>\n",
       "    <tr>\n",
       "      <th>0</th>\n",
       "      <td>IntelCorei36100U_DDR41866_2GB</td>\n",
       "      <td>2.3</td>\n",
       "      <td>1</td>\n",
       "      <td>8</td>\n",
       "      <td>64</td>\n",
       "      <td>1</td>\n",
       "      <td>32</td>\n",
       "      <td>4</td>\n",
       "      <td>64</td>\n",
       "      <td>1</td>\n",
       "      <td>...</td>\n",
       "      <td>3</td>\n",
       "      <td>2</td>\n",
       "      <td>1</td>\n",
       "      <td>0</td>\n",
       "      <td>0</td>\n",
       "      <td>1866</td>\n",
       "      <td>2</td>\n",
       "      <td>1000</td>\n",
       "      <td>584</td>\n",
       "      <td>5.56428</td>\n",
       "    </tr>\n",
       "    <tr>\n",
       "      <th>1</th>\n",
       "      <td>IntelCorei36100U_DDR41866_2GB</td>\n",
       "      <td>2.3</td>\n",
       "      <td>1</td>\n",
       "      <td>8</td>\n",
       "      <td>64</td>\n",
       "      <td>1</td>\n",
       "      <td>32</td>\n",
       "      <td>4</td>\n",
       "      <td>64</td>\n",
       "      <td>1</td>\n",
       "      <td>...</td>\n",
       "      <td>3</td>\n",
       "      <td>2</td>\n",
       "      <td>1</td>\n",
       "      <td>0</td>\n",
       "      <td>0</td>\n",
       "      <td>1866</td>\n",
       "      <td>2</td>\n",
       "      <td>2000</td>\n",
       "      <td>1230</td>\n",
       "      <td>5.70416</td>\n",
       "    </tr>\n",
       "    <tr>\n",
       "      <th>2</th>\n",
       "      <td>IntelCorei36100U_DDR41866_2GB</td>\n",
       "      <td>2.3</td>\n",
       "      <td>1</td>\n",
       "      <td>8</td>\n",
       "      <td>64</td>\n",
       "      <td>1</td>\n",
       "      <td>32</td>\n",
       "      <td>4</td>\n",
       "      <td>64</td>\n",
       "      <td>1</td>\n",
       "      <td>...</td>\n",
       "      <td>3</td>\n",
       "      <td>2</td>\n",
       "      <td>1</td>\n",
       "      <td>0</td>\n",
       "      <td>0</td>\n",
       "      <td>1866</td>\n",
       "      <td>2</td>\n",
       "      <td>3000</td>\n",
       "      <td>1929</td>\n",
       "      <td>5.63798</td>\n",
       "    </tr>\n",
       "    <tr>\n",
       "      <th>3</th>\n",
       "      <td>IntelCorei36100U_DDR41866_2GB</td>\n",
       "      <td>2.3</td>\n",
       "      <td>1</td>\n",
       "      <td>8</td>\n",
       "      <td>64</td>\n",
       "      <td>1</td>\n",
       "      <td>32</td>\n",
       "      <td>4</td>\n",
       "      <td>64</td>\n",
       "      <td>1</td>\n",
       "      <td>...</td>\n",
       "      <td>3</td>\n",
       "      <td>2</td>\n",
       "      <td>1</td>\n",
       "      <td>0</td>\n",
       "      <td>0</td>\n",
       "      <td>1866</td>\n",
       "      <td>2</td>\n",
       "      <td>4000</td>\n",
       "      <td>2653</td>\n",
       "      <td>5.61658</td>\n",
       "    </tr>\n",
       "    <tr>\n",
       "      <th>4</th>\n",
       "      <td>IntelCorei36100U_DDR41866_2GB</td>\n",
       "      <td>2.3</td>\n",
       "      <td>1</td>\n",
       "      <td>8</td>\n",
       "      <td>64</td>\n",
       "      <td>1</td>\n",
       "      <td>32</td>\n",
       "      <td>4</td>\n",
       "      <td>64</td>\n",
       "      <td>1</td>\n",
       "      <td>...</td>\n",
       "      <td>3</td>\n",
       "      <td>2</td>\n",
       "      <td>1</td>\n",
       "      <td>0</td>\n",
       "      <td>0</td>\n",
       "      <td>1866</td>\n",
       "      <td>2</td>\n",
       "      <td>5000</td>\n",
       "      <td>3409</td>\n",
       "      <td>5.58136</td>\n",
       "    </tr>\n",
       "  </tbody>\n",
       "</table>\n",
       "<p>5 rows × 24 columns</p>\n",
       "</div>"
      ],
      "text/plain": [
       "                            arch  cpu-clock  isa_1  l1d_assoc  \\\n",
       "0  IntelCorei36100U_DDR41866_2GB        2.3      1          8   \n",
       "1  IntelCorei36100U_DDR41866_2GB        2.3      1          8   \n",
       "2  IntelCorei36100U_DDR41866_2GB        2.3      1          8   \n",
       "3  IntelCorei36100U_DDR41866_2GB        2.3      1          8   \n",
       "4  IntelCorei36100U_DDR41866_2GB        2.3      1          8   \n",
       "\n",
       "   l1d_cache_lines  l1d_shared_by_threads  l1d_size  l2_assoc  l2_cache_lines  \\\n",
       "0               64                      1        32         4              64   \n",
       "1               64                      1        32         4              64   \n",
       "2               64                      1        32         4              64   \n",
       "3               64                      1        32         4              64   \n",
       "4               64                      1        32         4              64   \n",
       "\n",
       "   l2_shared_by_threads  ...  l3_size  mem-size  mem-type_1  mem-type_2  \\\n",
       "0                     1  ...        3         2           1           0   \n",
       "1                     1  ...        3         2           1           0   \n",
       "2                     1  ...        3         2           1           0   \n",
       "3                     1  ...        3         2           1           0   \n",
       "4                     1  ...        3         2           1           0   \n",
       "\n",
       "   mem-type_3  mem_clock  num-cpus    PS  runtime    power  \n",
       "0           0       1866         2  1000      584  5.56428  \n",
       "1           0       1866         2  2000     1230  5.70416  \n",
       "2           0       1866         2  3000     1929  5.63798  \n",
       "3           0       1866         2  4000     2653  5.61658  \n",
       "4           0       1866         2  5000     3409  5.58136  \n",
       "\n",
       "[5 rows x 24 columns]"
      ]
     },
     "execution_count": 23,
     "metadata": {},
     "output_type": "execute_result"
    }
   ],
   "source": [
    "encoded_data_frame.head()"
   ]
  },
  {
   "cell_type": "code",
   "execution_count": 24,
   "metadata": {
    "colab": {
     "base_uri": "https://localhost:8080/",
     "height": 241
    },
    "colab_type": "code",
    "id": "jV5-CA2OPY-Z",
    "outputId": "8e63f60e-70ad-4328-814d-e23580beefb7"
   },
   "outputs": [
    {
     "data": {
      "text/html": [
       "<div>\n",
       "<style scoped>\n",
       "    .dataframe tbody tr th:only-of-type {\n",
       "        vertical-align: middle;\n",
       "    }\n",
       "\n",
       "    .dataframe tbody tr th {\n",
       "        vertical-align: top;\n",
       "    }\n",
       "\n",
       "    .dataframe thead th {\n",
       "        text-align: right;\n",
       "    }\n",
       "</style>\n",
       "<table border=\"1\" class=\"dataframe\">\n",
       "  <thead>\n",
       "    <tr style=\"text-align: right;\">\n",
       "      <th></th>\n",
       "      <th>arch</th>\n",
       "      <th>cpu-clock</th>\n",
       "      <th>isa_1</th>\n",
       "      <th>l1d_assoc</th>\n",
       "      <th>l1d_cache_lines</th>\n",
       "      <th>l1d_shared_by_threads</th>\n",
       "      <th>l1d_size</th>\n",
       "      <th>l2_assoc</th>\n",
       "      <th>l2_cache_lines</th>\n",
       "      <th>l2_shared_by_threads</th>\n",
       "      <th>...</th>\n",
       "      <th>l3_shared_by_threads</th>\n",
       "      <th>l3_size</th>\n",
       "      <th>mem-size</th>\n",
       "      <th>mem-type_1</th>\n",
       "      <th>mem-type_2</th>\n",
       "      <th>mem_clock</th>\n",
       "      <th>num-cpus</th>\n",
       "      <th>PS</th>\n",
       "      <th>runtime</th>\n",
       "      <th>power</th>\n",
       "    </tr>\n",
       "  </thead>\n",
       "  <tbody>\n",
       "    <tr>\n",
       "      <th>0</th>\n",
       "      <td>AdvMicDevBuldzrFX4100_DDR31866_2GB</td>\n",
       "      <td>3.6</td>\n",
       "      <td>1</td>\n",
       "      <td>4</td>\n",
       "      <td>64</td>\n",
       "      <td>1</td>\n",
       "      <td>16</td>\n",
       "      <td>16</td>\n",
       "      <td>64</td>\n",
       "      <td>1</td>\n",
       "      <td>...</td>\n",
       "      <td>4</td>\n",
       "      <td>4</td>\n",
       "      <td>2</td>\n",
       "      <td>1</td>\n",
       "      <td>0</td>\n",
       "      <td>1866</td>\n",
       "      <td>4</td>\n",
       "      <td>1000</td>\n",
       "      <td>419</td>\n",
       "      <td>1.06413</td>\n",
       "    </tr>\n",
       "    <tr>\n",
       "      <th>1</th>\n",
       "      <td>AdvMicDevBuldzrFX4100_DDR31866_2GB</td>\n",
       "      <td>3.6</td>\n",
       "      <td>1</td>\n",
       "      <td>4</td>\n",
       "      <td>64</td>\n",
       "      <td>1</td>\n",
       "      <td>16</td>\n",
       "      <td>16</td>\n",
       "      <td>64</td>\n",
       "      <td>1</td>\n",
       "      <td>...</td>\n",
       "      <td>4</td>\n",
       "      <td>4</td>\n",
       "      <td>2</td>\n",
       "      <td>1</td>\n",
       "      <td>0</td>\n",
       "      <td>1866</td>\n",
       "      <td>4</td>\n",
       "      <td>2000</td>\n",
       "      <td>866</td>\n",
       "      <td>1.08300</td>\n",
       "    </tr>\n",
       "    <tr>\n",
       "      <th>2</th>\n",
       "      <td>AdvMicDevBuldzrFX4100_DDR31866_2GB</td>\n",
       "      <td>3.6</td>\n",
       "      <td>1</td>\n",
       "      <td>4</td>\n",
       "      <td>64</td>\n",
       "      <td>1</td>\n",
       "      <td>16</td>\n",
       "      <td>16</td>\n",
       "      <td>64</td>\n",
       "      <td>1</td>\n",
       "      <td>...</td>\n",
       "      <td>4</td>\n",
       "      <td>4</td>\n",
       "      <td>2</td>\n",
       "      <td>1</td>\n",
       "      <td>0</td>\n",
       "      <td>1866</td>\n",
       "      <td>4</td>\n",
       "      <td>3000</td>\n",
       "      <td>1318</td>\n",
       "      <td>1.09014</td>\n",
       "    </tr>\n",
       "    <tr>\n",
       "      <th>3</th>\n",
       "      <td>AdvMicDevBuldzrFX4100_DDR31866_2GB</td>\n",
       "      <td>3.6</td>\n",
       "      <td>1</td>\n",
       "      <td>4</td>\n",
       "      <td>64</td>\n",
       "      <td>1</td>\n",
       "      <td>16</td>\n",
       "      <td>16</td>\n",
       "      <td>64</td>\n",
       "      <td>1</td>\n",
       "      <td>...</td>\n",
       "      <td>4</td>\n",
       "      <td>4</td>\n",
       "      <td>2</td>\n",
       "      <td>1</td>\n",
       "      <td>0</td>\n",
       "      <td>1866</td>\n",
       "      <td>4</td>\n",
       "      <td>4000</td>\n",
       "      <td>1775</td>\n",
       "      <td>1.09561</td>\n",
       "    </tr>\n",
       "    <tr>\n",
       "      <th>4</th>\n",
       "      <td>AdvMicDevBuldzrFX4100_DDR31866_2GB</td>\n",
       "      <td>3.6</td>\n",
       "      <td>1</td>\n",
       "      <td>4</td>\n",
       "      <td>64</td>\n",
       "      <td>1</td>\n",
       "      <td>16</td>\n",
       "      <td>16</td>\n",
       "      <td>64</td>\n",
       "      <td>1</td>\n",
       "      <td>...</td>\n",
       "      <td>4</td>\n",
       "      <td>4</td>\n",
       "      <td>2</td>\n",
       "      <td>1</td>\n",
       "      <td>0</td>\n",
       "      <td>1866</td>\n",
       "      <td>4</td>\n",
       "      <td>5000</td>\n",
       "      <td>2249</td>\n",
       "      <td>1.09723</td>\n",
       "    </tr>\n",
       "  </tbody>\n",
       "</table>\n",
       "<p>5 rows × 23 columns</p>\n",
       "</div>"
      ],
      "text/plain": [
       "                                 arch  cpu-clock  isa_1  l1d_assoc  \\\n",
       "0  AdvMicDevBuldzrFX4100_DDR31866_2GB        3.6      1          4   \n",
       "1  AdvMicDevBuldzrFX4100_DDR31866_2GB        3.6      1          4   \n",
       "2  AdvMicDevBuldzrFX4100_DDR31866_2GB        3.6      1          4   \n",
       "3  AdvMicDevBuldzrFX4100_DDR31866_2GB        3.6      1          4   \n",
       "4  AdvMicDevBuldzrFX4100_DDR31866_2GB        3.6      1          4   \n",
       "\n",
       "   l1d_cache_lines  l1d_shared_by_threads  l1d_size  l2_assoc  l2_cache_lines  \\\n",
       "0               64                      1        16        16              64   \n",
       "1               64                      1        16        16              64   \n",
       "2               64                      1        16        16              64   \n",
       "3               64                      1        16        16              64   \n",
       "4               64                      1        16        16              64   \n",
       "\n",
       "   l2_shared_by_threads  ...  l3_shared_by_threads  l3_size  mem-size  \\\n",
       "0                     1  ...                     4        4         2   \n",
       "1                     1  ...                     4        4         2   \n",
       "2                     1  ...                     4        4         2   \n",
       "3                     1  ...                     4        4         2   \n",
       "4                     1  ...                     4        4         2   \n",
       "\n",
       "   mem-type_1  mem-type_2  mem_clock  num-cpus    PS  runtime    power  \n",
       "0           1           0       1866         4  1000      419  1.06413  \n",
       "1           1           0       1866         4  2000      866  1.08300  \n",
       "2           1           0       1866         4  3000     1318  1.09014  \n",
       "3           1           0       1866         4  4000     1775  1.09561  \n",
       "4           1           0       1866         4  5000     2249  1.09723  \n",
       "\n",
       "[5 rows x 23 columns]"
      ]
     },
     "execution_count": 24,
     "metadata": {},
     "output_type": "execute_result"
    }
   ],
   "source": [
    "encoded_data_frame_n.head()"
   ]
  },
  {
   "cell_type": "code",
   "execution_count": 25,
   "metadata": {
    "colab": {
     "base_uri": "https://localhost:8080/",
     "height": 119
    },
    "colab_type": "code",
    "id": "blMY6nwRPY-f",
    "outputId": "a0dbe4c8-71a9-4569-f7ab-a9940ea61511"
   },
   "outputs": [
    {
     "data": {
      "text/plain": [
       "Index(['arch', 'cpu-clock', 'isa_1', 'l1d_assoc', 'l1d_cache_lines',\n",
       "       'l1d_shared_by_threads', 'l1d_size', 'l2_assoc', 'l2_cache_lines',\n",
       "       'l2_shared_by_threads', 'l2_size', 'l3_assoc', 'l3_cache_lines',\n",
       "       'l3_shared_by_threads', 'l3_size', 'mem-size', 'mem-type_1',\n",
       "       'mem-type_2', 'mem-type_3', 'mem_clock', 'num-cpus', 'PS', 'runtime',\n",
       "       'power'],\n",
       "      dtype='object')"
      ]
     },
     "execution_count": 25,
     "metadata": {},
     "output_type": "execute_result"
    }
   ],
   "source": [
    "encoded_data_frame.columns"
   ]
  },
  {
   "cell_type": "code",
   "execution_count": 26,
   "metadata": {
    "colab": {
     "base_uri": "https://localhost:8080/",
     "height": 119
    },
    "colab_type": "code",
    "id": "c3gTDhCAPY-l",
    "outputId": "796141c9-2523-42f0-a7d3-8298ce67c275"
   },
   "outputs": [
    {
     "data": {
      "text/plain": [
       "Index(['arch', 'cpu-clock', 'isa_1', 'l1d_assoc', 'l1d_cache_lines',\n",
       "       'l1d_shared_by_threads', 'l1d_size', 'l2_assoc', 'l2_cache_lines',\n",
       "       'l2_shared_by_threads', 'l2_size', 'l3_assoc', 'l3_cache_lines',\n",
       "       'l3_shared_by_threads', 'l3_size', 'mem-size', 'mem-type_1',\n",
       "       'mem-type_2', 'mem_clock', 'num-cpus', 'PS', 'runtime', 'power'],\n",
       "      dtype='object')"
      ]
     },
     "execution_count": 26,
     "metadata": {},
     "output_type": "execute_result"
    }
   ],
   "source": [
    "encoded_data_frame_n.columns"
   ]
  },
  {
   "cell_type": "code",
   "execution_count": 29,
   "metadata": {
    "colab": {},
    "colab_type": "code",
    "id": "gdW80wzNPY-r"
   },
   "outputs": [],
   "source": [
    "total_data_n = encoded_data_frame_n.drop(columns = ['arch','mem-type_1','mem-type_2' ])"
   ]
  },
  {
   "cell_type": "code",
   "execution_count": 30,
   "metadata": {
    "colab": {},
    "colab_type": "code",
    "id": "FI5GNgHyPY-w"
   },
   "outputs": [],
   "source": [
    "total_data = encoded_data_frame.drop(columns = ['arch','mem-type_1','mem-type_2','mem-type_3'])"
   ]
  },
  {
   "cell_type": "code",
   "execution_count": 31,
   "metadata": {
    "colab": {
     "base_uri": "https://localhost:8080/",
     "height": 221
    },
    "colab_type": "code",
    "id": "FwLKC55GPY-3",
    "outputId": "4c06ae1b-3edc-4e66-ceb9-4525244fdd1e"
   },
   "outputs": [
    {
     "data": {
      "text/plain": [
       "(Index(['cpu-clock', 'isa_1', 'l1d_assoc', 'l1d_cache_lines',\n",
       "        'l1d_shared_by_threads', 'l1d_size', 'l2_assoc', 'l2_cache_lines',\n",
       "        'l2_shared_by_threads', 'l2_size', 'l3_assoc', 'l3_cache_lines',\n",
       "        'l3_shared_by_threads', 'l3_size', 'mem-size', 'mem_clock', 'num-cpus',\n",
       "        'PS', 'runtime', 'power'],\n",
       "       dtype='object'),\n",
       " Index(['cpu-clock', 'isa_1', 'l1d_assoc', 'l1d_cache_lines',\n",
       "        'l1d_shared_by_threads', 'l1d_size', 'l2_assoc', 'l2_cache_lines',\n",
       "        'l2_shared_by_threads', 'l2_size', 'l3_assoc', 'l3_cache_lines',\n",
       "        'l3_shared_by_threads', 'l3_size', 'mem-size', 'mem_clock', 'num-cpus',\n",
       "        'PS', 'runtime', 'power'],\n",
       "       dtype='object'))"
      ]
     },
     "execution_count": 31,
     "metadata": {},
     "output_type": "execute_result"
    }
   ],
   "source": [
    "total_data.columns, total_data_n.columns"
   ]
  },
  {
   "cell_type": "code",
   "execution_count": 32,
   "metadata": {
    "colab": {},
    "colab_type": "code",
    "id": "__UxO5IZPY--"
   },
   "outputs": [],
   "source": [
    "total_data = total_data.fillna(0)\n",
    "total_data_n = total_data_n.fillna(0)"
   ]
  },
  {
   "cell_type": "code",
   "execution_count": 33,
   "metadata": {
    "colab": {},
    "colab_type": "code",
    "id": "kgRQWlyrPY_E"
   },
   "outputs": [],
   "source": [
    "X_Intel = total_data.drop(columns = ['runtime','power']).to_numpy()\n",
    "Y_Intel = total_data[['runtime','power']].to_numpy()"
   ]
  },
  {
   "cell_type": "code",
   "execution_count": 34,
   "metadata": {
    "colab": {},
    "colab_type": "code",
    "id": "xj8_o2sGPY_J"
   },
   "outputs": [],
   "source": [
    "X_ARM = total_data_n.drop(columns = ['runtime','power']).to_numpy()\n",
    "Y_ARM = total_data_n[['runtime','power']].to_numpy()"
   ]
  },
  {
   "cell_type": "code",
   "execution_count": 35,
   "metadata": {
    "colab": {
     "base_uri": "https://localhost:8080/",
     "height": 34
    },
    "colab_type": "code",
    "id": "_GYdAqd-PY_O",
    "outputId": "48e31a7e-8100-4376-e3e8-d8fe635a0d75"
   },
   "outputs": [
    {
     "data": {
      "text/plain": [
       "((1440, 18), (570, 18), (1440, 2), (570, 2))"
      ]
     },
     "execution_count": 35,
     "metadata": {},
     "output_type": "execute_result"
    }
   ],
   "source": [
    "X_Intel.shape, X_ARM.shape, Y_Intel.shape, Y_ARM.shape"
   ]
  },
  {
   "cell_type": "code",
   "execution_count": 36,
   "metadata": {
    "colab": {
     "base_uri": "https://localhost:8080/",
     "height": 51
    },
    "colab_type": "code",
    "id": "xQM6d2M2PY_U",
    "outputId": "9cb63a54-9c57-45dc-bcc3-676533e0f3c2"
   },
   "outputs": [
    {
     "data": {
      "text/plain": [
       "(array([[ 584.     ,    5.56428],\n",
       "        [1230.     ,    5.70416],\n",
       "        [1929.     ,    5.63798],\n",
       "        [2653.     ,    5.61658],\n",
       "        [3409.     ,    5.58136],\n",
       "        [3902.     ,    5.51593],\n",
       "        [ 584.     ,    5.56428],\n",
       "        [1230.     ,    5.70416],\n",
       "        [1929.     ,    5.63798],\n",
       "        [2653.     ,    5.61658]]), array([[4.19000e+02, 1.06413e+00],\n",
       "        [8.66000e+02, 1.08300e+00],\n",
       "        [1.31800e+03, 1.09014e+00],\n",
       "        [1.77500e+03, 1.09561e+00],\n",
       "        [2.24900e+03, 1.09723e+00],\n",
       "        [2.57800e+03, 1.09313e+00],\n",
       "        [4.19000e+02, 1.06413e+00],\n",
       "        [8.66000e+02, 1.08300e+00],\n",
       "        [1.31800e+03, 1.09014e+00],\n",
       "        [1.77500e+03, 1.09561e+00]]))"
      ]
     },
     "execution_count": 36,
     "metadata": {},
     "output_type": "execute_result"
    }
   ],
   "source": [
    "Y_Intel[:10], Y_ARM[:10] "
   ]
  },
  {
   "cell_type": "code",
   "execution_count": 37,
   "metadata": {
    "colab": {
     "base_uri": "https://localhost:8080/",
     "height": 51
    },
    "colab_type": "code",
    "id": "wzbI3cIbPY_c",
    "outputId": "7bafe41f-d279-4060-a0e4-cbc477b93c33"
   },
   "outputs": [
    {
     "name": "stdout",
     "output_type": "stream",
     "text": [
      "(5, 18) (565, 18) (5, 2) (565, 2)\n",
      "(1445, 18) (1445, 2) (565, 18) (565, 2)\n"
     ]
    }
   ],
   "source": [
    "# Separating ARM data to 1% and 99%\n",
    "X_train_ARM, X_test_ARM, Y_train_ARM, Y_test_ARM = train_test_split(X_ARM, Y_ARM, test_size = 0.99, random_state=42)\n",
    "print(X_train_ARM.shape, X_test_ARM.shape, Y_train_ARM.shape, Y_test_ARM.shape)\n",
    "X_train_Intel = np.append(X_Intel, X_train_ARM,axis = 0)\n",
    "Y_train_Intel = np.append(Y_Intel, Y_train_ARM,axis = 0)\n",
    "print(X_train_Intel.shape, Y_train_Intel.shape, X_test_ARM.shape, Y_test_ARM.shape)"
   ]
  },
  {
   "cell_type": "code",
   "execution_count": 38,
   "metadata": {
    "colab": {
     "base_uri": "https://localhost:8080/",
     "height": 34
    },
    "colab_type": "code",
    "id": "hd6E2_KdPY_h",
    "outputId": "f60409af-385a-4bbf-d39f-f4f69d6dd77c"
   },
   "outputs": [
    {
     "name": "stdout",
     "output_type": "stream",
     "text": [
      "(1440, 18) (1440, 2) (5, 18) (5, 2) (565, 18) (565, 2)\n"
     ]
    }
   ],
   "source": [
    "scaler_x = StandardScaler()\n",
    "X_Intel = scaler_x.fit_transform(X_Intel)\n",
    "X_train_ARM = scaler_x.fit_transform(X_train_ARM)\n",
    "X_test_ARM = scaler_x.fit_transform(X_test_ARM)\n",
    "scaler_y = StandardScaler()\n",
    "# Y_Intel = np.reshape(Y_Intel, (len(Y_Intel),1))\n",
    "# Y_test_ARM = np.reshape(Y_test_ARM, (len(Y_test_ARM),1))\n",
    "# Y_train_ARM = np.reshape(Y_train_ARM, (len(Y_train_ARM),1))\n",
    "Y_Intel = scaler_y.fit_transform(Y_Intel)\n",
    "Y_test_ARM = scaler_y.fit_transform(Y_test_ARM)\n",
    "Y_train_ARM = scaler_y.fit_transform(Y_train_ARM)\n",
    "print(X_Intel.shape, Y_Intel.shape, X_train_ARM.shape, Y_train_ARM.shape, X_test_ARM.shape, Y_test_ARM.shape)"
   ]
  },
  {
   "cell_type": "code",
   "execution_count": 39,
   "metadata": {
    "colab": {},
    "colab_type": "code",
    "id": "eEfGmTi8PY_s"
   },
   "outputs": [],
   "source": [
    "def absolute_percentage_error(Y_test, Y_pred):\n",
    "    error = 0\n",
    "    for i in range(len(Y_test)):\n",
    "        if(Y_test[i]!= 0 ):\n",
    "            error = error + (abs(Y_test[i] - Y_pred[i]))/Y_test[i]\n",
    "        \n",
    "    error = error/ len(Y_test)\n",
    "    return error"
   ]
  },
  {
   "cell_type": "code",
   "execution_count": 3,
   "metadata": {
    "colab": {
     "base_uri": "https://localhost:8080/",
     "height": 877
    },
    "colab_type": "code",
    "id": "6YqBJdtvPY_y",
    "outputId": "e3c52eab-0e2c-4c49-c10b-372988f70105"
   },
   "outputs": [
    {
     "ename": "TypeError",
     "evalue": "unsupported operand type(s) for +: 'NoneType' and 'int'",
     "output_type": "error",
     "traceback": [
      "\u001b[1;31m---------------------------------------------------------------------------\u001b[0m",
      "\u001b[1;31mTypeError\u001b[0m                                 Traceback (most recent call last)",
      "\u001b[1;32m<ipython-input-3-d93fd3b2d0b8>\u001b[0m in \u001b[0;36m<module>\u001b[1;34m\u001b[0m\n\u001b[0;32m      1\u001b[0m \u001b[0mdnn_2\u001b[0m \u001b[1;33m=\u001b[0m \u001b[0mSequential\u001b[0m\u001b[1;33m(\u001b[0m\u001b[1;33m)\u001b[0m\u001b[1;33m\u001b[0m\u001b[1;33m\u001b[0m\u001b[0m\n\u001b[1;32m----> 2\u001b[1;33m \u001b[0mdnn_2\u001b[0m\u001b[1;33m.\u001b[0m\u001b[0madd\u001b[0m\u001b[1;33m(\u001b[0m\u001b[0mDense\u001b[0m\u001b[1;33m(\u001b[0m\u001b[1;36m64\u001b[0m\u001b[1;33m,\u001b[0m \u001b[0minput_dim\u001b[0m \u001b[1;33m=\u001b[0m \u001b[1;32mNone\u001b[0m\u001b[1;33m,\u001b[0m \u001b[0mactivation\u001b[0m\u001b[1;33m=\u001b[0m\u001b[1;34m'relu'\u001b[0m\u001b[1;33m)\u001b[0m\u001b[1;33m)\u001b[0m\u001b[1;33m\u001b[0m\u001b[1;33m\u001b[0m\u001b[0m\n\u001b[0m\u001b[0;32m      3\u001b[0m \u001b[1;31m# dnn_2.add(Dropout(0.4))\u001b[0m\u001b[1;33m\u001b[0m\u001b[1;33m\u001b[0m\u001b[1;33m\u001b[0m\u001b[0m\n\u001b[0;32m      4\u001b[0m \u001b[0mdnn_2\u001b[0m\u001b[1;33m.\u001b[0m\u001b[0madd\u001b[0m\u001b[1;33m(\u001b[0m\u001b[0mDense\u001b[0m\u001b[1;33m(\u001b[0m\u001b[1;36m64\u001b[0m\u001b[1;33m,\u001b[0m \u001b[0mactivation\u001b[0m\u001b[1;33m=\u001b[0m\u001b[1;34m'relu'\u001b[0m\u001b[1;33m)\u001b[0m\u001b[1;33m)\u001b[0m\u001b[1;33m\u001b[0m\u001b[1;33m\u001b[0m\u001b[0m\n\u001b[0;32m      5\u001b[0m \u001b[1;31m# dnn_2.add(Dropout(0.4))\u001b[0m\u001b[1;33m\u001b[0m\u001b[1;33m\u001b[0m\u001b[1;33m\u001b[0m\u001b[0m\n",
      "\u001b[1;32m~\\Anaconda3\\lib\\site-packages\\keras\\engine\\sequential.py\u001b[0m in \u001b[0;36madd\u001b[1;34m(self, layer)\u001b[0m\n\u001b[0;32m    164\u001b[0m                     \u001b[1;31m# and create the node connecting the current layer\u001b[0m\u001b[1;33m\u001b[0m\u001b[1;33m\u001b[0m\u001b[1;33m\u001b[0m\u001b[0m\n\u001b[0;32m    165\u001b[0m                     \u001b[1;31m# to the input layer we just created.\u001b[0m\u001b[1;33m\u001b[0m\u001b[1;33m\u001b[0m\u001b[1;33m\u001b[0m\u001b[0m\n\u001b[1;32m--> 166\u001b[1;33m                     \u001b[0mlayer\u001b[0m\u001b[1;33m(\u001b[0m\u001b[0mx\u001b[0m\u001b[1;33m)\u001b[0m\u001b[1;33m\u001b[0m\u001b[1;33m\u001b[0m\u001b[0m\n\u001b[0m\u001b[0;32m    167\u001b[0m                     \u001b[0mset_inputs\u001b[0m \u001b[1;33m=\u001b[0m \u001b[1;32mTrue\u001b[0m\u001b[1;33m\u001b[0m\u001b[1;33m\u001b[0m\u001b[0m\n\u001b[0;32m    168\u001b[0m             \u001b[1;32melse\u001b[0m\u001b[1;33m:\u001b[0m\u001b[1;33m\u001b[0m\u001b[1;33m\u001b[0m\u001b[0m\n",
      "\u001b[1;32m~\\Anaconda3\\lib\\site-packages\\keras\\engine\\base_layer.py\u001b[0m in \u001b[0;36m__call__\u001b[1;34m(self, inputs, **kwargs)\u001b[0m\n\u001b[0;32m    461\u001b[0m                                          \u001b[1;34m'You can build it manually via: '\u001b[0m\u001b[1;33m\u001b[0m\u001b[1;33m\u001b[0m\u001b[0m\n\u001b[0;32m    462\u001b[0m                                          '`layer.build(batch_input_shape)`')\n\u001b[1;32m--> 463\u001b[1;33m                 \u001b[0mself\u001b[0m\u001b[1;33m.\u001b[0m\u001b[0mbuild\u001b[0m\u001b[1;33m(\u001b[0m\u001b[0munpack_singleton\u001b[0m\u001b[1;33m(\u001b[0m\u001b[0minput_shapes\u001b[0m\u001b[1;33m)\u001b[0m\u001b[1;33m)\u001b[0m\u001b[1;33m\u001b[0m\u001b[1;33m\u001b[0m\u001b[0m\n\u001b[0m\u001b[0;32m    464\u001b[0m                 \u001b[0mself\u001b[0m\u001b[1;33m.\u001b[0m\u001b[0mbuilt\u001b[0m \u001b[1;33m=\u001b[0m \u001b[1;32mTrue\u001b[0m\u001b[1;33m\u001b[0m\u001b[1;33m\u001b[0m\u001b[0m\n\u001b[0;32m    465\u001b[0m \u001b[1;33m\u001b[0m\u001b[0m\n",
      "\u001b[1;32m~\\Anaconda3\\lib\\site-packages\\keras\\layers\\core.py\u001b[0m in \u001b[0;36mbuild\u001b[1;34m(self, input_shape)\u001b[0m\n\u001b[0;32m    893\u001b[0m                                       \u001b[0mname\u001b[0m\u001b[1;33m=\u001b[0m\u001b[1;34m'kernel'\u001b[0m\u001b[1;33m,\u001b[0m\u001b[1;33m\u001b[0m\u001b[1;33m\u001b[0m\u001b[0m\n\u001b[0;32m    894\u001b[0m                                       \u001b[0mregularizer\u001b[0m\u001b[1;33m=\u001b[0m\u001b[0mself\u001b[0m\u001b[1;33m.\u001b[0m\u001b[0mkernel_regularizer\u001b[0m\u001b[1;33m,\u001b[0m\u001b[1;33m\u001b[0m\u001b[1;33m\u001b[0m\u001b[0m\n\u001b[1;32m--> 895\u001b[1;33m                                       constraint=self.kernel_constraint)\n\u001b[0m\u001b[0;32m    896\u001b[0m         \u001b[1;32mif\u001b[0m \u001b[0mself\u001b[0m\u001b[1;33m.\u001b[0m\u001b[0muse_bias\u001b[0m\u001b[1;33m:\u001b[0m\u001b[1;33m\u001b[0m\u001b[1;33m\u001b[0m\u001b[0m\n\u001b[0;32m    897\u001b[0m             self.bias = self.add_weight(shape=(self.units,),\n",
      "\u001b[1;32m~\\Anaconda3\\lib\\site-packages\\keras\\engine\\base_layer.py\u001b[0m in \u001b[0;36madd_weight\u001b[1;34m(self, name, shape, dtype, initializer, regularizer, trainable, constraint)\u001b[0m\n\u001b[0;32m    277\u001b[0m         \u001b[1;32mif\u001b[0m \u001b[0mdtype\u001b[0m \u001b[1;32mis\u001b[0m \u001b[1;32mNone\u001b[0m\u001b[1;33m:\u001b[0m\u001b[1;33m\u001b[0m\u001b[1;33m\u001b[0m\u001b[0m\n\u001b[0;32m    278\u001b[0m             \u001b[0mdtype\u001b[0m \u001b[1;33m=\u001b[0m \u001b[0mself\u001b[0m\u001b[1;33m.\u001b[0m\u001b[0mdtype\u001b[0m\u001b[1;33m\u001b[0m\u001b[1;33m\u001b[0m\u001b[0m\n\u001b[1;32m--> 279\u001b[1;33m         weight = K.variable(initializer(shape, dtype=dtype),\n\u001b[0m\u001b[0;32m    280\u001b[0m                             \u001b[0mdtype\u001b[0m\u001b[1;33m=\u001b[0m\u001b[0mdtype\u001b[0m\u001b[1;33m,\u001b[0m\u001b[1;33m\u001b[0m\u001b[1;33m\u001b[0m\u001b[0m\n\u001b[0;32m    281\u001b[0m                             \u001b[0mname\u001b[0m\u001b[1;33m=\u001b[0m\u001b[0mname\u001b[0m\u001b[1;33m,\u001b[0m\u001b[1;33m\u001b[0m\u001b[1;33m\u001b[0m\u001b[0m\n",
      "\u001b[1;32m~\\Anaconda3\\lib\\site-packages\\keras\\initializers.py\u001b[0m in \u001b[0;36m__call__\u001b[1;34m(self, shape, dtype)\u001b[0m\n\u001b[0;32m    216\u001b[0m             \u001b[0mscale\u001b[0m \u001b[1;33m/=\u001b[0m \u001b[0mmax\u001b[0m\u001b[1;33m(\u001b[0m\u001b[1;36m1.\u001b[0m\u001b[1;33m,\u001b[0m \u001b[0mfan_out\u001b[0m\u001b[1;33m)\u001b[0m\u001b[1;33m\u001b[0m\u001b[1;33m\u001b[0m\u001b[0m\n\u001b[0;32m    217\u001b[0m         \u001b[1;32melse\u001b[0m\u001b[1;33m:\u001b[0m\u001b[1;33m\u001b[0m\u001b[1;33m\u001b[0m\u001b[0m\n\u001b[1;32m--> 218\u001b[1;33m             \u001b[0mscale\u001b[0m \u001b[1;33m/=\u001b[0m \u001b[0mmax\u001b[0m\u001b[1;33m(\u001b[0m\u001b[1;36m1.\u001b[0m\u001b[1;33m,\u001b[0m \u001b[0mfloat\u001b[0m\u001b[1;33m(\u001b[0m\u001b[0mfan_in\u001b[0m \u001b[1;33m+\u001b[0m \u001b[0mfan_out\u001b[0m\u001b[1;33m)\u001b[0m \u001b[1;33m/\u001b[0m \u001b[1;36m2\u001b[0m\u001b[1;33m)\u001b[0m\u001b[1;33m\u001b[0m\u001b[1;33m\u001b[0m\u001b[0m\n\u001b[0m\u001b[0;32m    219\u001b[0m         \u001b[1;32mif\u001b[0m \u001b[0mself\u001b[0m\u001b[1;33m.\u001b[0m\u001b[0mdistribution\u001b[0m \u001b[1;33m==\u001b[0m \u001b[1;34m'normal'\u001b[0m\u001b[1;33m:\u001b[0m\u001b[1;33m\u001b[0m\u001b[1;33m\u001b[0m\u001b[0m\n\u001b[0;32m    220\u001b[0m             \u001b[1;31m# 0.879... = scipy.stats.truncnorm.std(a=-2, b=2, loc=0., scale=1.)\u001b[0m\u001b[1;33m\u001b[0m\u001b[1;33m\u001b[0m\u001b[1;33m\u001b[0m\u001b[0m\n",
      "\u001b[1;31mTypeError\u001b[0m: unsupported operand type(s) for +: 'NoneType' and 'int'"
     ]
    }
   ],
   "source": [
    "dnn_2 = Sequential()\n",
    "dnn_2.add(Dense(64, input_dim = 18, activation='relu'))\n",
    "# dnn_2.add(Dropout(0.4))\n",
    "dnn_2.add(Dense(64, activation='relu'))\n",
    "# dnn_2.add(Dropout(0.4))\n",
    "dnn_2.add(Dense(64, activation='relu'))\n",
    "# dnn_2.add(Dropout(0.4))\n",
    "dnn_2.add(Dense(2, activation='linear'))\n",
    "print('Model : DNN 2', dnn_2.summary())\n",
    "plot_model(dnn_2, show_shapes = True, to_file = 'dnn.png')"
   ]
  },
  {
   "cell_type": "code",
   "execution_count": 44,
   "metadata": {
    "colab": {
     "base_uri": "https://localhost:8080/",
     "height": 1000
    },
    "colab_type": "code",
    "id": "_6Uox_BtPY_6",
    "outputId": "c2dd3a9b-ec28-4959-9daf-5a21ac33ce9f"
   },
   "outputs": [
    {
     "name": "stdout",
     "output_type": "stream",
     "text": [
      "WARNING:tensorflow:From C:\\Users\\Rajat\\Anaconda3\\lib\\site-packages\\tensorflow\\python\\ops\\math_ops.py:3066: to_int32 (from tensorflow.python.ops.math_ops) is deprecated and will be removed in a future version.\n",
      "Instructions for updating:\n",
      "Use tf.cast instead.\n",
      "Epoch 1/100\n",
      " - 0s - loss: 0.2867 - mae: 0.2867\n",
      "Epoch 2/100\n",
      " - 0s - loss: 0.0745 - mae: 0.0745\n",
      "Epoch 3/100\n",
      " - 0s - loss: 0.0547 - mae: 0.0547\n",
      "Epoch 4/100\n",
      " - 0s - loss: 0.0489 - mae: 0.0489\n",
      "Epoch 5/100\n",
      " - 0s - loss: 0.0494 - mae: 0.0494\n",
      "Epoch 6/100\n",
      " - 0s - loss: 0.0428 - mae: 0.0428\n",
      "Epoch 7/100\n",
      " - 0s - loss: 0.0432 - mae: 0.0432\n",
      "Epoch 8/100\n",
      " - 0s - loss: 0.0376 - mae: 0.0376\n",
      "Epoch 9/100\n",
      " - 0s - loss: 0.0351 - mae: 0.0351\n",
      "Epoch 10/100\n",
      " - 0s - loss: 0.0348 - mae: 0.0348\n",
      "Epoch 11/100\n",
      " - 0s - loss: 0.0349 - mae: 0.0349\n",
      "Epoch 12/100\n",
      " - 0s - loss: 0.0336 - mae: 0.0336\n",
      "Epoch 13/100\n",
      " - 0s - loss: 0.0326 - mae: 0.0326\n",
      "Epoch 14/100\n",
      " - 0s - loss: 0.0329 - mae: 0.0329\n",
      "Epoch 15/100\n",
      " - 0s - loss: 0.0302 - mae: 0.0302\n",
      "Epoch 16/100\n",
      " - 0s - loss: 0.0315 - mae: 0.0315\n",
      "Epoch 17/100\n",
      " - 0s - loss: 0.0315 - mae: 0.0315\n",
      "Epoch 18/100\n",
      " - 0s - loss: 0.0320 - mae: 0.0320\n",
      "Epoch 19/100\n",
      " - 0s - loss: 0.0285 - mae: 0.0285\n",
      "Epoch 20/100\n",
      " - 0s - loss: 0.0300 - mae: 0.0300\n",
      "Epoch 21/100\n",
      " - 0s - loss: 0.0295 - mae: 0.0295\n",
      "Epoch 22/100\n",
      " - 0s - loss: 0.0278 - mae: 0.0278\n",
      "Epoch 23/100\n",
      " - 0s - loss: 0.0286 - mae: 0.0286\n",
      "Epoch 24/100\n",
      " - 0s - loss: 0.0274 - mae: 0.0274\n",
      "Epoch 25/100\n",
      " - 0s - loss: 0.0278 - mae: 0.0278\n",
      "Epoch 26/100\n",
      " - 0s - loss: 0.0252 - mae: 0.0252\n",
      "Epoch 27/100\n",
      " - 0s - loss: 0.0282 - mae: 0.0282\n",
      "Epoch 28/100\n",
      " - 0s - loss: 0.0254 - mae: 0.0254\n",
      "Epoch 29/100\n",
      " - 0s - loss: 0.0264 - mae: 0.0264\n",
      "Epoch 30/100\n",
      " - 0s - loss: 0.0256 - mae: 0.0256\n",
      "Epoch 31/100\n",
      " - 0s - loss: 0.0275 - mae: 0.0275\n",
      "Epoch 32/100\n",
      " - 0s - loss: 0.0245 - mae: 0.0245\n",
      "Epoch 33/100\n",
      " - 0s - loss: 0.0275 - mae: 0.0275\n",
      "Epoch 34/100\n",
      " - 0s - loss: 0.0245 - mae: 0.0245\n",
      "Epoch 35/100\n",
      " - 0s - loss: 0.0236 - mae: 0.0236\n",
      "Epoch 36/100\n",
      " - 0s - loss: 0.0265 - mae: 0.0265\n",
      "Epoch 37/100\n",
      " - 0s - loss: 0.0261 - mae: 0.0261\n",
      "Epoch 38/100\n",
      " - 0s - loss: 0.0230 - mae: 0.0230\n",
      "Epoch 39/100\n",
      " - 0s - loss: 0.0233 - mae: 0.0233\n",
      "Epoch 40/100\n",
      " - 0s - loss: 0.0265 - mae: 0.0265\n",
      "Epoch 41/100\n",
      " - 0s - loss: 0.0248 - mae: 0.0248\n",
      "Epoch 42/100\n",
      " - 0s - loss: 0.0290 - mae: 0.0290\n",
      "Epoch 43/100\n",
      " - 0s - loss: 0.0257 - mae: 0.0257\n",
      "Epoch 44/100\n",
      " - 0s - loss: 0.0224 - mae: 0.0224\n",
      "Epoch 45/100\n",
      " - 0s - loss: 0.0214 - mae: 0.0214\n",
      "Epoch 46/100\n",
      " - 0s - loss: 0.0215 - mae: 0.0215\n",
      "Epoch 47/100\n",
      " - 0s - loss: 0.0232 - mae: 0.0232\n",
      "Epoch 48/100\n",
      " - 0s - loss: 0.0203 - mae: 0.0203\n",
      "Epoch 49/100\n",
      " - 0s - loss: 0.0232 - mae: 0.0232\n",
      "Epoch 50/100\n",
      " - 0s - loss: 0.0195 - mae: 0.0195\n",
      "Epoch 51/100\n",
      " - 0s - loss: 0.0239 - mae: 0.0239\n",
      "Epoch 52/100\n",
      " - 0s - loss: 0.0217 - mae: 0.0217\n",
      "Epoch 53/100\n",
      " - 0s - loss: 0.0218 - mae: 0.0218\n",
      "Epoch 54/100\n",
      " - 0s - loss: 0.0201 - mae: 0.0201\n",
      "Epoch 55/100\n",
      " - 0s - loss: 0.0195 - mae: 0.0195\n",
      "Epoch 56/100\n",
      " - 0s - loss: 0.0202 - mae: 0.0202\n",
      "Epoch 57/100\n",
      " - 0s - loss: 0.0227 - mae: 0.0227\n",
      "Epoch 58/100\n",
      " - 0s - loss: 0.0240 - mae: 0.0240\n",
      "Epoch 59/100\n",
      " - 0s - loss: 0.0194 - mae: 0.0194\n",
      "Epoch 60/100\n",
      " - 0s - loss: 0.0213 - mae: 0.0213\n",
      "Epoch 61/100\n",
      " - 0s - loss: 0.0222 - mae: 0.0222\n",
      "Epoch 62/100\n",
      " - 0s - loss: 0.0197 - mae: 0.0197\n",
      "Epoch 63/100\n",
      " - 0s - loss: 0.0211 - mae: 0.0211\n",
      "Epoch 64/100\n",
      " - 0s - loss: 0.0192 - mae: 0.0192\n",
      "Epoch 65/100\n",
      " - 0s - loss: 0.0193 - mae: 0.0193\n",
      "Epoch 66/100\n",
      " - 0s - loss: 0.0196 - mae: 0.0196\n",
      "Epoch 67/100\n",
      " - 0s - loss: 0.0197 - mae: 0.0197\n",
      "Epoch 68/100\n",
      " - 0s - loss: 0.0203 - mae: 0.0203\n",
      "Epoch 69/100\n",
      " - 0s - loss: 0.0207 - mae: 0.0207\n",
      "Epoch 70/100\n",
      " - 0s - loss: 0.0209 - mae: 0.0209\n",
      "Epoch 71/100\n",
      " - 0s - loss: 0.0216 - mae: 0.0216\n",
      "Epoch 72/100\n",
      " - 0s - loss: 0.0209 - mae: 0.0209\n",
      "Epoch 73/100\n",
      " - 0s - loss: 0.0222 - mae: 0.0222\n",
      "Epoch 74/100\n",
      " - 0s - loss: 0.0200 - mae: 0.0200\n",
      "Epoch 75/100\n",
      " - 0s - loss: 0.0186 - mae: 0.0186\n",
      "Epoch 76/100\n",
      " - 0s - loss: 0.0198 - mae: 0.0198\n",
      "Epoch 77/100\n",
      " - 0s - loss: 0.0200 - mae: 0.0200\n",
      "Epoch 78/100\n",
      " - 0s - loss: 0.0207 - mae: 0.0207\n",
      "Epoch 79/100\n",
      " - 0s - loss: 0.0186 - mae: 0.0186\n",
      "Epoch 80/100\n",
      " - 0s - loss: 0.0209 - mae: 0.0209\n",
      "Epoch 81/100\n",
      " - 0s - loss: 0.0188 - mae: 0.0188\n",
      "Epoch 82/100\n",
      " - 0s - loss: 0.0218 - mae: 0.0218\n",
      "Epoch 83/100\n",
      " - 0s - loss: 0.0174 - mae: 0.0174\n",
      "Epoch 84/100\n",
      " - 0s - loss: 0.0185 - mae: 0.0185\n",
      "Epoch 85/100\n",
      " - 0s - loss: 0.0175 - mae: 0.0175\n",
      "Epoch 86/100\n",
      " - 0s - loss: 0.0177 - mae: 0.0177\n",
      "Epoch 87/100\n",
      " - 0s - loss: 0.0194 - mae: 0.0194\n",
      "Epoch 88/100\n",
      " - 0s - loss: 0.0188 - mae: 0.0188\n",
      "Epoch 89/100\n",
      " - 0s - loss: 0.0168 - mae: 0.0168\n",
      "Epoch 90/100\n",
      " - 0s - loss: 0.0205 - mae: 0.0205\n",
      "Epoch 91/100\n",
      " - 0s - loss: 0.0190 - mae: 0.0190\n",
      "Epoch 92/100\n",
      " - 0s - loss: 0.0195 - mae: 0.0195\n",
      "Epoch 93/100\n",
      " - 0s - loss: 0.0187 - mae: 0.0187\n",
      "Epoch 94/100\n",
      " - 0s - loss: 0.0217 - mae: 0.0217\n",
      "Epoch 95/100\n",
      " - 0s - loss: 0.0176 - mae: 0.0176\n",
      "Epoch 96/100\n",
      " - 0s - loss: 0.0190 - mae: 0.0190\n",
      "Epoch 97/100\n",
      " - 0s - loss: 0.0190 - mae: 0.0190\n",
      "Epoch 98/100\n",
      " - 0s - loss: 0.0206 - mae: 0.0206\n",
      "Epoch 99/100\n",
      " - 0s - loss: 0.0185 - mae: 0.0185\n",
      "Epoch 100/100\n",
      " - 0s - loss: 0.0164 - mae: 0.0164\n"
     ]
    },
    {
     "data": {
      "text/plain": [
       "<keras.callbacks.callbacks.History at 0x278a7c0e80>"
      ]
     },
     "execution_count": 44,
     "metadata": {},
     "output_type": "execute_result"
    }
   ],
   "source": [
    "dnn_2.compile(loss='mae', optimizer='adam', metrics=['mae'])\n",
    "dnn_2.fit(X_Intel, Y_Intel, epochs = 100, batch_size = 10, verbose = 2)"
   ]
  },
  {
   "cell_type": "code",
   "execution_count": 45,
   "metadata": {
    "colab": {
     "base_uri": "https://localhost:8080/",
     "height": 119
    },
    "colab_type": "code",
    "id": "VRdnw9J7lmzM",
    "outputId": "7aad1392-5439-41d6-c333-fc0528b50adf"
   },
   "outputs": [
    {
     "name": "stdout",
     "output_type": "stream",
     "text": [
      "<keras.layers.core.Dense object at 0x000000278A5BEB00>\n",
      "<keras.layers.core.Dense object at 0x000000278A5BEB70>\n",
      "<keras.layers.core.Dense object at 0x000000278A5BEB00> False\n",
      "<keras.layers.core.Dense object at 0x000000278A5BEB70> False\n",
      "<keras.layers.core.Dense object at 0x000000278A5BEDA0> True\n",
      "<keras.layers.core.Dense object at 0x000000278A74CD30> True\n"
     ]
    }
   ],
   "source": [
    "# Freeze the layers except the last 2 dense layers\n",
    "for layer in dnn_2.layers[:-2]:\n",
    "    layer.trainable = False\n",
    "    print(layer)\n",
    "\n",
    "# Check the trainable status of the individual layers\n",
    "for layer in dnn_2.layers:\n",
    "    print(layer, layer.trainable)"
   ]
  },
  {
   "cell_type": "code",
   "execution_count": 52,
   "metadata": {
    "colab": {
     "base_uri": "https://localhost:8080/",
     "height": 1000
    },
    "colab_type": "code",
    "id": "vz67fVoLmf3x",
    "outputId": "daf6a438-a652-4c6c-9fae-266efc4d5c98"
   },
   "outputs": [
    {
     "name": "stderr",
     "output_type": "stream",
     "text": [
      "C:\\Users\\Rajat\\Anaconda3\\lib\\site-packages\\keras\\engine\\training.py:297: UserWarning: Discrepancy between trainable weights and collected trainable weights, did you set `model.trainable` without calling `model.compile` after ?\n",
      "  'Discrepancy between trainable weights and collected trainable'\n"
     ]
    },
    {
     "name": "stdout",
     "output_type": "stream",
     "text": [
      "Epoch 1/100\n",
      " - 0s - loss: 0.0444 - mae: 0.0444\n",
      "Epoch 2/100\n",
      " - 0s - loss: 0.0540 - mae: 0.0540\n",
      "Epoch 3/100\n",
      " - 0s - loss: 0.0442 - mae: 0.0442\n",
      "Epoch 4/100\n",
      " - 0s - loss: 0.0622 - mae: 0.0622\n",
      "Epoch 5/100\n",
      " - 0s - loss: 0.0394 - mae: 0.0394\n",
      "Epoch 6/100\n",
      " - 0s - loss: 0.0528 - mae: 0.0528\n",
      "Epoch 7/100\n",
      " - 0s - loss: 0.0666 - mae: 0.0666\n",
      "Epoch 8/100\n",
      " - 0s - loss: 0.0552 - mae: 0.0552\n",
      "Epoch 9/100\n",
      " - 0s - loss: 0.0344 - mae: 0.0344\n",
      "Epoch 10/100\n",
      " - 0s - loss: 0.0384 - mae: 0.0384\n",
      "Epoch 11/100\n",
      " - 0s - loss: 0.0213 - mae: 0.0213\n",
      "Epoch 12/100\n",
      " - 0s - loss: 0.0395 - mae: 0.0395\n",
      "Epoch 13/100\n",
      " - 0s - loss: 0.0407 - mae: 0.0407\n",
      "Epoch 14/100\n",
      " - 0s - loss: 0.0573 - mae: 0.0573\n",
      "Epoch 15/100\n",
      " - 0s - loss: 0.0441 - mae: 0.0441\n",
      "Epoch 16/100\n",
      " - 0s - loss: 0.0379 - mae: 0.0379\n",
      "Epoch 17/100\n",
      " - 0s - loss: 0.0506 - mae: 0.0506\n",
      "Epoch 18/100\n",
      " - 0s - loss: 0.0527 - mae: 0.0527\n",
      "Epoch 19/100\n",
      " - 0s - loss: 0.0297 - mae: 0.0297\n",
      "Epoch 20/100\n",
      " - 0s - loss: 0.0416 - mae: 0.0416\n",
      "Epoch 21/100\n",
      " - 0s - loss: 0.0432 - mae: 0.0432\n",
      "Epoch 22/100\n",
      " - 0s - loss: 0.0478 - mae: 0.0478\n",
      "Epoch 23/100\n",
      " - 0s - loss: 0.0414 - mae: 0.0414\n",
      "Epoch 24/100\n",
      " - 0s - loss: 0.0482 - mae: 0.0482\n",
      "Epoch 25/100\n",
      " - 0s - loss: 0.0456 - mae: 0.0456\n",
      "Epoch 26/100\n",
      " - 0s - loss: 0.0279 - mae: 0.0279\n",
      "Epoch 27/100\n",
      " - 0s - loss: 0.0205 - mae: 0.0205\n",
      "Epoch 28/100\n",
      " - 0s - loss: 0.0319 - mae: 0.0319\n",
      "Epoch 29/100\n",
      " - 0s - loss: 0.0370 - mae: 0.0370\n",
      "Epoch 30/100\n",
      " - 0s - loss: 0.0288 - mae: 0.0288\n",
      "Epoch 31/100\n",
      " - 0s - loss: 0.0273 - mae: 0.0273\n",
      "Epoch 32/100\n",
      " - 0s - loss: 0.0284 - mae: 0.0284\n",
      "Epoch 33/100\n",
      " - 0s - loss: 0.0456 - mae: 0.0456\n",
      "Epoch 34/100\n",
      " - 0s - loss: 0.0431 - mae: 0.0431\n",
      "Epoch 35/100\n",
      " - 0s - loss: 0.0270 - mae: 0.0270\n",
      "Epoch 36/100\n",
      " - 0s - loss: 0.0440 - mae: 0.0440\n",
      "Epoch 37/100\n",
      " - 0s - loss: 0.0512 - mae: 0.0512\n",
      "Epoch 38/100\n",
      " - 0s - loss: 0.0352 - mae: 0.0352\n",
      "Epoch 39/100\n",
      " - 0s - loss: 0.0292 - mae: 0.0292\n",
      "Epoch 40/100\n",
      " - 0s - loss: 0.0432 - mae: 0.0432\n",
      "Epoch 41/100\n",
      " - 0s - loss: 0.0333 - mae: 0.0333\n",
      "Epoch 42/100\n",
      " - 0s - loss: 0.0469 - mae: 0.0469\n",
      "Epoch 43/100\n",
      " - 0s - loss: 0.0473 - mae: 0.0473\n",
      "Epoch 44/100\n",
      " - 0s - loss: 0.0212 - mae: 0.0212\n",
      "Epoch 45/100\n",
      " - 0s - loss: 0.0215 - mae: 0.0215\n",
      "Epoch 46/100\n",
      " - 0s - loss: 0.0284 - mae: 0.0284\n",
      "Epoch 47/100\n",
      " - 0s - loss: 0.0277 - mae: 0.0277\n",
      "Epoch 48/100\n",
      " - 0s - loss: 0.0412 - mae: 0.0412\n",
      "Epoch 49/100\n",
      " - 0s - loss: 0.0418 - mae: 0.0418\n",
      "Epoch 50/100\n",
      " - 0s - loss: 0.0428 - mae: 0.0428\n",
      "Epoch 51/100\n",
      " - 0s - loss: 0.0545 - mae: 0.0545\n",
      "Epoch 52/100\n",
      " - 0s - loss: 0.0489 - mae: 0.0489\n",
      "Epoch 53/100\n",
      " - 0s - loss: 0.0495 - mae: 0.0495\n",
      "Epoch 54/100\n",
      " - 0s - loss: 0.0571 - mae: 0.0571\n",
      "Epoch 55/100\n",
      " - 0s - loss: 0.0332 - mae: 0.0332\n",
      "Epoch 56/100\n",
      " - 0s - loss: 0.0468 - mae: 0.0468\n",
      "Epoch 57/100\n",
      " - 0s - loss: 0.0658 - mae: 0.0658\n",
      "Epoch 58/100\n",
      " - 0s - loss: 0.0504 - mae: 0.0504\n",
      "Epoch 59/100\n",
      " - 0s - loss: 0.0505 - mae: 0.0505\n",
      "Epoch 60/100\n",
      " - 0s - loss: 0.0440 - mae: 0.0440\n",
      "Epoch 61/100\n",
      " - 0s - loss: 0.0498 - mae: 0.0498\n",
      "Epoch 62/100\n",
      " - 0s - loss: 0.0264 - mae: 0.0264\n",
      "Epoch 63/100\n",
      " - 0s - loss: 0.0240 - mae: 0.0240\n",
      "Epoch 64/100\n",
      " - 0s - loss: 0.0431 - mae: 0.0431\n",
      "Epoch 65/100\n",
      " - 0s - loss: 0.0355 - mae: 0.0355\n",
      "Epoch 66/100\n",
      " - 0s - loss: 0.0382 - mae: 0.0382\n",
      "Epoch 67/100\n",
      " - 0s - loss: 0.0450 - mae: 0.0450\n",
      "Epoch 68/100\n",
      " - 0s - loss: 0.0314 - mae: 0.0314\n",
      "Epoch 69/100\n",
      " - 0s - loss: 0.0337 - mae: 0.0337\n",
      "Epoch 70/100\n",
      " - 0s - loss: 0.0290 - mae: 0.0290\n",
      "Epoch 71/100\n",
      " - 0s - loss: 0.0402 - mae: 0.0402\n",
      "Epoch 72/100\n",
      " - 0s - loss: 0.0529 - mae: 0.0529\n",
      "Epoch 73/100\n",
      " - 0s - loss: 0.0262 - mae: 0.0262\n",
      "Epoch 74/100\n",
      " - 0s - loss: 0.0454 - mae: 0.0454\n",
      "Epoch 75/100\n",
      " - 0s - loss: 0.0344 - mae: 0.0344\n",
      "Epoch 76/100\n",
      " - 0s - loss: 0.0477 - mae: 0.0477\n",
      "Epoch 77/100\n",
      " - 0s - loss: 0.0545 - mae: 0.0545\n",
      "Epoch 78/100\n",
      " - 0s - loss: 0.0322 - mae: 0.0322\n",
      "Epoch 79/100\n",
      " - 0s - loss: 0.0235 - mae: 0.0235\n",
      "Epoch 80/100\n",
      " - 0s - loss: 0.0305 - mae: 0.0305\n",
      "Epoch 81/100\n",
      " - 0s - loss: 0.0289 - mae: 0.0289\n",
      "Epoch 82/100\n",
      " - 0s - loss: 0.0278 - mae: 0.0278\n",
      "Epoch 83/100\n",
      " - 0s - loss: 0.0246 - mae: 0.0246\n",
      "Epoch 84/100\n",
      " - 0s - loss: 0.0375 - mae: 0.0375\n",
      "Epoch 85/100\n",
      " - 0s - loss: 0.0472 - mae: 0.0472\n",
      "Epoch 86/100\n",
      " - 0s - loss: 0.0476 - mae: 0.0476\n",
      "Epoch 87/100\n",
      " - 0s - loss: 0.0471 - mae: 0.0471\n",
      "Epoch 88/100\n",
      " - 0s - loss: 0.0149 - mae: 0.0149\n",
      "Epoch 89/100\n",
      " - 0s - loss: 0.0225 - mae: 0.0225\n",
      "Epoch 90/100\n",
      " - 0s - loss: 0.0318 - mae: 0.0318\n",
      "Epoch 91/100\n",
      " - 0s - loss: 0.0337 - mae: 0.0337\n",
      "Epoch 92/100\n",
      " - 0s - loss: 0.0253 - mae: 0.0253\n",
      "Epoch 93/100\n",
      " - 0s - loss: 0.0453 - mae: 0.0453\n",
      "Epoch 94/100\n",
      " - 0s - loss: 0.0369 - mae: 0.0369\n",
      "Epoch 95/100\n",
      " - 0s - loss: 0.0257 - mae: 0.0257\n",
      "Epoch 96/100\n",
      " - 0s - loss: 0.0278 - mae: 0.0278\n",
      "Epoch 97/100\n",
      " - 0s - loss: 0.0281 - mae: 0.0281\n",
      "Epoch 98/100\n",
      " - 0s - loss: 0.0362 - mae: 0.0362\n",
      "Epoch 99/100\n",
      " - 0s - loss: 0.0219 - mae: 0.0219\n",
      "Epoch 100/100\n",
      " - 0s - loss: 0.0448 - mae: 0.0448\n"
     ]
    },
    {
     "data": {
      "text/plain": [
       "<keras.callbacks.callbacks.History at 0x278ce52e80>"
      ]
     },
     "execution_count": 52,
     "metadata": {},
     "output_type": "execute_result"
    }
   ],
   "source": [
    "dnn_2.fit(X_train_ARM, Y_train_ARM, epochs = 100, batch_size = 1, verbose = 2)"
   ]
  },
  {
   "cell_type": "code",
   "execution_count": 54,
   "metadata": {
    "colab": {
     "base_uri": "https://localhost:8080/",
     "height": 282
    },
    "colab_type": "code",
    "id": "1pyUnY8eRHyH",
    "outputId": "fda495f0-f03e-464d-e9f3-631a2fae8e03"
   },
   "outputs": [],
   "source": [
    "Y_pred = dnn_2.predict(X_test_ARM)"
   ]
  },
  {
   "cell_type": "code",
   "execution_count": 55,
   "metadata": {},
   "outputs": [],
   "source": [
    "pickle.dump(dnn_2, open('dnn_model_Intel_to_AMD', 'wb'))"
   ]
  },
  {
   "cell_type": "code",
   "execution_count": 56,
   "metadata": {
    "colab": {
     "base_uri": "https://localhost:8080/",
     "height": 412
    },
    "colab_type": "code",
    "id": "r2KsMmqzRYz_",
    "outputId": "657671d8-2cf8-469e-8320-c2d259fd10ab"
   },
   "outputs": [
    {
     "name": "stdout",
     "output_type": "stream",
     "text": [
      "MSE: \n",
      " 69594.00922263747\n",
      "\n",
      "R2: \n",
      " 0.7846142115142133\n",
      "\n",
      "MAPE Runtime: \n",
      " 0.20452351084331152\n",
      "\n",
      "MAPE Power: \n",
      " 0.08982029470985348\n"
     ]
    },
    {
     "data": {
      "image/png": "[encoded data removed]",
      "text/plain": [
       "<Figure size 432x288 with 1 Axes>"
      ]
     },
     "metadata": {
      "needs_background": "light"
     },
     "output_type": "display_data"
    },
    {
     "data": {
      "image/png": "[encoded data removed]",
      "text/plain": [
       "<Figure size 432x288 with 1 Axes>"
      ]
     },
     "metadata": {
      "needs_background": "light"
     },
     "output_type": "display_data"
    }
   ],
   "source": [
    "Y_fold = scaler_y.inverse_transform(Y_test_ARM)\n",
    "Y_pred = scaler_y.inverse_transform(Y_pred)\n",
    "plt.figure()\n",
    "plt.plot(Y_fold[:,0], 'b')\n",
    "plt.plot(Y_pred[:,0], 'r')\n",
    "plt.figure()\n",
    "plt.plot(Y_fold[:,1], 'b')\n",
    "plt.plot(Y_pred[:,1], 'r')\n",
    "r2_scores = (r2_score(Y_fold, Y_pred))\n",
    "mse_scores = (mean_squared_error(Y_fold, Y_pred))\n",
    "mape_scores_runtime = (absolute_percentage_error(Y_fold[:,0], Y_pred[:,0]))\n",
    "mape_scores_power = (absolute_percentage_error(Y_fold[:,1], Y_pred[:,1]))\n",
    "print('MSE: \\n', mse_scores)\n",
    "print('\\nR2: \\n', r2_scores)\n",
    "print('\\nMAPE Runtime: \\n', mape_scores_runtime)\n",
    "print('\\nMAPE Power: \\n', mape_scores_power)"
   ]
  },
  {
   "cell_type": "code",
   "execution_count": null,
   "metadata": {
    "colab": {},
    "colab_type": "code",
    "id": "2cog4vU9SH6W"
   },
   "outputs": [],
   "source": []
  },
  {
   "cell_type": "code",
   "execution_count": null,
   "metadata": {},
   "outputs": [],
   "source": []
  }
 ],
 "metadata": {
  "accelerator": "GPU",
  "colab": {
   "name": "DNN_transfer_learning_Qsort_Simulated.ipynb",
   "provenance": [],
   "toc_visible": true
  },
  "kernelspec": {
   "display_name": "Python 3",
   "language": "python",
   "name": "python3"
  },
  "language_info": {
   "codemirror_mode": {
    "name": "ipython",
    "version": 3
   },
   "file_extension": ".py",
   "mimetype": "text/x-python",
   "name": "python",
   "nbconvert_exporter": "python",
   "pygments_lexer": "ipython3",
   "version": "3.7.3"
  }
 },
 "nbformat": 4,
 "nbformat_minor": 1
}
