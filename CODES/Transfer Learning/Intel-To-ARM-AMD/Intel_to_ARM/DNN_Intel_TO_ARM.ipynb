{
 "cells": [
  {
   "cell_type": "code",
   "execution_count": 1,
   "metadata": {
    "colab": {
     "base_uri": "https://localhost:8080/",
     "height": 80
    },
    "colab_type": "code",
    "id": "B20-BaAfPY7y",
    "outputId": "f08002ca-3b8e-460d-c5d9-4d5c51f847c9"
   },
   "outputs": [
    {
     "name": "stderr",
     "output_type": "stream",
     "text": [
      "Using TensorFlow backend.\n"
     ]
    }
   ],
   "source": [
    "from sklearn.preprocessing import StandardScaler\n",
    "from sklearn.preprocessing import MinMaxScaler\n",
    "from sklearn.model_selection import train_test_split\n",
    "from sklearn.metrics import mean_squared_error, r2_score\n",
    "from sklearn.metrics import mean_absolute_error\n",
    "from sklearn.model_selection import GridSearchCV \n",
    "from sklearn.model_selection import KFold\n",
    "from sklearn.metrics import accuracy_score\n",
    "from keras.layers import Dense, Dropout\n",
    "from keras.models import Sequential\n",
    "from keras.optimizers import SGD\n",
    "from matplotlib import pyplot as plt\n",
    "import matplotlib as mpl\n",
    "import seaborn as sns\n",
    "import numpy as np\n",
    "import pandas as pd\n",
    "import category_encoders as ce\n",
    "import os\n",
    "import pickle\n",
    "import gc\n",
    "from tqdm import tqdm\n",
    "from sklearn.model_selection import ShuffleSplit\n",
    "from sklearn.svm import SVR\n",
    "from sklearn.linear_model import LinearRegression\n",
    "from sklearn import linear_model\n",
    "from sklearn.neighbors import KNeighborsRegressor\n",
    "from sklearn.gaussian_process import GaussianProcessRegressor\n",
    "from sklearn.tree import DecisionTreeRegressor\n",
    "from sklearn.ensemble import RandomForestRegressor\n",
    "from sklearn.ensemble import ExtraTreesRegressor\n",
    "from sklearn import ensemble\n",
    "import xgboost as xgb\n",
    "from numpy import loadtxt\n",
    "from keras.utils.vis_utils import plot_model\n",
    "import pydot"
   ]
  },
  {
   "cell_type": "code",
   "execution_count": 2,
   "metadata": {
    "colab": {
     "base_uri": "https://localhost:8080/",
     "height": 292
    },
    "colab_type": "code",
    "id": "DCM-6XSaPlnW",
    "outputId": "a6a90f99-e186-4a02-93d2-bf7ada17c226"
   },
   "outputs": [
    {
     "name": "stdout",
     "output_type": "stream",
     "text": [
      "Requirement already satisfied: category_encoders in c:\\users\\rajat\\anaconda3\\lib\\site-packages (2.1.0)\n",
      "Requirement already satisfied: pandas>=0.21.1 in c:\\users\\rajat\\anaconda3\\lib\\site-packages (from category_encoders) (0.25.3)\n",
      "Requirement already satisfied: patsy>=0.4.1 in c:\\users\\rajat\\anaconda3\\lib\\site-packages (from category_encoders) (0.5.1)\n",
      "Requirement already satisfied: numpy>=1.11.3 in c:\\users\\rajat\\anaconda3\\lib\\site-packages (from category_encoders) (1.16.2)\n",
      "Requirement already satisfied: scikit-learn>=0.20.0 in c:\\users\\rajat\\anaconda3\\lib\\site-packages (from category_encoders) (0.21.3)\n",
      "Requirement already satisfied: scipy>=0.19.0 in c:\\users\\rajat\\anaconda3\\lib\\site-packages (from category_encoders) (1.1.0)\n",
      "Requirement already satisfied: statsmodels>=0.6.1 in c:\\users\\rajat\\anaconda3\\lib\\site-packages (from category_encoders) (0.9.0)\n",
      "Requirement already satisfied: pytz>=2017.2 in c:\\users\\rajat\\anaconda3\\lib\\site-packages (from pandas>=0.21.1->category_encoders) (2018.9)\n",
      "Requirement already satisfied: python-dateutil>=2.6.1 in c:\\users\\rajat\\anaconda3\\lib\\site-packages (from pandas>=0.21.1->category_encoders) (2.8.0)\n",
      "Requirement already satisfied: six in c:\\users\\rajat\\anaconda3\\lib\\site-packages (from patsy>=0.4.1->category_encoders) (1.12.0)\n",
      "Requirement already satisfied: joblib>=0.11 in c:\\users\\rajat\\anaconda3\\lib\\site-packages (from scikit-learn>=0.20.0->category_encoders) (0.14.0)\n",
      "Note: you may need to restart the kernel to use updated packages.\n"
     ]
    }
   ],
   "source": [
    "pip install category_encoders"
   ]
  },
  {
   "cell_type": "code",
   "execution_count": 4,
   "metadata": {
    "colab": {},
    "colab_type": "code",
    "id": "IoISvsWDPY8P"
   },
   "outputs": [],
   "source": [
    "def encode_text_features(encode_decode, data_frame, encoder_isa=None, encoder_mem_type=None):\n",
    "    # Implement Categorical OneHot encoding for ISA and mem-type\n",
    "    if encode_decode == 'encode':\n",
    "        encoder_isa = ce.one_hot.OneHotEncoder(cols=['isa'])\n",
    "        encoder_mem_type = ce.one_hot.OneHotEncoder(cols=['mem-type'])\n",
    "        encoder_isa.fit(data_frame, verbose=1)\n",
    "        df_new1 = encoder_isa.transform(data_frame)\n",
    "        encoder_mem_type.fit(df_new1, verbose=1)\n",
    "        df_new = encoder_mem_type.transform(df_new1)\n",
    "        encoded_data_frame = df_new\n",
    "    else:\n",
    "        df_new1 = encoder_isa.transform(data_frame)\n",
    "        df_new = encoder_mem_type.transform(df_new1)\n",
    "        encoded_data_frame = df_new\n",
    "        \n",
    "    return encoded_data_frame, encoder_isa, encoder_mem_type"
   ]
  },
  {
   "cell_type": "code",
   "execution_count": 51,
   "metadata": {
    "colab": {},
    "colab_type": "code",
    "id": "Sq7T5i17PY8b"
   },
   "outputs": [],
   "source": [
    "all_datasets = 'C:\\\\Users\\\\Rajat\\\\Desktop\\\\PROJECT_MODE\\\\Paper_2_Aditya\\\\Dataset\\\\'\n",
    "dfn = pd.read_csv('C:\\\\Users\\\\Rajat\\\\Desktop\\\\PROJECT_MODE\\\\Paper_2_Aditya\\\\Transfer Learning\\\\Intel-To-ARM\\\\ARM.csv')\n",
    "df = pd.read_csv( 'C:\\\\Users\\\\Rajat\\\\Desktop\\\\PROJECT_MODE\\\\Paper_2_Aditya\\\\Transfer Learning\\\\Intel-To-ARM\\\\INTEL.csv')"
   ]
  },
  {
   "cell_type": "code",
   "execution_count": 52,
   "metadata": {
    "colab": {
     "base_uri": "https://localhost:8080/",
     "height": 241
    },
    "colab_type": "code",
    "id": "SGDXIFQDPY8n",
    "outputId": "fa49d55f-40f2-4adf-c467-85ebaf45b5b0"
   },
   "outputs": [
    {
     "data": {
      "text/html": [
       "<div>\n",
       "<style scoped>\n",
       "    .dataframe tbody tr th:only-of-type {\n",
       "        vertical-align: middle;\n",
       "    }\n",
       "\n",
       "    .dataframe tbody tr th {\n",
       "        vertical-align: top;\n",
       "    }\n",
       "\n",
       "    .dataframe thead th {\n",
       "        text-align: right;\n",
       "    }\n",
       "</style>\n",
       "<table border=\"1\" class=\"dataframe\">\n",
       "  <thead>\n",
       "    <tr style=\"text-align: right;\">\n",
       "      <th></th>\n",
       "      <th>arch</th>\n",
       "      <th>cpu-clock</th>\n",
       "      <th>isa</th>\n",
       "      <th>l1d_assoc</th>\n",
       "      <th>l1d_cache_lines</th>\n",
       "      <th>l1d_shared_by_threads</th>\n",
       "      <th>l1d_size</th>\n",
       "      <th>l2_assoc</th>\n",
       "      <th>l2_cache_lines</th>\n",
       "      <th>l2_shared_by_threads</th>\n",
       "      <th>...</th>\n",
       "      <th>l3_cache_lines</th>\n",
       "      <th>l3_shared_by_threads</th>\n",
       "      <th>l3_size</th>\n",
       "      <th>mem-size</th>\n",
       "      <th>mem-type</th>\n",
       "      <th>mem_clock</th>\n",
       "      <th>num-cpus</th>\n",
       "      <th>PS</th>\n",
       "      <th>runtime</th>\n",
       "      <th>power</th>\n",
       "    </tr>\n",
       "  </thead>\n",
       "  <tbody>\n",
       "    <tr>\n",
       "      <th>0</th>\n",
       "      <td>IntelCorei36100U_DDR41866_2GB</td>\n",
       "      <td>2.3</td>\n",
       "      <td>X86_64</td>\n",
       "      <td>8</td>\n",
       "      <td>64</td>\n",
       "      <td>1</td>\n",
       "      <td>32</td>\n",
       "      <td>4</td>\n",
       "      <td>64</td>\n",
       "      <td>1</td>\n",
       "      <td>...</td>\n",
       "      <td>64</td>\n",
       "      <td>2</td>\n",
       "      <td>3</td>\n",
       "      <td>2</td>\n",
       "      <td>DDR4</td>\n",
       "      <td>1866</td>\n",
       "      <td>2</td>\n",
       "      <td>1000</td>\n",
       "      <td>584</td>\n",
       "      <td>5.56428</td>\n",
       "    </tr>\n",
       "    <tr>\n",
       "      <th>1</th>\n",
       "      <td>IntelCorei36100U_DDR41866_2GB</td>\n",
       "      <td>2.3</td>\n",
       "      <td>X86_64</td>\n",
       "      <td>8</td>\n",
       "      <td>64</td>\n",
       "      <td>1</td>\n",
       "      <td>32</td>\n",
       "      <td>4</td>\n",
       "      <td>64</td>\n",
       "      <td>1</td>\n",
       "      <td>...</td>\n",
       "      <td>64</td>\n",
       "      <td>2</td>\n",
       "      <td>3</td>\n",
       "      <td>2</td>\n",
       "      <td>DDR4</td>\n",
       "      <td>1866</td>\n",
       "      <td>2</td>\n",
       "      <td>2000</td>\n",
       "      <td>1230</td>\n",
       "      <td>5.70416</td>\n",
       "    </tr>\n",
       "    <tr>\n",
       "      <th>2</th>\n",
       "      <td>IntelCorei36100U_DDR41866_2GB</td>\n",
       "      <td>2.3</td>\n",
       "      <td>X86_64</td>\n",
       "      <td>8</td>\n",
       "      <td>64</td>\n",
       "      <td>1</td>\n",
       "      <td>32</td>\n",
       "      <td>4</td>\n",
       "      <td>64</td>\n",
       "      <td>1</td>\n",
       "      <td>...</td>\n",
       "      <td>64</td>\n",
       "      <td>2</td>\n",
       "      <td>3</td>\n",
       "      <td>2</td>\n",
       "      <td>DDR4</td>\n",
       "      <td>1866</td>\n",
       "      <td>2</td>\n",
       "      <td>3000</td>\n",
       "      <td>1929</td>\n",
       "      <td>5.63798</td>\n",
       "    </tr>\n",
       "    <tr>\n",
       "      <th>3</th>\n",
       "      <td>IntelCorei36100U_DDR41866_2GB</td>\n",
       "      <td>2.3</td>\n",
       "      <td>X86_64</td>\n",
       "      <td>8</td>\n",
       "      <td>64</td>\n",
       "      <td>1</td>\n",
       "      <td>32</td>\n",
       "      <td>4</td>\n",
       "      <td>64</td>\n",
       "      <td>1</td>\n",
       "      <td>...</td>\n",
       "      <td>64</td>\n",
       "      <td>2</td>\n",
       "      <td>3</td>\n",
       "      <td>2</td>\n",
       "      <td>DDR4</td>\n",
       "      <td>1866</td>\n",
       "      <td>2</td>\n",
       "      <td>4000</td>\n",
       "      <td>2653</td>\n",
       "      <td>5.61658</td>\n",
       "    </tr>\n",
       "    <tr>\n",
       "      <th>4</th>\n",
       "      <td>IntelCorei36100U_DDR41866_2GB</td>\n",
       "      <td>2.3</td>\n",
       "      <td>X86_64</td>\n",
       "      <td>8</td>\n",
       "      <td>64</td>\n",
       "      <td>1</td>\n",
       "      <td>32</td>\n",
       "      <td>4</td>\n",
       "      <td>64</td>\n",
       "      <td>1</td>\n",
       "      <td>...</td>\n",
       "      <td>64</td>\n",
       "      <td>2</td>\n",
       "      <td>3</td>\n",
       "      <td>2</td>\n",
       "      <td>DDR4</td>\n",
       "      <td>1866</td>\n",
       "      <td>2</td>\n",
       "      <td>5000</td>\n",
       "      <td>3409</td>\n",
       "      <td>5.58136</td>\n",
       "    </tr>\n",
       "  </tbody>\n",
       "</table>\n",
       "<p>5 rows × 22 columns</p>\n",
       "</div>"
      ],
      "text/plain": [
       "                            arch  cpu-clock     isa  l1d_assoc  \\\n",
       "0  IntelCorei36100U_DDR41866_2GB        2.3  X86_64          8   \n",
       "1  IntelCorei36100U_DDR41866_2GB        2.3  X86_64          8   \n",
       "2  IntelCorei36100U_DDR41866_2GB        2.3  X86_64          8   \n",
       "3  IntelCorei36100U_DDR41866_2GB        2.3  X86_64          8   \n",
       "4  IntelCorei36100U_DDR41866_2GB        2.3  X86_64          8   \n",
       "\n",
       "   l1d_cache_lines  l1d_shared_by_threads  l1d_size  l2_assoc  l2_cache_lines  \\\n",
       "0               64                      1        32         4              64   \n",
       "1               64                      1        32         4              64   \n",
       "2               64                      1        32         4              64   \n",
       "3               64                      1        32         4              64   \n",
       "4               64                      1        32         4              64   \n",
       "\n",
       "   l2_shared_by_threads  ...  l3_cache_lines  l3_shared_by_threads  l3_size  \\\n",
       "0                     1  ...              64                     2        3   \n",
       "1                     1  ...              64                     2        3   \n",
       "2                     1  ...              64                     2        3   \n",
       "3                     1  ...              64                     2        3   \n",
       "4                     1  ...              64                     2        3   \n",
       "\n",
       "   mem-size  mem-type  mem_clock num-cpus    PS  runtime    power  \n",
       "0         2      DDR4       1866        2  1000      584  5.56428  \n",
       "1         2      DDR4       1866        2  2000     1230  5.70416  \n",
       "2         2      DDR4       1866        2  3000     1929  5.63798  \n",
       "3         2      DDR4       1866        2  4000     2653  5.61658  \n",
       "4         2      DDR4       1866        2  5000     3409  5.58136  \n",
       "\n",
       "[5 rows x 22 columns]"
      ]
     },
     "execution_count": 52,
     "metadata": {},
     "output_type": "execute_result"
    }
   ],
   "source": [
    "df.head()"
   ]
  },
  {
   "cell_type": "code",
   "execution_count": 53,
   "metadata": {
    "colab": {
     "base_uri": "https://localhost:8080/",
     "height": 241
    },
    "colab_type": "code",
    "id": "aATDyN0fPY9l",
    "outputId": "8f2b978a-f328-4241-fa11-b543a7cbf84f"
   },
   "outputs": [
    {
     "data": {
      "text/html": [
       "<div>\n",
       "<style scoped>\n",
       "    .dataframe tbody tr th:only-of-type {\n",
       "        vertical-align: middle;\n",
       "    }\n",
       "\n",
       "    .dataframe tbody tr th {\n",
       "        vertical-align: top;\n",
       "    }\n",
       "\n",
       "    .dataframe thead th {\n",
       "        text-align: right;\n",
       "    }\n",
       "</style>\n",
       "<table border=\"1\" class=\"dataframe\">\n",
       "  <thead>\n",
       "    <tr style=\"text-align: right;\">\n",
       "      <th></th>\n",
       "      <th>arch</th>\n",
       "      <th>cpu-clock</th>\n",
       "      <th>isa</th>\n",
       "      <th>l1d_assoc</th>\n",
       "      <th>l1d_cache_lines</th>\n",
       "      <th>l1d_shared_by_threads</th>\n",
       "      <th>l1d_size</th>\n",
       "      <th>l2_assoc</th>\n",
       "      <th>l2_cache_lines</th>\n",
       "      <th>l2_shared_by_threads</th>\n",
       "      <th>...</th>\n",
       "      <th>l3_cache_lines</th>\n",
       "      <th>l3_shared_by_threads</th>\n",
       "      <th>l3_size</th>\n",
       "      <th>mem-size</th>\n",
       "      <th>mem-type</th>\n",
       "      <th>mem_clock</th>\n",
       "      <th>num-cpus</th>\n",
       "      <th>PS</th>\n",
       "      <th>runtime</th>\n",
       "      <th>power</th>\n",
       "    </tr>\n",
       "  </thead>\n",
       "  <tbody>\n",
       "    <tr>\n",
       "      <th>0</th>\n",
       "      <td>ARM_AMDOpteronA57_A1120_DDR41866_2GB</td>\n",
       "      <td>1.7</td>\n",
       "      <td>ARM</td>\n",
       "      <td>8</td>\n",
       "      <td>64</td>\n",
       "      <td>1</td>\n",
       "      <td>32</td>\n",
       "      <td>8</td>\n",
       "      <td>64</td>\n",
       "      <td>1</td>\n",
       "      <td>...</td>\n",
       "      <td>64</td>\n",
       "      <td>4</td>\n",
       "      <td>8</td>\n",
       "      <td>2</td>\n",
       "      <td>DDR4</td>\n",
       "      <td>1866</td>\n",
       "      <td>4</td>\n",
       "      <td>1000</td>\n",
       "      <td>562</td>\n",
       "      <td>0.575793</td>\n",
       "    </tr>\n",
       "    <tr>\n",
       "      <th>1</th>\n",
       "      <td>ARM_AMDOpteronA57_A1120_DDR41866_2GB</td>\n",
       "      <td>1.7</td>\n",
       "      <td>ARM</td>\n",
       "      <td>8</td>\n",
       "      <td>64</td>\n",
       "      <td>1</td>\n",
       "      <td>32</td>\n",
       "      <td>8</td>\n",
       "      <td>64</td>\n",
       "      <td>1</td>\n",
       "      <td>...</td>\n",
       "      <td>64</td>\n",
       "      <td>4</td>\n",
       "      <td>8</td>\n",
       "      <td>2</td>\n",
       "      <td>DDR4</td>\n",
       "      <td>1866</td>\n",
       "      <td>4</td>\n",
       "      <td>2000</td>\n",
       "      <td>1122</td>\n",
       "      <td>0.609248</td>\n",
       "    </tr>\n",
       "    <tr>\n",
       "      <th>2</th>\n",
       "      <td>ARM_AMDOpteronA57_A1120_DDR41866_2GB</td>\n",
       "      <td>1.7</td>\n",
       "      <td>ARM</td>\n",
       "      <td>8</td>\n",
       "      <td>64</td>\n",
       "      <td>1</td>\n",
       "      <td>32</td>\n",
       "      <td>8</td>\n",
       "      <td>64</td>\n",
       "      <td>1</td>\n",
       "      <td>...</td>\n",
       "      <td>64</td>\n",
       "      <td>4</td>\n",
       "      <td>8</td>\n",
       "      <td>2</td>\n",
       "      <td>DDR4</td>\n",
       "      <td>1866</td>\n",
       "      <td>4</td>\n",
       "      <td>3000</td>\n",
       "      <td>1697</td>\n",
       "      <td>0.620265</td>\n",
       "    </tr>\n",
       "    <tr>\n",
       "      <th>3</th>\n",
       "      <td>ARM_AMDOpteronA57_A1120_DDR41866_2GB</td>\n",
       "      <td>1.7</td>\n",
       "      <td>ARM</td>\n",
       "      <td>8</td>\n",
       "      <td>64</td>\n",
       "      <td>1</td>\n",
       "      <td>32</td>\n",
       "      <td>8</td>\n",
       "      <td>64</td>\n",
       "      <td>1</td>\n",
       "      <td>...</td>\n",
       "      <td>64</td>\n",
       "      <td>4</td>\n",
       "      <td>8</td>\n",
       "      <td>2</td>\n",
       "      <td>DDR4</td>\n",
       "      <td>1866</td>\n",
       "      <td>4</td>\n",
       "      <td>4000</td>\n",
       "      <td>2287</td>\n",
       "      <td>0.623432</td>\n",
       "    </tr>\n",
       "    <tr>\n",
       "      <th>4</th>\n",
       "      <td>ARM_AMDOpteronA57_A1120_DDR41866_2GB</td>\n",
       "      <td>1.7</td>\n",
       "      <td>ARM</td>\n",
       "      <td>8</td>\n",
       "      <td>64</td>\n",
       "      <td>1</td>\n",
       "      <td>32</td>\n",
       "      <td>8</td>\n",
       "      <td>64</td>\n",
       "      <td>1</td>\n",
       "      <td>...</td>\n",
       "      <td>64</td>\n",
       "      <td>4</td>\n",
       "      <td>8</td>\n",
       "      <td>2</td>\n",
       "      <td>DDR4</td>\n",
       "      <td>1866</td>\n",
       "      <td>4</td>\n",
       "      <td>5000</td>\n",
       "      <td>2884</td>\n",
       "      <td>0.628268</td>\n",
       "    </tr>\n",
       "  </tbody>\n",
       "</table>\n",
       "<p>5 rows × 22 columns</p>\n",
       "</div>"
      ],
      "text/plain": [
       "                                   arch  cpu-clock  isa  l1d_assoc  \\\n",
       "0  ARM_AMDOpteronA57_A1120_DDR41866_2GB        1.7  ARM          8   \n",
       "1  ARM_AMDOpteronA57_A1120_DDR41866_2GB        1.7  ARM          8   \n",
       "2  ARM_AMDOpteronA57_A1120_DDR41866_2GB        1.7  ARM          8   \n",
       "3  ARM_AMDOpteronA57_A1120_DDR41866_2GB        1.7  ARM          8   \n",
       "4  ARM_AMDOpteronA57_A1120_DDR41866_2GB        1.7  ARM          8   \n",
       "\n",
       "   l1d_cache_lines  l1d_shared_by_threads  l1d_size  l2_assoc  l2_cache_lines  \\\n",
       "0               64                      1        32         8              64   \n",
       "1               64                      1        32         8              64   \n",
       "2               64                      1        32         8              64   \n",
       "3               64                      1        32         8              64   \n",
       "4               64                      1        32         8              64   \n",
       "\n",
       "   l2_shared_by_threads  ...  l3_cache_lines  l3_shared_by_threads  l3_size  \\\n",
       "0                     1  ...              64                     4        8   \n",
       "1                     1  ...              64                     4        8   \n",
       "2                     1  ...              64                     4        8   \n",
       "3                     1  ...              64                     4        8   \n",
       "4                     1  ...              64                     4        8   \n",
       "\n",
       "   mem-size  mem-type  mem_clock num-cpus    PS  runtime     power  \n",
       "0         2      DDR4       1866        4  1000      562  0.575793  \n",
       "1         2      DDR4       1866        4  2000     1122  0.609248  \n",
       "2         2      DDR4       1866        4  3000     1697  0.620265  \n",
       "3         2      DDR4       1866        4  4000     2287  0.623432  \n",
       "4         2      DDR4       1866        4  5000     2884  0.628268  \n",
       "\n",
       "[5 rows x 22 columns]"
      ]
     },
     "execution_count": 53,
     "metadata": {},
     "output_type": "execute_result"
    }
   ],
   "source": [
    "dfn.head()"
   ]
  },
  {
   "cell_type": "code",
   "execution_count": 54,
   "metadata": {
    "colab": {
     "base_uri": "https://localhost:8080/",
     "height": 255
    },
    "colab_type": "code",
    "id": "24Pvfj2GPY9z",
    "outputId": "4c90257b-aef9-494c-d5b3-259b9c9d612d"
   },
   "outputs": [
    {
     "data": {
      "text/plain": [
       "(Index(['arch', 'cpu-clock', 'isa', 'l1d_assoc', 'l1d_cache_lines',\n",
       "        'l1d_shared_by_threads', 'l1d_size', 'l2_assoc', 'l2_cache_lines',\n",
       "        'l2_shared_by_threads', 'l2_size', 'l3_assoc', 'l3_cache_lines',\n",
       "        'l3_shared_by_threads', 'l3_size', 'mem-size', 'mem-type', 'mem_clock',\n",
       "        'num-cpus', 'PS', 'runtime', 'power'],\n",
       "       dtype='object'),\n",
       " 22,\n",
       " Index(['arch', 'cpu-clock', 'isa', 'l1d_assoc', 'l1d_cache_lines',\n",
       "        'l1d_shared_by_threads', 'l1d_size', 'l2_assoc', 'l2_cache_lines',\n",
       "        'l2_shared_by_threads', 'l2_size', 'l3_assoc', 'l3_cache_lines',\n",
       "        'l3_shared_by_threads', 'l3_size', 'mem-size', 'mem-type', 'mem_clock',\n",
       "        'num-cpus', 'PS', 'runtime', 'power'],\n",
       "       dtype='object'),\n",
       " 22)"
      ]
     },
     "execution_count": 54,
     "metadata": {},
     "output_type": "execute_result"
    }
   ],
   "source": [
    "df.columns, len(df.columns), dfn.columns, len(dfn.columns) # bus-speed is extra in physical"
   ]
  },
  {
   "cell_type": "code",
   "execution_count": 55,
   "metadata": {
    "colab": {
     "base_uri": "https://localhost:8080/",
     "height": 34
    },
    "colab_type": "code",
    "id": "VEbKBnGIPY9_",
    "outputId": "24590ef3-2136-464c-aea0-bed7b0890b4a"
   },
   "outputs": [
    {
     "data": {
      "text/plain": [
       "(1440, 720)"
      ]
     },
     "execution_count": 55,
     "metadata": {},
     "output_type": "execute_result"
    }
   ],
   "source": [
    "len(df),len(dfn)"
   ]
  },
  {
   "cell_type": "code",
   "execution_count": 56,
   "metadata": {
    "colab": {},
    "colab_type": "code",
    "id": "NdUy29hmPY-F"
   },
   "outputs": [],
   "source": [
    "encoded_data_frame, encoder_isa, encoder_mem_type = encode_text_features('encode', df, encoder_isa = None, encoder_mem_type=None)"
   ]
  },
  {
   "cell_type": "code",
   "execution_count": 57,
   "metadata": {
    "colab": {},
    "colab_type": "code",
    "id": "w9OfqWqhPY-L"
   },
   "outputs": [],
   "source": [
    "encoded_data_frame_n, encoder_isa_n, encoder_mem_type_n = encode_text_features('encode', dfn, encoder_isa = None, encoder_mem_type=None)"
   ]
  },
  {
   "cell_type": "code",
   "execution_count": 58,
   "metadata": {
    "colab": {
     "base_uri": "https://localhost:8080/",
     "height": 241
    },
    "colab_type": "code",
    "id": "vV0ZAkEEPY-T",
    "outputId": "4895e5b0-6f28-450f-b5bd-cd6f416207c4"
   },
   "outputs": [
    {
     "data": {
      "text/html": [
       "<div>\n",
       "<style scoped>\n",
       "    .dataframe tbody tr th:only-of-type {\n",
       "        vertical-align: middle;\n",
       "    }\n",
       "\n",
       "    .dataframe tbody tr th {\n",
       "        vertical-align: top;\n",
       "    }\n",
       "\n",
       "    .dataframe thead th {\n",
       "        text-align: right;\n",
       "    }\n",
       "</style>\n",
       "<table border=\"1\" class=\"dataframe\">\n",
       "  <thead>\n",
       "    <tr style=\"text-align: right;\">\n",
       "      <th></th>\n",
       "      <th>arch</th>\n",
       "      <th>cpu-clock</th>\n",
       "      <th>isa_1</th>\n",
       "      <th>l1d_assoc</th>\n",
       "      <th>l1d_cache_lines</th>\n",
       "      <th>l1d_shared_by_threads</th>\n",
       "      <th>l1d_size</th>\n",
       "      <th>l2_assoc</th>\n",
       "      <th>l2_cache_lines</th>\n",
       "      <th>l2_shared_by_threads</th>\n",
       "      <th>...</th>\n",
       "      <th>l3_size</th>\n",
       "      <th>mem-size</th>\n",
       "      <th>mem-type_1</th>\n",
       "      <th>mem-type_2</th>\n",
       "      <th>mem-type_3</th>\n",
       "      <th>mem_clock</th>\n",
       "      <th>num-cpus</th>\n",
       "      <th>PS</th>\n",
       "      <th>runtime</th>\n",
       "      <th>power</th>\n",
       "    </tr>\n",
       "  </thead>\n",
       "  <tbody>\n",
       "    <tr>\n",
       "      <th>0</th>\n",
       "      <td>IntelCorei36100U_DDR41866_2GB</td>\n",
       "      <td>2.3</td>\n",
       "      <td>1</td>\n",
       "      <td>8</td>\n",
       "      <td>64</td>\n",
       "      <td>1</td>\n",
       "      <td>32</td>\n",
       "      <td>4</td>\n",
       "      <td>64</td>\n",
       "      <td>1</td>\n",
       "      <td>...</td>\n",
       "      <td>3</td>\n",
       "      <td>2</td>\n",
       "      <td>1</td>\n",
       "      <td>0</td>\n",
       "      <td>0</td>\n",
       "      <td>1866</td>\n",
       "      <td>2</td>\n",
       "      <td>1000</td>\n",
       "      <td>584</td>\n",
       "      <td>5.56428</td>\n",
       "    </tr>\n",
       "    <tr>\n",
       "      <th>1</th>\n",
       "      <td>IntelCorei36100U_DDR41866_2GB</td>\n",
       "      <td>2.3</td>\n",
       "      <td>1</td>\n",
       "      <td>8</td>\n",
       "      <td>64</td>\n",
       "      <td>1</td>\n",
       "      <td>32</td>\n",
       "      <td>4</td>\n",
       "      <td>64</td>\n",
       "      <td>1</td>\n",
       "      <td>...</td>\n",
       "      <td>3</td>\n",
       "      <td>2</td>\n",
       "      <td>1</td>\n",
       "      <td>0</td>\n",
       "      <td>0</td>\n",
       "      <td>1866</td>\n",
       "      <td>2</td>\n",
       "      <td>2000</td>\n",
       "      <td>1230</td>\n",
       "      <td>5.70416</td>\n",
       "    </tr>\n",
       "    <tr>\n",
       "      <th>2</th>\n",
       "      <td>IntelCorei36100U_DDR41866_2GB</td>\n",
       "      <td>2.3</td>\n",
       "      <td>1</td>\n",
       "      <td>8</td>\n",
       "      <td>64</td>\n",
       "      <td>1</td>\n",
       "      <td>32</td>\n",
       "      <td>4</td>\n",
       "      <td>64</td>\n",
       "      <td>1</td>\n",
       "      <td>...</td>\n",
       "      <td>3</td>\n",
       "      <td>2</td>\n",
       "      <td>1</td>\n",
       "      <td>0</td>\n",
       "      <td>0</td>\n",
       "      <td>1866</td>\n",
       "      <td>2</td>\n",
       "      <td>3000</td>\n",
       "      <td>1929</td>\n",
       "      <td>5.63798</td>\n",
       "    </tr>\n",
       "    <tr>\n",
       "      <th>3</th>\n",
       "      <td>IntelCorei36100U_DDR41866_2GB</td>\n",
       "      <td>2.3</td>\n",
       "      <td>1</td>\n",
       "      <td>8</td>\n",
       "      <td>64</td>\n",
       "      <td>1</td>\n",
       "      <td>32</td>\n",
       "      <td>4</td>\n",
       "      <td>64</td>\n",
       "      <td>1</td>\n",
       "      <td>...</td>\n",
       "      <td>3</td>\n",
       "      <td>2</td>\n",
       "      <td>1</td>\n",
       "      <td>0</td>\n",
       "      <td>0</td>\n",
       "      <td>1866</td>\n",
       "      <td>2</td>\n",
       "      <td>4000</td>\n",
       "      <td>2653</td>\n",
       "      <td>5.61658</td>\n",
       "    </tr>\n",
       "    <tr>\n",
       "      <th>4</th>\n",
       "      <td>IntelCorei36100U_DDR41866_2GB</td>\n",
       "      <td>2.3</td>\n",
       "      <td>1</td>\n",
       "      <td>8</td>\n",
       "      <td>64</td>\n",
       "      <td>1</td>\n",
       "      <td>32</td>\n",
       "      <td>4</td>\n",
       "      <td>64</td>\n",
       "      <td>1</td>\n",
       "      <td>...</td>\n",
       "      <td>3</td>\n",
       "      <td>2</td>\n",
       "      <td>1</td>\n",
       "      <td>0</td>\n",
       "      <td>0</td>\n",
       "      <td>1866</td>\n",
       "      <td>2</td>\n",
       "      <td>5000</td>\n",
       "      <td>3409</td>\n",
       "      <td>5.58136</td>\n",
       "    </tr>\n",
       "  </tbody>\n",
       "</table>\n",
       "<p>5 rows × 24 columns</p>\n",
       "</div>"
      ],
      "text/plain": [
       "                            arch  cpu-clock  isa_1  l1d_assoc  \\\n",
       "0  IntelCorei36100U_DDR41866_2GB        2.3      1          8   \n",
       "1  IntelCorei36100U_DDR41866_2GB        2.3      1          8   \n",
       "2  IntelCorei36100U_DDR41866_2GB        2.3      1          8   \n",
       "3  IntelCorei36100U_DDR41866_2GB        2.3      1          8   \n",
       "4  IntelCorei36100U_DDR41866_2GB        2.3      1          8   \n",
       "\n",
       "   l1d_cache_lines  l1d_shared_by_threads  l1d_size  l2_assoc  l2_cache_lines  \\\n",
       "0               64                      1        32         4              64   \n",
       "1               64                      1        32         4              64   \n",
       "2               64                      1        32         4              64   \n",
       "3               64                      1        32         4              64   \n",
       "4               64                      1        32         4              64   \n",
       "\n",
       "   l2_shared_by_threads  ...  l3_size  mem-size  mem-type_1  mem-type_2  \\\n",
       "0                     1  ...        3         2           1           0   \n",
       "1                     1  ...        3         2           1           0   \n",
       "2                     1  ...        3         2           1           0   \n",
       "3                     1  ...        3         2           1           0   \n",
       "4                     1  ...        3         2           1           0   \n",
       "\n",
       "   mem-type_3  mem_clock  num-cpus    PS  runtime    power  \n",
       "0           0       1866         2  1000      584  5.56428  \n",
       "1           0       1866         2  2000     1230  5.70416  \n",
       "2           0       1866         2  3000     1929  5.63798  \n",
       "3           0       1866         2  4000     2653  5.61658  \n",
       "4           0       1866         2  5000     3409  5.58136  \n",
       "\n",
       "[5 rows x 24 columns]"
      ]
     },
     "execution_count": 58,
     "metadata": {},
     "output_type": "execute_result"
    }
   ],
   "source": [
    "encoded_data_frame.head()"
   ]
  },
  {
   "cell_type": "code",
   "execution_count": 59,
   "metadata": {
    "colab": {
     "base_uri": "https://localhost:8080/",
     "height": 241
    },
    "colab_type": "code",
    "id": "jV5-CA2OPY-Z",
    "outputId": "8e63f60e-70ad-4328-814d-e23580beefb7"
   },
   "outputs": [
    {
     "data": {
      "text/html": [
       "<div>\n",
       "<style scoped>\n",
       "    .dataframe tbody tr th:only-of-type {\n",
       "        vertical-align: middle;\n",
       "    }\n",
       "\n",
       "    .dataframe tbody tr th {\n",
       "        vertical-align: top;\n",
       "    }\n",
       "\n",
       "    .dataframe thead th {\n",
       "        text-align: right;\n",
       "    }\n",
       "</style>\n",
       "<table border=\"1\" class=\"dataframe\">\n",
       "  <thead>\n",
       "    <tr style=\"text-align: right;\">\n",
       "      <th></th>\n",
       "      <th>arch</th>\n",
       "      <th>cpu-clock</th>\n",
       "      <th>isa_1</th>\n",
       "      <th>l1d_assoc</th>\n",
       "      <th>l1d_cache_lines</th>\n",
       "      <th>l1d_shared_by_threads</th>\n",
       "      <th>l1d_size</th>\n",
       "      <th>l2_assoc</th>\n",
       "      <th>l2_cache_lines</th>\n",
       "      <th>l2_shared_by_threads</th>\n",
       "      <th>...</th>\n",
       "      <th>l3_size</th>\n",
       "      <th>mem-size</th>\n",
       "      <th>mem-type_1</th>\n",
       "      <th>mem-type_2</th>\n",
       "      <th>mem-type_3</th>\n",
       "      <th>mem_clock</th>\n",
       "      <th>num-cpus</th>\n",
       "      <th>PS</th>\n",
       "      <th>runtime</th>\n",
       "      <th>power</th>\n",
       "    </tr>\n",
       "  </thead>\n",
       "  <tbody>\n",
       "    <tr>\n",
       "      <th>0</th>\n",
       "      <td>ARM_AMDOpteronA57_A1120_DDR41866_2GB</td>\n",
       "      <td>1.7</td>\n",
       "      <td>1</td>\n",
       "      <td>8</td>\n",
       "      <td>64</td>\n",
       "      <td>1</td>\n",
       "      <td>32</td>\n",
       "      <td>8</td>\n",
       "      <td>64</td>\n",
       "      <td>1</td>\n",
       "      <td>...</td>\n",
       "      <td>8</td>\n",
       "      <td>2</td>\n",
       "      <td>1</td>\n",
       "      <td>0</td>\n",
       "      <td>0</td>\n",
       "      <td>1866</td>\n",
       "      <td>4</td>\n",
       "      <td>1000</td>\n",
       "      <td>562</td>\n",
       "      <td>0.575793</td>\n",
       "    </tr>\n",
       "    <tr>\n",
       "      <th>1</th>\n",
       "      <td>ARM_AMDOpteronA57_A1120_DDR41866_2GB</td>\n",
       "      <td>1.7</td>\n",
       "      <td>1</td>\n",
       "      <td>8</td>\n",
       "      <td>64</td>\n",
       "      <td>1</td>\n",
       "      <td>32</td>\n",
       "      <td>8</td>\n",
       "      <td>64</td>\n",
       "      <td>1</td>\n",
       "      <td>...</td>\n",
       "      <td>8</td>\n",
       "      <td>2</td>\n",
       "      <td>1</td>\n",
       "      <td>0</td>\n",
       "      <td>0</td>\n",
       "      <td>1866</td>\n",
       "      <td>4</td>\n",
       "      <td>2000</td>\n",
       "      <td>1122</td>\n",
       "      <td>0.609248</td>\n",
       "    </tr>\n",
       "    <tr>\n",
       "      <th>2</th>\n",
       "      <td>ARM_AMDOpteronA57_A1120_DDR41866_2GB</td>\n",
       "      <td>1.7</td>\n",
       "      <td>1</td>\n",
       "      <td>8</td>\n",
       "      <td>64</td>\n",
       "      <td>1</td>\n",
       "      <td>32</td>\n",
       "      <td>8</td>\n",
       "      <td>64</td>\n",
       "      <td>1</td>\n",
       "      <td>...</td>\n",
       "      <td>8</td>\n",
       "      <td>2</td>\n",
       "      <td>1</td>\n",
       "      <td>0</td>\n",
       "      <td>0</td>\n",
       "      <td>1866</td>\n",
       "      <td>4</td>\n",
       "      <td>3000</td>\n",
       "      <td>1697</td>\n",
       "      <td>0.620265</td>\n",
       "    </tr>\n",
       "    <tr>\n",
       "      <th>3</th>\n",
       "      <td>ARM_AMDOpteronA57_A1120_DDR41866_2GB</td>\n",
       "      <td>1.7</td>\n",
       "      <td>1</td>\n",
       "      <td>8</td>\n",
       "      <td>64</td>\n",
       "      <td>1</td>\n",
       "      <td>32</td>\n",
       "      <td>8</td>\n",
       "      <td>64</td>\n",
       "      <td>1</td>\n",
       "      <td>...</td>\n",
       "      <td>8</td>\n",
       "      <td>2</td>\n",
       "      <td>1</td>\n",
       "      <td>0</td>\n",
       "      <td>0</td>\n",
       "      <td>1866</td>\n",
       "      <td>4</td>\n",
       "      <td>4000</td>\n",
       "      <td>2287</td>\n",
       "      <td>0.623432</td>\n",
       "    </tr>\n",
       "    <tr>\n",
       "      <th>4</th>\n",
       "      <td>ARM_AMDOpteronA57_A1120_DDR41866_2GB</td>\n",
       "      <td>1.7</td>\n",
       "      <td>1</td>\n",
       "      <td>8</td>\n",
       "      <td>64</td>\n",
       "      <td>1</td>\n",
       "      <td>32</td>\n",
       "      <td>8</td>\n",
       "      <td>64</td>\n",
       "      <td>1</td>\n",
       "      <td>...</td>\n",
       "      <td>8</td>\n",
       "      <td>2</td>\n",
       "      <td>1</td>\n",
       "      <td>0</td>\n",
       "      <td>0</td>\n",
       "      <td>1866</td>\n",
       "      <td>4</td>\n",
       "      <td>5000</td>\n",
       "      <td>2884</td>\n",
       "      <td>0.628268</td>\n",
       "    </tr>\n",
       "  </tbody>\n",
       "</table>\n",
       "<p>5 rows × 24 columns</p>\n",
       "</div>"
      ],
      "text/plain": [
       "                                   arch  cpu-clock  isa_1  l1d_assoc  \\\n",
       "0  ARM_AMDOpteronA57_A1120_DDR41866_2GB        1.7      1          8   \n",
       "1  ARM_AMDOpteronA57_A1120_DDR41866_2GB        1.7      1          8   \n",
       "2  ARM_AMDOpteronA57_A1120_DDR41866_2GB        1.7      1          8   \n",
       "3  ARM_AMDOpteronA57_A1120_DDR41866_2GB        1.7      1          8   \n",
       "4  ARM_AMDOpteronA57_A1120_DDR41866_2GB        1.7      1          8   \n",
       "\n",
       "   l1d_cache_lines  l1d_shared_by_threads  l1d_size  l2_assoc  l2_cache_lines  \\\n",
       "0               64                      1        32         8              64   \n",
       "1               64                      1        32         8              64   \n",
       "2               64                      1        32         8              64   \n",
       "3               64                      1        32         8              64   \n",
       "4               64                      1        32         8              64   \n",
       "\n",
       "   l2_shared_by_threads  ...  l3_size  mem-size  mem-type_1  mem-type_2  \\\n",
       "0                     1  ...        8         2           1           0   \n",
       "1                     1  ...        8         2           1           0   \n",
       "2                     1  ...        8         2           1           0   \n",
       "3                     1  ...        8         2           1           0   \n",
       "4                     1  ...        8         2           1           0   \n",
       "\n",
       "   mem-type_3  mem_clock  num-cpus    PS  runtime     power  \n",
       "0           0       1866         4  1000      562  0.575793  \n",
       "1           0       1866         4  2000     1122  0.609248  \n",
       "2           0       1866         4  3000     1697  0.620265  \n",
       "3           0       1866         4  4000     2287  0.623432  \n",
       "4           0       1866         4  5000     2884  0.628268  \n",
       "\n",
       "[5 rows x 24 columns]"
      ]
     },
     "execution_count": 59,
     "metadata": {},
     "output_type": "execute_result"
    }
   ],
   "source": [
    "encoded_data_frame_n.head()"
   ]
  },
  {
   "cell_type": "code",
   "execution_count": 60,
   "metadata": {
    "colab": {
     "base_uri": "https://localhost:8080/",
     "height": 119
    },
    "colab_type": "code",
    "id": "blMY6nwRPY-f",
    "outputId": "a0dbe4c8-71a9-4569-f7ab-a9940ea61511"
   },
   "outputs": [
    {
     "data": {
      "text/plain": [
       "Index(['arch', 'cpu-clock', 'isa_1', 'l1d_assoc', 'l1d_cache_lines',\n",
       "       'l1d_shared_by_threads', 'l1d_size', 'l2_assoc', 'l2_cache_lines',\n",
       "       'l2_shared_by_threads', 'l2_size', 'l3_assoc', 'l3_cache_lines',\n",
       "       'l3_shared_by_threads', 'l3_size', 'mem-size', 'mem-type_1',\n",
       "       'mem-type_2', 'mem-type_3', 'mem_clock', 'num-cpus', 'PS', 'runtime',\n",
       "       'power'],\n",
       "      dtype='object')"
      ]
     },
     "execution_count": 60,
     "metadata": {},
     "output_type": "execute_result"
    }
   ],
   "source": [
    "encoded_data_frame.columns"
   ]
  },
  {
   "cell_type": "code",
   "execution_count": 61,
   "metadata": {
    "colab": {
     "base_uri": "https://localhost:8080/",
     "height": 119
    },
    "colab_type": "code",
    "id": "c3gTDhCAPY-l",
    "outputId": "796141c9-2523-42f0-a7d3-8298ce67c275"
   },
   "outputs": [
    {
     "data": {
      "text/plain": [
       "Index(['arch', 'cpu-clock', 'isa_1', 'l1d_assoc', 'l1d_cache_lines',\n",
       "       'l1d_shared_by_threads', 'l1d_size', 'l2_assoc', 'l2_cache_lines',\n",
       "       'l2_shared_by_threads', 'l2_size', 'l3_assoc', 'l3_cache_lines',\n",
       "       'l3_shared_by_threads', 'l3_size', 'mem-size', 'mem-type_1',\n",
       "       'mem-type_2', 'mem-type_3', 'mem_clock', 'num-cpus', 'PS', 'runtime',\n",
       "       'power'],\n",
       "      dtype='object')"
      ]
     },
     "execution_count": 61,
     "metadata": {},
     "output_type": "execute_result"
    }
   ],
   "source": [
    "encoded_data_frame_n.columns"
   ]
  },
  {
   "cell_type": "code",
   "execution_count": 62,
   "metadata": {
    "colab": {},
    "colab_type": "code",
    "id": "gdW80wzNPY-r"
   },
   "outputs": [],
   "source": [
    "total_data_n = encoded_data_frame_n.drop(columns = ['arch'])"
   ]
  },
  {
   "cell_type": "code",
   "execution_count": 63,
   "metadata": {
    "colab": {},
    "colab_type": "code",
    "id": "FI5GNgHyPY-w"
   },
   "outputs": [],
   "source": [
    "total_data = encoded_data_frame.drop(columns = ['arch'])"
   ]
  },
  {
   "cell_type": "code",
   "execution_count": 64,
   "metadata": {
    "colab": {
     "base_uri": "https://localhost:8080/",
     "height": 221
    },
    "colab_type": "code",
    "id": "FwLKC55GPY-3",
    "outputId": "4c06ae1b-3edc-4e66-ceb9-4525244fdd1e"
   },
   "outputs": [
    {
     "data": {
      "text/plain": [
       "(Index(['cpu-clock', 'isa_1', 'l1d_assoc', 'l1d_cache_lines',\n",
       "        'l1d_shared_by_threads', 'l1d_size', 'l2_assoc', 'l2_cache_lines',\n",
       "        'l2_shared_by_threads', 'l2_size', 'l3_assoc', 'l3_cache_lines',\n",
       "        'l3_shared_by_threads', 'l3_size', 'mem-size', 'mem-type_1',\n",
       "        'mem-type_2', 'mem-type_3', 'mem_clock', 'num-cpus', 'PS', 'runtime',\n",
       "        'power'],\n",
       "       dtype='object'),\n",
       " Index(['cpu-clock', 'isa_1', 'l1d_assoc', 'l1d_cache_lines',\n",
       "        'l1d_shared_by_threads', 'l1d_size', 'l2_assoc', 'l2_cache_lines',\n",
       "        'l2_shared_by_threads', 'l2_size', 'l3_assoc', 'l3_cache_lines',\n",
       "        'l3_shared_by_threads', 'l3_size', 'mem-size', 'mem-type_1',\n",
       "        'mem-type_2', 'mem-type_3', 'mem_clock', 'num-cpus', 'PS', 'runtime',\n",
       "        'power'],\n",
       "       dtype='object'))"
      ]
     },
     "execution_count": 64,
     "metadata": {},
     "output_type": "execute_result"
    }
   ],
   "source": [
    "total_data.columns, total_data_n.columns"
   ]
  },
  {
   "cell_type": "code",
   "execution_count": 65,
   "metadata": {
    "colab": {},
    "colab_type": "code",
    "id": "__UxO5IZPY--"
   },
   "outputs": [],
   "source": [
    "total_data = total_data.fillna(0)\n",
    "total_data_n = total_data_n.fillna(0)"
   ]
  },
  {
   "cell_type": "code",
   "execution_count": 66,
   "metadata": {
    "colab": {},
    "colab_type": "code",
    "id": "kgRQWlyrPY_E"
   },
   "outputs": [],
   "source": [
    "X_Intel = total_data.drop(columns = ['runtime','power']).to_numpy()\n",
    "Y_Intel = total_data[['runtime','power']].to_numpy()"
   ]
  },
  {
   "cell_type": "code",
   "execution_count": 67,
   "metadata": {
    "colab": {},
    "colab_type": "code",
    "id": "xj8_o2sGPY_J"
   },
   "outputs": [],
   "source": [
    "X_ARM = total_data_n.drop(columns = ['runtime','power']).to_numpy()\n",
    "Y_ARM = total_data_n[['runtime','power']].to_numpy()"
   ]
  },
  {
   "cell_type": "code",
   "execution_count": 68,
   "metadata": {
    "colab": {
     "base_uri": "https://localhost:8080/",
     "height": 34
    },
    "colab_type": "code",
    "id": "_GYdAqd-PY_O",
    "outputId": "48e31a7e-8100-4376-e3e8-d8fe635a0d75"
   },
   "outputs": [
    {
     "data": {
      "text/plain": [
       "((1440, 21), (720, 21), (1440, 2), (720, 2))"
      ]
     },
     "execution_count": 68,
     "metadata": {},
     "output_type": "execute_result"
    }
   ],
   "source": [
    "X_Intel.shape, X_ARM.shape, Y_Intel.shape, Y_ARM.shape"
   ]
  },
  {
   "cell_type": "code",
   "execution_count": 69,
   "metadata": {
    "colab": {
     "base_uri": "https://localhost:8080/",
     "height": 51
    },
    "colab_type": "code",
    "id": "xQM6d2M2PY_U",
    "outputId": "9cb63a54-9c57-45dc-bcc3-676533e0f3c2"
   },
   "outputs": [
    {
     "data": {
      "text/plain": [
       "(array([[ 584.     ,    5.56428],\n",
       "        [1230.     ,    5.70416],\n",
       "        [1929.     ,    5.63798],\n",
       "        [2653.     ,    5.61658],\n",
       "        [3409.     ,    5.58136],\n",
       "        [3902.     ,    5.51593],\n",
       "        [ 584.     ,    5.56428],\n",
       "        [1230.     ,    5.70416],\n",
       "        [1929.     ,    5.63798],\n",
       "        [2653.     ,    5.61658]]), array([[5.62000e+02, 5.75793e-01],\n",
       "        [1.12200e+03, 6.09248e-01],\n",
       "        [1.69700e+03, 6.20265e-01],\n",
       "        [2.28700e+03, 6.23432e-01],\n",
       "        [2.88400e+03, 6.28268e-01],\n",
       "        [3.32700e+03, 6.07913e-01],\n",
       "        [5.62000e+02, 5.75793e-01],\n",
       "        [1.12200e+03, 6.09248e-01],\n",
       "        [1.69700e+03, 6.20265e-01],\n",
       "        [2.28700e+03, 6.23432e-01]]))"
      ]
     },
     "execution_count": 69,
     "metadata": {},
     "output_type": "execute_result"
    }
   ],
   "source": [
    "Y_Intel[:10], Y_ARM[:10] "
   ]
  },
  {
   "cell_type": "code",
   "execution_count": 70,
   "metadata": {
    "colab": {
     "base_uri": "https://localhost:8080/",
     "height": 51
    },
    "colab_type": "code",
    "id": "wzbI3cIbPY_c",
    "outputId": "7bafe41f-d279-4060-a0e4-cbc477b93c33"
   },
   "outputs": [
    {
     "name": "stdout",
     "output_type": "stream",
     "text": [
      "(7, 21) (713, 21) (7, 2) (713, 2)\n",
      "(1447, 21) (1447, 2) (713, 21) (713, 2)\n"
     ]
    }
   ],
   "source": [
    "# Separating ARM data to 1% and 99%\n",
    "X_train_ARM, X_test_ARM, Y_train_ARM, Y_test_ARM = train_test_split(X_ARM, Y_ARM, test_size = 0.99, random_state=42)\n",
    "print(X_train_ARM.shape, X_test_ARM.shape, Y_train_ARM.shape, Y_test_ARM.shape)\n",
    "X_train_Intel = np.append(X_Intel, X_train_ARM,axis = 0)\n",
    "Y_train_Intel = np.append(Y_Intel, Y_train_ARM,axis = 0)\n",
    "print(X_train_Intel.shape, Y_train_Intel.shape, X_test_ARM.shape, Y_test_ARM.shape)"
   ]
  },
  {
   "cell_type": "code",
   "execution_count": 71,
   "metadata": {
    "colab": {
     "base_uri": "https://localhost:8080/",
     "height": 34
    },
    "colab_type": "code",
    "id": "hd6E2_KdPY_h",
    "outputId": "f60409af-385a-4bbf-d39f-f4f69d6dd77c"
   },
   "outputs": [
    {
     "name": "stdout",
     "output_type": "stream",
     "text": [
      "(1440, 21) (1440, 2) (7, 21) (7, 2) (713, 21) (713, 2)\n"
     ]
    }
   ],
   "source": [
    "scaler_x = StandardScaler()\n",
    "X_Intel = scaler_x.fit_transform(X_Intel)\n",
    "X_train_ARM = scaler_x.fit_transform(X_train_ARM)\n",
    "X_test_ARM = scaler_x.fit_transform(X_test_ARM)\n",
    "scaler_y = StandardScaler()\n",
    "# Y_Intel = np.reshape(Y_Intel, (len(Y_Intel),1))\n",
    "# Y_test_ARM = np.reshape(Y_test_ARM, (len(Y_test_ARM),1))\n",
    "# Y_train_ARM = np.reshape(Y_train_ARM, (len(Y_train_ARM),1))\n",
    "Y_Intel = scaler_y.fit_transform(Y_Intel)\n",
    "Y_test_ARM = scaler_y.fit_transform(Y_test_ARM)\n",
    "Y_train_ARM = scaler_y.fit_transform(Y_train_ARM)\n",
    "print(X_Intel.shape, Y_Intel.shape, X_train_ARM.shape, Y_train_ARM.shape, X_test_ARM.shape, Y_test_ARM.shape)"
   ]
  },
  {
   "cell_type": "code",
   "execution_count": 72,
   "metadata": {
    "colab": {},
    "colab_type": "code",
    "id": "eEfGmTi8PY_s"
   },
   "outputs": [],
   "source": [
    "def absolute_percentage_error(Y_test, Y_pred):\n",
    "    error = 0\n",
    "    for i in range(len(Y_test)):\n",
    "        if(Y_test[i]!= 0 ):\n",
    "            error = error + (abs(Y_test[i] - Y_pred[i]))/Y_test[i]\n",
    "        \n",
    "    error = error/ len(Y_test)\n",
    "    return error"
   ]
  },
  {
   "cell_type": "code",
   "execution_count": 73,
   "metadata": {
    "colab": {
     "base_uri": "https://localhost:8080/",
     "height": 877
    },
    "colab_type": "code",
    "id": "6YqBJdtvPY_y",
    "outputId": "e3c52eab-0e2c-4c49-c10b-372988f70105"
   },
   "outputs": [
    {
     "name": "stdout",
     "output_type": "stream",
     "text": [
      "Model: \"sequential_3\"\n",
      "_________________________________________________________________\n",
      "Layer (type)                 Output Shape              Param #   \n",
      "=================================================================\n",
      "dense_9 (Dense)              (None, 64)                1408      \n",
      "_________________________________________________________________\n",
      "dense_10 (Dense)             (None, 64)                4160      \n",
      "_________________________________________________________________\n",
      "dense_11 (Dense)             (None, 64)                4160      \n",
      "_________________________________________________________________\n",
      "dense_12 (Dense)             (None, 2)                 130       \n",
      "=================================================================\n",
      "Total params: 9,858\n",
      "Trainable params: 9,858\n",
      "Non-trainable params: 0\n",
      "_________________________________________________________________\n",
      "Model : DNN 2 None\n"
     ]
    },
    {
     "data": {
      "image/png": "[encoded data removed]",
      "text/plain": [
       "<IPython.core.display.Image object>"
      ]
     },
     "execution_count": 73,
     "metadata": {},
     "output_type": "execute_result"
    }
   ],
   "source": [
    "dnn_2 = Sequential()\n",
    "dnn_2.add(Dense(64, input_dim = 21, activation='relu'))\n",
    "# dnn_2.add(Dropout(0.4))\n",
    "dnn_2.add(Dense(64, activation='relu'))\n",
    "# dnn_2.add(Dropout(0.4))\n",
    "dnn_2.add(Dense(64, activation='relu'))\n",
    "# dnn_2.add(Dropout(0.4))\n",
    "dnn_2.add(Dense(2, activation='linear'))\n",
    "print('Model : DNN 2', dnn_2.summary())\n",
    "plot_model(dnn_2)"
   ]
  },
  {
   "cell_type": "code",
   "execution_count": 74,
   "metadata": {
    "colab": {
     "base_uri": "https://localhost:8080/",
     "height": 1000
    },
    "colab_type": "code",
    "id": "_6Uox_BtPY_6",
    "outputId": "c2dd3a9b-ec28-4959-9daf-5a21ac33ce9f"
   },
   "outputs": [
    {
     "name": "stdout",
     "output_type": "stream",
     "text": [
      "Epoch 1/100\n",
      " - 0s - loss: 0.3081 - mae: 0.3081\n",
      "Epoch 2/100\n",
      " - 0s - loss: 0.0874 - mae: 0.0874\n",
      "Epoch 3/100\n",
      " - 0s - loss: 0.0652 - mae: 0.0652\n",
      "Epoch 4/100\n",
      " - 0s - loss: 0.0558 - mae: 0.0558\n",
      "Epoch 5/100\n",
      " - 0s - loss: 0.0497 - mae: 0.0497\n",
      "Epoch 6/100\n",
      " - 0s - loss: 0.0464 - mae: 0.0464\n",
      "Epoch 7/100\n",
      " - 0s - loss: 0.0461 - mae: 0.0461\n",
      "Epoch 8/100\n",
      " - 0s - loss: 0.0460 - mae: 0.0460\n",
      "Epoch 9/100\n",
      " - 0s - loss: 0.0415 - mae: 0.0415\n",
      "Epoch 10/100\n",
      " - 0s - loss: 0.0397 - mae: 0.0397\n",
      "Epoch 11/100\n",
      " - 0s - loss: 0.0385 - mae: 0.0385\n",
      "Epoch 12/100\n",
      " - 0s - loss: 0.0360 - mae: 0.0360\n",
      "Epoch 13/100\n",
      " - 0s - loss: 0.0396 - mae: 0.0396\n",
      "Epoch 14/100\n",
      " - 0s - loss: 0.0366 - mae: 0.0366\n",
      "Epoch 15/100\n",
      " - 0s - loss: 0.0318 - mae: 0.0318\n",
      "Epoch 16/100\n",
      " - 0s - loss: 0.0313 - mae: 0.0313\n",
      "Epoch 17/100\n",
      " - 0s - loss: 0.0342 - mae: 0.0342\n",
      "Epoch 18/100\n",
      " - 0s - loss: 0.0310 - mae: 0.0310\n",
      "Epoch 19/100\n",
      " - 0s - loss: 0.0329 - mae: 0.0329\n",
      "Epoch 20/100\n",
      " - 0s - loss: 0.0293 - mae: 0.0293\n",
      "Epoch 21/100\n",
      " - 0s - loss: 0.0320 - mae: 0.0320\n",
      "Epoch 22/100\n",
      " - 0s - loss: 0.0298 - mae: 0.0298\n",
      "Epoch 23/100\n",
      " - 0s - loss: 0.0270 - mae: 0.0270\n",
      "Epoch 24/100\n",
      " - 0s - loss: 0.0322 - mae: 0.0322\n",
      "Epoch 25/100\n",
      " - 0s - loss: 0.0285 - mae: 0.0285\n",
      "Epoch 26/100\n",
      " - 0s - loss: 0.0268 - mae: 0.0268\n",
      "Epoch 27/100\n",
      " - 0s - loss: 0.0290 - mae: 0.0290\n",
      "Epoch 28/100\n",
      " - 0s - loss: 0.0296 - mae: 0.0296\n",
      "Epoch 29/100\n",
      " - 0s - loss: 0.0263 - mae: 0.0263\n",
      "Epoch 30/100\n",
      " - 0s - loss: 0.0281 - mae: 0.0281\n",
      "Epoch 31/100\n",
      " - 0s - loss: 0.0292 - mae: 0.0292\n",
      "Epoch 32/100\n",
      " - 0s - loss: 0.0265 - mae: 0.0265\n",
      "Epoch 33/100\n",
      " - 0s - loss: 0.0272 - mae: 0.0272\n",
      "Epoch 34/100\n",
      " - 0s - loss: 0.0250 - mae: 0.0250\n",
      "Epoch 35/100\n",
      " - 0s - loss: 0.0306 - mae: 0.0306\n",
      "Epoch 36/100\n",
      " - 0s - loss: 0.0247 - mae: 0.0247\n",
      "Epoch 37/100\n",
      " - 0s - loss: 0.0251 - mae: 0.0251\n",
      "Epoch 38/100\n",
      " - 0s - loss: 0.0246 - mae: 0.0246\n",
      "Epoch 39/100\n",
      " - 0s - loss: 0.0270 - mae: 0.0270\n",
      "Epoch 40/100\n",
      " - 0s - loss: 0.0255 - mae: 0.0255\n",
      "Epoch 41/100\n",
      " - 0s - loss: 0.0242 - mae: 0.0242\n",
      "Epoch 42/100\n",
      " - 0s - loss: 0.0261 - mae: 0.0261\n",
      "Epoch 43/100\n",
      " - 0s - loss: 0.0255 - mae: 0.0255\n",
      "Epoch 44/100\n",
      " - 0s - loss: 0.0221 - mae: 0.0221\n",
      "Epoch 45/100\n",
      " - 0s - loss: 0.0220 - mae: 0.0220\n",
      "Epoch 46/100\n",
      " - 0s - loss: 0.0235 - mae: 0.0235\n",
      "Epoch 47/100\n",
      " - 0s - loss: 0.0260 - mae: 0.0260\n",
      "Epoch 48/100\n",
      " - 0s - loss: 0.0214 - mae: 0.0214\n",
      "Epoch 49/100\n",
      " - 0s - loss: 0.0237 - mae: 0.0237\n",
      "Epoch 50/100\n",
      " - 0s - loss: 0.0260 - mae: 0.0260\n",
      "Epoch 51/100\n",
      " - 0s - loss: 0.0252 - mae: 0.0252\n",
      "Epoch 52/100\n",
      " - 0s - loss: 0.0240 - mae: 0.0240\n",
      "Epoch 53/100\n",
      " - 0s - loss: 0.0230 - mae: 0.0230\n",
      "Epoch 54/100\n",
      " - 0s - loss: 0.0254 - mae: 0.0254\n",
      "Epoch 55/100\n",
      " - 0s - loss: 0.0245 - mae: 0.0245\n",
      "Epoch 56/100\n",
      " - 0s - loss: 0.0211 - mae: 0.0211\n",
      "Epoch 57/100\n",
      " - 0s - loss: 0.0227 - mae: 0.0227\n",
      "Epoch 58/100\n",
      " - 0s - loss: 0.0236 - mae: 0.0236\n",
      "Epoch 59/100\n",
      " - 0s - loss: 0.0225 - mae: 0.0225\n",
      "Epoch 60/100\n",
      " - 0s - loss: 0.0190 - mae: 0.0190\n",
      "Epoch 61/100\n",
      " - 0s - loss: 0.0214 - mae: 0.0214\n",
      "Epoch 62/100\n",
      " - 0s - loss: 0.0216 - mae: 0.0216\n",
      "Epoch 63/100\n",
      " - 0s - loss: 0.0226 - mae: 0.0226\n",
      "Epoch 64/100\n",
      " - 0s - loss: 0.0195 - mae: 0.0195\n",
      "Epoch 65/100\n",
      " - 0s - loss: 0.0198 - mae: 0.0198\n",
      "Epoch 66/100\n",
      " - 0s - loss: 0.0221 - mae: 0.0221\n",
      "Epoch 67/100\n",
      " - 0s - loss: 0.0231 - mae: 0.0231\n",
      "Epoch 68/100\n",
      " - 0s - loss: 0.0230 - mae: 0.0230\n",
      "Epoch 69/100\n",
      " - 0s - loss: 0.0199 - mae: 0.0199\n",
      "Epoch 70/100\n",
      " - 0s - loss: 0.0214 - mae: 0.0214\n",
      "Epoch 71/100\n",
      " - 0s - loss: 0.0200 - mae: 0.0200\n",
      "Epoch 72/100\n",
      " - 0s - loss: 0.0190 - mae: 0.0190\n",
      "Epoch 73/100\n",
      " - 0s - loss: 0.0197 - mae: 0.0197\n",
      "Epoch 74/100\n",
      " - 0s - loss: 0.0186 - mae: 0.0186\n",
      "Epoch 75/100\n",
      " - 0s - loss: 0.0191 - mae: 0.0191\n",
      "Epoch 76/100\n",
      " - 0s - loss: 0.0202 - mae: 0.0202\n",
      "Epoch 77/100\n",
      " - 0s - loss: 0.0174 - mae: 0.0174\n",
      "Epoch 78/100\n",
      " - 0s - loss: 0.0184 - mae: 0.0184\n",
      "Epoch 79/100\n",
      " - 0s - loss: 0.0196 - mae: 0.0196\n",
      "Epoch 80/100\n",
      " - 0s - loss: 0.0186 - mae: 0.0186\n",
      "Epoch 81/100\n",
      " - 0s - loss: 0.0207 - mae: 0.0207\n",
      "Epoch 82/100\n",
      " - 0s - loss: 0.0205 - mae: 0.0205\n",
      "Epoch 83/100\n",
      " - 0s - loss: 0.0206 - mae: 0.0206\n",
      "Epoch 84/100\n",
      " - 0s - loss: 0.0204 - mae: 0.0204\n",
      "Epoch 85/100\n",
      " - 0s - loss: 0.0212 - mae: 0.0212\n",
      "Epoch 86/100\n",
      " - 0s - loss: 0.0176 - mae: 0.0176\n",
      "Epoch 87/100\n",
      " - 0s - loss: 0.0193 - mae: 0.0193\n",
      "Epoch 88/100\n",
      " - 0s - loss: 0.0198 - mae: 0.0198\n",
      "Epoch 89/100\n",
      " - 0s - loss: 0.0176 - mae: 0.0176\n",
      "Epoch 90/100\n",
      " - 0s - loss: 0.0182 - mae: 0.0182\n",
      "Epoch 91/100\n",
      " - 0s - loss: 0.0195 - mae: 0.0195\n",
      "Epoch 92/100\n",
      " - 0s - loss: 0.0190 - mae: 0.0190\n",
      "Epoch 93/100\n",
      " - 0s - loss: 0.0196 - mae: 0.0196\n",
      "Epoch 94/100\n",
      " - 0s - loss: 0.0177 - mae: 0.0177\n",
      "Epoch 95/100\n",
      " - 0s - loss: 0.0179 - mae: 0.0179\n",
      "Epoch 96/100\n",
      " - 0s - loss: 0.0187 - mae: 0.0187\n",
      "Epoch 97/100\n",
      " - 0s - loss: 0.0177 - mae: 0.0177\n",
      "Epoch 98/100\n",
      " - 0s - loss: 0.0170 - mae: 0.0170\n",
      "Epoch 99/100\n",
      " - 0s - loss: 0.0183 - mae: 0.0183\n",
      "Epoch 100/100\n",
      " - 0s - loss: 0.0194 - mae: 0.0194\n"
     ]
    },
    {
     "data": {
      "text/plain": [
       "<keras.callbacks.callbacks.History at 0x4f7c0a2240>"
      ]
     },
     "execution_count": 74,
     "metadata": {},
     "output_type": "execute_result"
    }
   ],
   "source": [
    "dnn_2.compile(loss='mae', optimizer='adam', metrics=['mae'])\n",
    "dnn_2.fit(X_Intel, Y_Intel, epochs = 100, batch_size = 10, verbose = 2)"
   ]
  },
  {
   "cell_type": "code",
   "execution_count": 75,
   "metadata": {
    "colab": {
     "base_uri": "https://localhost:8080/",
     "height": 119
    },
    "colab_type": "code",
    "id": "VRdnw9J7lmzM",
    "outputId": "7aad1392-5439-41d6-c333-fc0528b50adf"
   },
   "outputs": [
    {
     "name": "stdout",
     "output_type": "stream",
     "text": [
      "<keras.layers.core.Dense object at 0x0000004F7D13F9B0>\n",
      "<keras.layers.core.Dense object at 0x0000004F7D13FF28>\n",
      "<keras.layers.core.Dense object at 0x0000004F7D13F9B0> False\n",
      "<keras.layers.core.Dense object at 0x0000004F7D13FF28> False\n",
      "<keras.layers.core.Dense object at 0x0000004F7D2A0278> True\n",
      "<keras.layers.core.Dense object at 0x0000004F7D2635F8> True\n"
     ]
    }
   ],
   "source": [
    "# Freeze the layers except the last 2 dense layers\n",
    "for layer in dnn_2.layers[:-2]:\n",
    "    layer.trainable = False\n",
    "    print(layer)\n",
    "\n",
    "# Check the trainable status of the individual layers\n",
    "for layer in dnn_2.layers:\n",
    "    print(layer, layer.trainable)"
   ]
  },
  {
   "cell_type": "code",
   "execution_count": 76,
   "metadata": {
    "colab": {
     "base_uri": "https://localhost:8080/",
     "height": 1000
    },
    "colab_type": "code",
    "id": "vz67fVoLmf3x",
    "outputId": "daf6a438-a652-4c6c-9fae-266efc4d5c98"
   },
   "outputs": [
    {
     "name": "stderr",
     "output_type": "stream",
     "text": [
      "C:\\Users\\Rajat\\Anaconda3\\lib\\site-packages\\keras\\engine\\training.py:297: UserWarning: Discrepancy between trainable weights and collected trainable weights, did you set `model.trainable` without calling `model.compile` after ?\n",
      "  'Discrepancy between trainable weights and collected trainable'\n"
     ]
    },
    {
     "name": "stdout",
     "output_type": "stream",
     "text": [
      "Epoch 1/100\n",
      " - 0s - loss: 0.3189 - mae: 0.3189\n",
      "Epoch 2/100\n",
      " - 0s - loss: 0.1609 - mae: 0.1609\n",
      "Epoch 3/100\n",
      " - 0s - loss: 0.1207 - mae: 0.1207\n",
      "Epoch 4/100\n",
      " - 0s - loss: 0.1142 - mae: 0.1142\n",
      "Epoch 5/100\n",
      " - 0s - loss: 0.0999 - mae: 0.0999\n",
      "Epoch 6/100\n",
      " - 0s - loss: 0.1673 - mae: 0.1673\n",
      "Epoch 7/100\n",
      " - 0s - loss: 0.1410 - mae: 0.1410\n",
      "Epoch 8/100\n",
      " - 0s - loss: 0.1148 - mae: 0.1148\n",
      "Epoch 9/100\n",
      " - 0s - loss: 0.0714 - mae: 0.0714\n",
      "Epoch 10/100\n",
      " - 0s - loss: 0.0740 - mae: 0.0740\n",
      "Epoch 11/100\n",
      " - 0s - loss: 0.0958 - mae: 0.0958\n",
      "Epoch 12/100\n",
      " - 0s - loss: 0.1316 - mae: 0.1316\n",
      "Epoch 13/100\n",
      " - 0s - loss: 0.0769 - mae: 0.0769\n",
      "Epoch 14/100\n",
      " - 0s - loss: 0.0918 - mae: 0.0918\n",
      "Epoch 15/100\n",
      " - 0s - loss: 0.1453 - mae: 0.1453\n",
      "Epoch 16/100\n",
      " - 0s - loss: 0.1307 - mae: 0.1307\n",
      "Epoch 17/100\n",
      " - 0s - loss: 0.0770 - mae: 0.0770\n",
      "Epoch 18/100\n",
      " - 0s - loss: 0.0922 - mae: 0.0922\n",
      "Epoch 19/100\n",
      " - 0s - loss: 0.1002 - mae: 0.1002\n",
      "Epoch 20/100\n",
      " - 0s - loss: 0.0458 - mae: 0.0458\n",
      "Epoch 21/100\n",
      " - 0s - loss: 0.1091 - mae: 0.1091\n",
      "Epoch 22/100\n",
      " - 0s - loss: 0.0838 - mae: 0.0838\n",
      "Epoch 23/100\n",
      " - 0s - loss: 0.0548 - mae: 0.0548\n",
      "Epoch 24/100\n",
      " - 0s - loss: 0.0705 - mae: 0.0705\n",
      "Epoch 25/100\n",
      " - 0s - loss: 0.0776 - mae: 0.0776\n",
      "Epoch 26/100\n",
      " - 0s - loss: 0.0939 - mae: 0.0939\n",
      "Epoch 27/100\n",
      " - 0s - loss: 0.0796 - mae: 0.0796\n",
      "Epoch 28/100\n",
      " - 0s - loss: 0.0986 - mae: 0.0986\n",
      "Epoch 29/100\n",
      " - 0s - loss: 0.0628 - mae: 0.0628\n",
      "Epoch 30/100\n",
      " - 0s - loss: 0.0452 - mae: 0.0452\n",
      "Epoch 31/100\n",
      " - 0s - loss: 0.0756 - mae: 0.0756\n",
      "Epoch 32/100\n",
      " - 0s - loss: 0.0629 - mae: 0.0629\n",
      "Epoch 33/100\n",
      " - 0s - loss: 0.0478 - mae: 0.0478\n",
      "Epoch 34/100\n",
      " - 0s - loss: 0.0479 - mae: 0.0479\n",
      "Epoch 35/100\n",
      " - 0s - loss: 0.0409 - mae: 0.0409\n",
      "Epoch 36/100\n",
      " - 0s - loss: 0.0716 - mae: 0.0716\n",
      "Epoch 37/100\n",
      " - 0s - loss: 0.0569 - mae: 0.0569\n",
      "Epoch 38/100\n",
      " - 0s - loss: 0.0367 - mae: 0.0367\n",
      "Epoch 39/100\n",
      " - 0s - loss: 0.0571 - mae: 0.0571\n",
      "Epoch 40/100\n",
      " - 0s - loss: 0.0769 - mae: 0.0769\n",
      "Epoch 41/100\n",
      " - 0s - loss: 0.0407 - mae: 0.0407\n",
      "Epoch 42/100\n",
      " - 0s - loss: 0.0560 - mae: 0.0560\n",
      "Epoch 43/100\n",
      " - 0s - loss: 0.0662 - mae: 0.0662\n",
      "Epoch 44/100\n",
      " - 0s - loss: 0.0532 - mae: 0.0532\n",
      "Epoch 45/100\n",
      " - 0s - loss: 0.0461 - mae: 0.0461\n",
      "Epoch 46/100\n",
      " - 0s - loss: 0.0464 - mae: 0.0464\n",
      "Epoch 47/100\n",
      " - 0s - loss: 0.0440 - mae: 0.0440\n",
      "Epoch 48/100\n",
      " - 0s - loss: 0.0618 - mae: 0.0618\n",
      "Epoch 49/100\n",
      " - 0s - loss: 0.0474 - mae: 0.0474\n",
      "Epoch 50/100\n",
      " - 0s - loss: 0.0409 - mae: 0.0409\n",
      "Epoch 51/100\n",
      " - 0s - loss: 0.0399 - mae: 0.0399\n",
      "Epoch 52/100\n",
      " - 0s - loss: 0.0445 - mae: 0.0445\n",
      "Epoch 53/100\n",
      " - 0s - loss: 0.0443 - mae: 0.0443\n",
      "Epoch 54/100\n",
      " - 0s - loss: 0.0412 - mae: 0.0412\n",
      "Epoch 55/100\n",
      " - 0s - loss: 0.0369 - mae: 0.0369\n",
      "Epoch 56/100\n",
      " - 0s - loss: 0.0517 - mae: 0.0517\n",
      "Epoch 57/100\n",
      " - 0s - loss: 0.0531 - mae: 0.0531\n",
      "Epoch 58/100\n",
      " - 0s - loss: 0.0628 - mae: 0.0628\n",
      "Epoch 59/100\n",
      " - 0s - loss: 0.0462 - mae: 0.0462\n",
      "Epoch 60/100\n",
      " - 0s - loss: 0.0395 - mae: 0.0395\n",
      "Epoch 61/100\n",
      " - 0s - loss: 0.0446 - mae: 0.0446\n",
      "Epoch 62/100\n",
      " - 0s - loss: 0.0457 - mae: 0.0457\n",
      "Epoch 63/100\n",
      " - 0s - loss: 0.0421 - mae: 0.0421\n",
      "Epoch 64/100\n",
      " - 0s - loss: 0.0476 - mae: 0.0476\n",
      "Epoch 65/100\n",
      " - 0s - loss: 0.0353 - mae: 0.0353\n",
      "Epoch 66/100\n",
      " - 0s - loss: 0.0502 - mae: 0.0502\n",
      "Epoch 67/100\n",
      " - 0s - loss: 0.0363 - mae: 0.0363\n",
      "Epoch 68/100\n",
      " - 0s - loss: 0.0462 - mae: 0.0462\n",
      "Epoch 69/100\n",
      " - 0s - loss: 0.0624 - mae: 0.0624\n",
      "Epoch 70/100\n",
      " - 0s - loss: 0.0827 - mae: 0.0827\n",
      "Epoch 71/100\n",
      " - 0s - loss: 0.0443 - mae: 0.0443\n",
      "Epoch 72/100\n",
      " - 0s - loss: 0.0353 - mae: 0.0353\n",
      "Epoch 73/100\n",
      " - 0s - loss: 0.0356 - mae: 0.0356\n",
      "Epoch 74/100\n",
      " - 0s - loss: 0.0432 - mae: 0.0432\n",
      "Epoch 75/100\n",
      " - 0s - loss: 0.0506 - mae: 0.0506\n",
      "Epoch 76/100\n",
      " - 0s - loss: 0.0389 - mae: 0.0389\n",
      "Epoch 77/100\n",
      " - 0s - loss: 0.0537 - mae: 0.0537\n",
      "Epoch 78/100\n",
      " - 0s - loss: 0.0387 - mae: 0.0387\n",
      "Epoch 79/100\n",
      " - 0s - loss: 0.0494 - mae: 0.0494\n",
      "Epoch 80/100\n",
      " - 0s - loss: 0.0432 - mae: 0.0432\n",
      "Epoch 81/100\n",
      " - 0s - loss: 0.0463 - mae: 0.0463\n",
      "Epoch 82/100\n",
      " - 0s - loss: 0.0252 - mae: 0.0252\n",
      "Epoch 83/100\n",
      " - 0s - loss: 0.0571 - mae: 0.0571\n",
      "Epoch 84/100\n",
      " - 0s - loss: 0.0360 - mae: 0.0360\n",
      "Epoch 85/100\n",
      " - 0s - loss: 0.0513 - mae: 0.0513\n",
      "Epoch 86/100\n",
      " - 0s - loss: 0.0267 - mae: 0.0267\n",
      "Epoch 87/100\n",
      " - 0s - loss: 0.0418 - mae: 0.0418\n",
      "Epoch 88/100\n",
      " - 0s - loss: 0.0376 - mae: 0.0376\n",
      "Epoch 89/100\n",
      " - 0s - loss: 0.0473 - mae: 0.0473\n",
      "Epoch 90/100\n",
      " - 0s - loss: 0.0372 - mae: 0.0372\n",
      "Epoch 91/100\n",
      " - 0s - loss: 0.0512 - mae: 0.0512\n",
      "Epoch 92/100\n",
      " - 0s - loss: 0.0366 - mae: 0.0366\n",
      "Epoch 93/100\n",
      " - 0s - loss: 0.0646 - mae: 0.0646\n",
      "Epoch 94/100\n",
      " - 0s - loss: 0.0766 - mae: 0.0766\n",
      "Epoch 95/100\n",
      " - 0s - loss: 0.0862 - mae: 0.0862\n",
      "Epoch 96/100\n",
      " - 0s - loss: 0.0564 - mae: 0.0564\n",
      "Epoch 97/100\n",
      " - 0s - loss: 0.0402 - mae: 0.0402\n",
      "Epoch 98/100\n",
      " - 0s - loss: 0.0626 - mae: 0.0626\n",
      "Epoch 99/100\n",
      " - 0s - loss: 0.0401 - mae: 0.0401\n",
      "Epoch 100/100\n",
      " - 0s - loss: 0.0358 - mae: 0.0358\n"
     ]
    },
    {
     "data": {
      "text/plain": [
       "<keras.callbacks.callbacks.History at 0x4f7c0a2898>"
      ]
     },
     "execution_count": 76,
     "metadata": {},
     "output_type": "execute_result"
    }
   ],
   "source": [
    "dnn_2.fit(X_train_ARM, Y_train_ARM, epochs = 100, batch_size = 1, verbose = 2)"
   ]
  },
  {
   "cell_type": "code",
   "execution_count": 81,
   "metadata": {
    "colab": {
     "base_uri": "https://localhost:8080/",
     "height": 282
    },
    "colab_type": "code",
    "id": "1pyUnY8eRHyH",
    "outputId": "fda495f0-f03e-464d-e9f3-631a2fae8e03"
   },
   "outputs": [],
   "source": [
    "Y_pred = dnn_2.predict(X_test_ARM)"
   ]
  },
  {
   "cell_type": "code",
   "execution_count": 84,
   "metadata": {},
   "outputs": [],
   "source": [
    "pickle.dump(dnn_2, open('dnn_model_intel_to_ARM', 'wb'))"
   ]
  },
  {
   "cell_type": "code",
   "execution_count": 83,
   "metadata": {
    "colab": {
     "base_uri": "https://localhost:8080/",
     "height": 412
    },
    "colab_type": "code",
    "id": "r2KsMmqzRYz_",
    "outputId": "657671d8-2cf8-469e-8320-c2d259fd10ab"
   },
   "outputs": [
    {
     "name": "stdout",
     "output_type": "stream",
     "text": [
      "MSE: \n",
      " 41286.66924857314\n",
      "\n",
      "R2: \n",
      " 0.8296179346889205\n",
      "\n",
      "MAPE Runtime: \n",
      " 0.12475475779043518\n",
      "\n",
      "MAPE Power: \n",
      " 0.08327985866351675\n"
     ]
    },
    {
     "data": {
      "image/png": "[encoded data removed]",
      "text/plain": [
       "<Figure size 432x288 with 1 Axes>"
      ]
     },
     "metadata": {
      "needs_background": "light"
     },
     "output_type": "display_data"
    },
    {
     "data": {
      "image/png": "[encoded data removed]",
      "text/plain": [
       "<Figure size 432x288 with 1 Axes>"
      ]
     },
     "metadata": {
      "needs_background": "light"
     },
     "output_type": "display_data"
    }
   ],
   "source": [
    "Y_fold = scaler_y.inverse_transform(Y_test_ARM)\n",
    "Y_pred = scaler_y.inverse_transform(Y_pred)\n",
    "plt.figure()\n",
    "plt.plot(Y_fold[:,0], 'b')\n",
    "plt.plot(Y_pred[:,0], 'r')\n",
    "plt.figure()\n",
    "plt.plot(Y_fold[:,1], 'b')\n",
    "plt.plot(Y_pred[:,1], 'r')\n",
    "r2_scores = (r2_score(Y_fold, Y_pred))\n",
    "mse_scores = (mean_squared_error(Y_fold, Y_pred))\n",
    "mape_scores_runtime = (absolute_percentage_error(Y_fold[:,0], Y_pred[:,0]))\n",
    "mape_scores_power = (absolute_percentage_error(Y_fold[:,1], Y_pred[:,1]))\n",
    "print('MSE: \\n', mse_scores)\n",
    "print('\\nR2: \\n', r2_scores)\n",
    "print('\\nMAPE Runtime: \\n', mape_scores_runtime)\n",
    "print('\\nMAPE Power: \\n', mape_scores_power)"
   ]
  },
  {
   "cell_type": "code",
   "execution_count": null,
   "metadata": {
    "colab": {},
    "colab_type": "code",
    "id": "2cog4vU9SH6W"
   },
   "outputs": [],
   "source": []
  },
  {
   "cell_type": "code",
   "execution_count": null,
   "metadata": {},
   "outputs": [],
   "source": []
  }
 ],
 "metadata": {
  "accelerator": "GPU",
  "colab": {
   "name": "DNN_transfer_learning_Qsort_Simulated.ipynb",
   "provenance": [],
   "toc_visible": true
  },
  "kernelspec": {
   "display_name": "Python 3",
   "language": "python",
   "name": "python3"
  },
  "language_info": {
   "codemirror_mode": {
    "name": "ipython",
    "version": 3
   },
   "file_extension": ".py",
   "mimetype": "text/x-python",
   "name": "python",
   "nbconvert_exporter": "python",
   "pygments_lexer": "ipython3",
   "version": "3.7.3"
  }
 },
 "nbformat": 4,
 "nbformat_minor": 1
}
