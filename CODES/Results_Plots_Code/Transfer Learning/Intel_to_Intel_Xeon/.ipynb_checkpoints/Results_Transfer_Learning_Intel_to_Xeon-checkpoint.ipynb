{
 "cells": [
  {
   "cell_type": "code",
   "execution_count": 1,
   "metadata": {},
   "outputs": [],
   "source": [
    "import pandas as pd\n",
    "import matplotlib.pyplot as plt\n",
    "from matplotlib import pyplot\n",
    "import numpy as np\n",
    "plt.rcParams.update({'figure.max_open_warning': 0})"
   ]
  },
  {
   "cell_type": "code",
   "execution_count": 2,
   "metadata": {},
   "outputs": [],
   "source": [
    "import matplotlib as mpl\n",
    "font = {'family' : 'normal',\n",
    "        'weight' : 'bold',\n",
    "        'size'   : 30}\n",
    "\n",
    "mpl.rc('font', **font)"
   ]
  },
  {
   "cell_type": "code",
   "execution_count": 3,
   "metadata": {},
   "outputs": [],
   "source": [
    "df_arm = pd.read_csv('result_intel_to_xeon_qsort.csv')\n",
    "# df_amd = pd.read_csv('result_intel_to_Amd.csv')"
   ]
  },
  {
   "cell_type": "code",
   "execution_count": 4,
   "metadata": {},
   "outputs": [
    {
     "data": {
      "text/html": [
       "<div>\n",
       "<style scoped>\n",
       "    .dataframe tbody tr th:only-of-type {\n",
       "        vertical-align: middle;\n",
       "    }\n",
       "\n",
       "    .dataframe tbody tr th {\n",
       "        vertical-align: top;\n",
       "    }\n",
       "\n",
       "    .dataframe thead th {\n",
       "        text-align: right;\n",
       "    }\n",
       "</style>\n",
       "<table border=\"1\" class=\"dataframe\">\n",
       "  <thead>\n",
       "    <tr style=\"text-align: right;\">\n",
       "      <th></th>\n",
       "      <th>models</th>\n",
       "      <th>r2</th>\n",
       "      <th>mape_runtime</th>\n",
       "      <th>mape_power</th>\n",
       "    </tr>\n",
       "  </thead>\n",
       "  <tbody>\n",
       "    <tr>\n",
       "      <th>0</th>\n",
       "      <td>lr</td>\n",
       "      <td>-0.300000</td>\n",
       "      <td>1.200000</td>\n",
       "      <td>1.500000</td>\n",
       "    </tr>\n",
       "    <tr>\n",
       "      <th>1</th>\n",
       "      <td>rr</td>\n",
       "      <td>0.704964</td>\n",
       "      <td>0.398063</td>\n",
       "      <td>0.150776</td>\n",
       "    </tr>\n",
       "    <tr>\n",
       "      <th>2</th>\n",
       "      <td>knn</td>\n",
       "      <td>0.489882</td>\n",
       "      <td>0.380114</td>\n",
       "      <td>0.186915</td>\n",
       "    </tr>\n",
       "    <tr>\n",
       "      <th>3</th>\n",
       "      <td>gpr</td>\n",
       "      <td>0.285805</td>\n",
       "      <td>1.137476</td>\n",
       "      <td>0.195247</td>\n",
       "    </tr>\n",
       "    <tr>\n",
       "      <th>4</th>\n",
       "      <td>dt</td>\n",
       "      <td>0.606547</td>\n",
       "      <td>0.269013</td>\n",
       "      <td>0.173518</td>\n",
       "    </tr>\n",
       "    <tr>\n",
       "      <th>5</th>\n",
       "      <td>rf</td>\n",
       "      <td>0.641491</td>\n",
       "      <td>0.281893</td>\n",
       "      <td>0.159933</td>\n",
       "    </tr>\n",
       "    <tr>\n",
       "      <th>6</th>\n",
       "      <td>etr</td>\n",
       "      <td>0.740823</td>\n",
       "      <td>0.292280</td>\n",
       "      <td>0.145982</td>\n",
       "    </tr>\n",
       "    <tr>\n",
       "      <th>7</th>\n",
       "      <td>dnn</td>\n",
       "      <td>0.620119</td>\n",
       "      <td>0.180433</td>\n",
       "      <td>0.110804</td>\n",
       "    </tr>\n",
       "  </tbody>\n",
       "</table>\n",
       "</div>"
      ],
      "text/plain": [
       "  models        r2  mape_runtime  mape_power\n",
       "0     lr -0.300000      1.200000    1.500000\n",
       "1     rr  0.704964      0.398063    0.150776\n",
       "2    knn  0.489882      0.380114    0.186915\n",
       "3    gpr  0.285805      1.137476    0.195247\n",
       "4     dt  0.606547      0.269013    0.173518\n",
       "5     rf  0.641491      0.281893    0.159933\n",
       "6    etr  0.740823      0.292280    0.145982\n",
       "7    dnn  0.620119      0.180433    0.110804"
      ]
     },
     "execution_count": 4,
     "metadata": {},
     "output_type": "execute_result"
    }
   ],
   "source": [
    "df_arm"
   ]
  },
  {
   "cell_type": "code",
   "execution_count": 5,
   "metadata": {},
   "outputs": [],
   "source": [
    "# df_amd"
   ]
  },
  {
   "cell_type": "code",
   "execution_count": 6,
   "metadata": {},
   "outputs": [
    {
     "data": {
      "text/plain": [
       "0     lr\n",
       "1     rr\n",
       "2    knn\n",
       "3    gpr\n",
       "4     dt\n",
       "5     rf\n",
       "6    etr\n",
       "7    dnn\n",
       "Name: models, dtype: object"
      ]
     },
     "execution_count": 6,
     "metadata": {},
     "output_type": "execute_result"
    }
   ],
   "source": [
    "ls  = df_arm['models']\n",
    "ls"
   ]
  },
  {
   "cell_type": "code",
   "execution_count": 7,
   "metadata": {},
   "outputs": [
    {
     "data": {
      "text/plain": [
       "numpy.float64"
      ]
     },
     "execution_count": 7,
     "metadata": {},
     "output_type": "execute_result"
    }
   ],
   "source": [
    "k = df_arm.iloc[0]['r2']\n",
    "type(k)"
   ]
  },
  {
   "cell_type": "code",
   "execution_count": 8,
   "metadata": {},
   "outputs": [],
   "source": [
    "r2_arm = []\n",
    "ape_runtime_arm = []\n",
    "ape_power_arm = []\n",
    "for i in range(8):\n",
    "    temp = df_arm.iloc[i]['r2']\n",
    "    r2_arm.append(temp)\n",
    "for i in range(8):\n",
    "    temp = df_arm.iloc[i]['mape_runtime']\n",
    "    ape_runtime_arm.append(temp)\n",
    "\n",
    "for i in range(8):\n",
    "    temp = df_arm.iloc[i]['mape_power']\n",
    "    ape_power_arm.append(temp)\n",
    "    \n",
    "for i in range(8):\n",
    "    ape_runtime_arm[i] = ape_runtime_arm[i]*100\n",
    "for i in range(8):\n",
    "    ape_power_arm[i] = ape_power_arm[i]*100    "
   ]
  },
  {
   "cell_type": "raw",
   "metadata": {},
   "source": [
    "r2_amd = []\n",
    "ape_runtime_amd = []\n",
    "ape_power_amd = []\n",
    "for i in range(8):\n",
    "    temp = df_amd.iloc[i]['r2']\n",
    "    r2_amd.append(temp)\n",
    "for i in range(8):\n",
    "    temp = df_amd.iloc[i]['mape_runtime']\n",
    "    ape_runtime_amd.append(temp)\n",
    "\n",
    "for i in range(8):\n",
    "    temp = df_amd.iloc[i]['mape_power']\n",
    "    ape_power_amd.append(temp)\n",
    "    \n",
    "for i in range(8):\n",
    "    ape_runtime_amd[i] = ape_runtime_amd[i]*100\n",
    "for i in range(8):\n",
    "    ape_power_amd[i] = ape_power_amd[i]*100    "
   ]
  },
  {
   "cell_type": "code",
   "execution_count": 9,
   "metadata": {},
   "outputs": [
    {
     "name": "stdout",
     "output_type": "stream",
     "text": [
      "[120.0, 39.8062972, 38.011363700000004, 113.7476432, 26.901264199999996, 28.1893053, 29.2279999, 18.043304300000003] \n",
      " 28.1061898 \n",
      "\n",
      "[150.0, 15.0775669, 18.6914526, 19.5246984, 17.3518024, 15.99327, 14.598193199999997, 11.0804112] \n",
      " 15.981088533333333 \n",
      "\n"
     ]
    }
   ],
   "source": [
    "print(ape_runtime_arm,'\\n', np.mean(ape_runtime_arm[4:7]), '\\n')\n",
    "print(ape_power_arm,'\\n', np.mean(ape_power_arm[4:7]), '\\n')"
   ]
  },
  {
   "cell_type": "code",
   "execution_count": 11,
   "metadata": {},
   "outputs": [
    {
     "name": "stderr",
     "output_type": "stream",
     "text": [
      "findfont: Font family ['normal'] not found. Falling back to DejaVu Sans.\n",
      "The PostScript backend does not support transparency; partially transparent artists will be rendered opaque.\n",
      "The PostScript backend does not support transparency; partially transparent artists will be rendered opaque.\n",
      "The PostScript backend does not support transparency; partially transparent artists will be rendered opaque.\n",
      "The PostScript backend does not support transparency; partially transparent artists will be rendered opaque.\n",
      "C:\\Users\\Rajat\\Anaconda3\\lib\\site-packages\\ipykernel_launcher.py:27: UserWarning: Matplotlib is currently using module://ipykernel.pylab.backend_inline, which is a non-GUI backend, so cannot show the figure.\n"
     ]
    },
    {
     "data": {
      "image/png": "[encoded data removed]",
      "text/plain": [
       "<Figure size 720x504 with 2 Axes>"
      ]
     },
     "metadata": {
      "needs_background": "light"
     },
     "output_type": "display_data"
    }
   ],
   "source": [
    "ls_temp = ['lr', 'rr', 'knn','gpr','dt','rf','etr','dnn']\n",
    "ls = np.arange(0,8)\n",
    "fig, ax = plt.subplots(1,1, figsize = (10, 7)) # create 2x2 array of subplots\n",
    "y_r2 = r2_arm\n",
    "y_mape_runtime = ape_runtime_arm\n",
    "y_mape_power = ape_power_arm\n",
    "\n",
    "bar1 = ax.bar(ls-0.2,y_mape_runtime, width = 0.38,color = 'limegreen', label = 'APE Runtime', align = 'center')\n",
    "bar2 = ax.bar(ls+0.2,y_mape_power, width = 0.38, color = 'mediumblue', label = 'APE Power', align = 'center')\n",
    "ax.legend(frameon= True, loc='upper left', prop={'size': 18})\n",
    "# ax_temp.set_xticklabels(ls, rotation = 90)\n",
    "ax.ticklabel_format(style='sci', axis='y', scilimits=(0,0))\n",
    "ax.set_ylim(0,50)\n",
    "ax.grid()\n",
    "\n",
    "ax_temp = ax.twinx()  # instantiate a second axes that shares the same x-axis\n",
    "px = ax_temp.plot(ls_temp, y_r2,marker = '+', color = 'darkorchid',label='R2 Score', linewidth = 3, markersize = 12, \n",
    "                  mec = 'crimson',mew = 10)\n",
    "ax_temp.legend(frameon=True, loc='upper right', prop={'size': 18})\n",
    "ax_temp.set_xticklabels(ls_temp, rotation = 90, fontsize = 25,fontweight = 'bold')\n",
    "ax_temp.set_ylim(-0.5,1)\n",
    "\n",
    "fig.tight_layout()  # otherwise the right y-label is slightly clipped\n",
    "name = 'transfer_learning_intel_to_xeon'\n",
    "plt.rc('font', size = 25)\n",
    "fig.savefig(name+ '.eps')\n",
    "fig.show()\n"
   ]
  },
  {
   "cell_type": "code",
   "execution_count": null,
   "metadata": {},
   "outputs": [],
   "source": []
  },
  {
   "cell_type": "code",
   "execution_count": null,
   "metadata": {},
   "outputs": [],
   "source": []
  }
 ],
 "metadata": {
  "kernelspec": {
   "display_name": "Python 3",
   "language": "python",
   "name": "python3"
  },
  "language_info": {
   "codemirror_mode": {
    "name": "ipython",
    "version": 3
   },
   "file_extension": ".py",
   "mimetype": "text/x-python",
   "name": "python",
   "nbconvert_exporter": "python",
   "pygments_lexer": "ipython3",
   "version": "3.7.3"
  }
 },
 "nbformat": 4,
 "nbformat_minor": 2
}
