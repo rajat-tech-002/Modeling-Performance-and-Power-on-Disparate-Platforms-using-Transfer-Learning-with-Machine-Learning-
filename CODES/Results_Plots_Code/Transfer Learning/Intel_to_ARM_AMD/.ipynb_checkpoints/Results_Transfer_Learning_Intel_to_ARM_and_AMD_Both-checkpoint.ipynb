{
 "cells": [
  {
   "cell_type": "code",
   "execution_count": 1,
   "metadata": {},
   "outputs": [],
   "source": [
    "import pandas as pd\n",
    "import matplotlib.pyplot as plt\n",
    "from matplotlib import pyplot\n",
    "import numpy as np\n",
    "plt.rcParams.update({'figure.max_open_warning': 0})"
   ]
  },
  {
   "cell_type": "code",
   "execution_count": 2,
   "metadata": {},
   "outputs": [],
   "source": [
    "import matplotlib as mpl\n",
    "font = {'family' : 'normal',\n",
    "        'weight' : 'bold',\n",
    "        'size'   : 30}\n",
    "\n",
    "mpl.rc('font', **font)"
   ]
  },
  {
   "cell_type": "code",
   "execution_count": 3,
   "metadata": {},
   "outputs": [],
   "source": [
    "df_arm = pd.read_csv('result_intel_to_Arm.csv')\n",
    "df_amd = pd.read_csv('result_intel_to_Amd.csv')"
   ]
  },
  {
   "cell_type": "code",
   "execution_count": 4,
   "metadata": {},
   "outputs": [
    {
     "data": {
      "text/html": [
       "<div>\n",
       "<style scoped>\n",
       "    .dataframe tbody tr th:only-of-type {\n",
       "        vertical-align: middle;\n",
       "    }\n",
       "\n",
       "    .dataframe tbody tr th {\n",
       "        vertical-align: top;\n",
       "    }\n",
       "\n",
       "    .dataframe thead th {\n",
       "        text-align: right;\n",
       "    }\n",
       "</style>\n",
       "<table border=\"1\" class=\"dataframe\">\n",
       "  <thead>\n",
       "    <tr style=\"text-align: right;\">\n",
       "      <th></th>\n",
       "      <th>models</th>\n",
       "      <th>r2</th>\n",
       "      <th>mape_runtime</th>\n",
       "      <th>mape_power</th>\n",
       "    </tr>\n",
       "  </thead>\n",
       "  <tbody>\n",
       "    <tr>\n",
       "      <th>0</th>\n",
       "      <td>lr</td>\n",
       "      <td>0.513690</td>\n",
       "      <td>0.184565</td>\n",
       "      <td>0.283113</td>\n",
       "    </tr>\n",
       "    <tr>\n",
       "      <th>1</th>\n",
       "      <td>rr</td>\n",
       "      <td>0.620764</td>\n",
       "      <td>0.184928</td>\n",
       "      <td>0.233130</td>\n",
       "    </tr>\n",
       "    <tr>\n",
       "      <th>2</th>\n",
       "      <td>knn</td>\n",
       "      <td>0.762413</td>\n",
       "      <td>0.151853</td>\n",
       "      <td>0.153766</td>\n",
       "    </tr>\n",
       "    <tr>\n",
       "      <th>3</th>\n",
       "      <td>gpr</td>\n",
       "      <td>0.260291</td>\n",
       "      <td>0.687301</td>\n",
       "      <td>0.315152</td>\n",
       "    </tr>\n",
       "    <tr>\n",
       "      <th>4</th>\n",
       "      <td>dt</td>\n",
       "      <td>0.639057</td>\n",
       "      <td>0.148454</td>\n",
       "      <td>0.213399</td>\n",
       "    </tr>\n",
       "    <tr>\n",
       "      <th>5</th>\n",
       "      <td>rf</td>\n",
       "      <td>0.657320</td>\n",
       "      <td>0.150905</td>\n",
       "      <td>0.224539</td>\n",
       "    </tr>\n",
       "    <tr>\n",
       "      <th>6</th>\n",
       "      <td>etr</td>\n",
       "      <td>0.753205</td>\n",
       "      <td>0.145707</td>\n",
       "      <td>0.223098</td>\n",
       "    </tr>\n",
       "    <tr>\n",
       "      <th>7</th>\n",
       "      <td>dnn</td>\n",
       "      <td>0.829618</td>\n",
       "      <td>0.124755</td>\n",
       "      <td>0.083280</td>\n",
       "    </tr>\n",
       "  </tbody>\n",
       "</table>\n",
       "</div>"
      ],
      "text/plain": [
       "  models        r2  mape_runtime  mape_power\n",
       "0     lr  0.513690      0.184565    0.283113\n",
       "1     rr  0.620764      0.184928    0.233130\n",
       "2    knn  0.762413      0.151853    0.153766\n",
       "3    gpr  0.260291      0.687301    0.315152\n",
       "4     dt  0.639057      0.148454    0.213399\n",
       "5     rf  0.657320      0.150905    0.224539\n",
       "6    etr  0.753205      0.145707    0.223098\n",
       "7    dnn  0.829618      0.124755    0.083280"
      ]
     },
     "execution_count": 4,
     "metadata": {},
     "output_type": "execute_result"
    }
   ],
   "source": [
    "df_arm"
   ]
  },
  {
   "cell_type": "code",
   "execution_count": 5,
   "metadata": {},
   "outputs": [
    {
     "data": {
      "text/html": [
       "<div>\n",
       "<style scoped>\n",
       "    .dataframe tbody tr th:only-of-type {\n",
       "        vertical-align: middle;\n",
       "    }\n",
       "\n",
       "    .dataframe tbody tr th {\n",
       "        vertical-align: top;\n",
       "    }\n",
       "\n",
       "    .dataframe thead th {\n",
       "        text-align: right;\n",
       "    }\n",
       "</style>\n",
       "<table border=\"1\" class=\"dataframe\">\n",
       "  <thead>\n",
       "    <tr style=\"text-align: right;\">\n",
       "      <th></th>\n",
       "      <th>models</th>\n",
       "      <th>r2</th>\n",
       "      <th>mape_runtime</th>\n",
       "      <th>mape_power</th>\n",
       "    </tr>\n",
       "  </thead>\n",
       "  <tbody>\n",
       "    <tr>\n",
       "      <th>0</th>\n",
       "      <td>lr</td>\n",
       "      <td>0.759084</td>\n",
       "      <td>0.182825</td>\n",
       "      <td>0.169215</td>\n",
       "    </tr>\n",
       "    <tr>\n",
       "      <th>1</th>\n",
       "      <td>rr</td>\n",
       "      <td>0.801882</td>\n",
       "      <td>0.112721</td>\n",
       "      <td>0.184972</td>\n",
       "    </tr>\n",
       "    <tr>\n",
       "      <th>2</th>\n",
       "      <td>knn</td>\n",
       "      <td>0.696744</td>\n",
       "      <td>0.142217</td>\n",
       "      <td>0.221073</td>\n",
       "    </tr>\n",
       "    <tr>\n",
       "      <th>3</th>\n",
       "      <td>gpr</td>\n",
       "      <td>0.121147</td>\n",
       "      <td>0.697970</td>\n",
       "      <td>0.290105</td>\n",
       "    </tr>\n",
       "    <tr>\n",
       "      <th>4</th>\n",
       "      <td>dt</td>\n",
       "      <td>0.631529</td>\n",
       "      <td>0.036033</td>\n",
       "      <td>0.241282</td>\n",
       "    </tr>\n",
       "    <tr>\n",
       "      <th>5</th>\n",
       "      <td>rf</td>\n",
       "      <td>0.612275</td>\n",
       "      <td>0.027417</td>\n",
       "      <td>0.256054</td>\n",
       "    </tr>\n",
       "    <tr>\n",
       "      <th>6</th>\n",
       "      <td>etr</td>\n",
       "      <td>0.682403</td>\n",
       "      <td>0.023336</td>\n",
       "      <td>0.222377</td>\n",
       "    </tr>\n",
       "    <tr>\n",
       "      <th>7</th>\n",
       "      <td>dnn</td>\n",
       "      <td>0.784614</td>\n",
       "      <td>0.204524</td>\n",
       "      <td>0.089820</td>\n",
       "    </tr>\n",
       "  </tbody>\n",
       "</table>\n",
       "</div>"
      ],
      "text/plain": [
       "  models        r2  mape_runtime  mape_power\n",
       "0     lr  0.759084      0.182825    0.169215\n",
       "1     rr  0.801882      0.112721    0.184972\n",
       "2    knn  0.696744      0.142217    0.221073\n",
       "3    gpr  0.121147      0.697970    0.290105\n",
       "4     dt  0.631529      0.036033    0.241282\n",
       "5     rf  0.612275      0.027417    0.256054\n",
       "6    etr  0.682403      0.023336    0.222377\n",
       "7    dnn  0.784614      0.204524    0.089820"
      ]
     },
     "execution_count": 5,
     "metadata": {},
     "output_type": "execute_result"
    }
   ],
   "source": [
    "df_amd"
   ]
  },
  {
   "cell_type": "code",
   "execution_count": 6,
   "metadata": {},
   "outputs": [
    {
     "data": {
      "text/plain": [
       "0     lr\n",
       "1     rr\n",
       "2    knn\n",
       "3    gpr\n",
       "4     dt\n",
       "5     rf\n",
       "6    etr\n",
       "7    dnn\n",
       "Name: models, dtype: object"
      ]
     },
     "execution_count": 6,
     "metadata": {},
     "output_type": "execute_result"
    }
   ],
   "source": [
    "ls  = df_arm['models']\n",
    "ls"
   ]
  },
  {
   "cell_type": "code",
   "execution_count": 7,
   "metadata": {},
   "outputs": [
    {
     "data": {
      "text/plain": [
       "numpy.float64"
      ]
     },
     "execution_count": 7,
     "metadata": {},
     "output_type": "execute_result"
    }
   ],
   "source": [
    "k = df_arm.iloc[0]['r2']\n",
    "type(k)"
   ]
  },
  {
   "cell_type": "code",
   "execution_count": 8,
   "metadata": {},
   "outputs": [],
   "source": [
    "r2_arm = []\n",
    "ape_runtime_arm = []\n",
    "ape_power_arm = []\n",
    "for i in range(8):\n",
    "    temp = df_arm.iloc[i]['r2']\n",
    "    r2_arm.append(temp)\n",
    "for i in range(8):\n",
    "    temp = df_arm.iloc[i]['mape_runtime']\n",
    "    ape_runtime_arm.append(temp)\n",
    "\n",
    "for i in range(8):\n",
    "    temp = df_arm.iloc[i]['mape_power']\n",
    "    ape_power_arm.append(temp)\n",
    "    \n",
    "for i in range(8):\n",
    "    ape_runtime_arm[i] = ape_runtime_arm[i]*100\n",
    "for i in range(8):\n",
    "    ape_power_arm[i] = ape_power_arm[i]*100    "
   ]
  },
  {
   "cell_type": "code",
   "execution_count": 9,
   "metadata": {},
   "outputs": [],
   "source": [
    "r2_amd = []\n",
    "ape_runtime_amd = []\n",
    "ape_power_amd = []\n",
    "for i in range(8):\n",
    "    temp = df_amd.iloc[i]['r2']\n",
    "    r2_amd.append(temp)\n",
    "for i in range(8):\n",
    "    temp = df_amd.iloc[i]['mape_runtime']\n",
    "    ape_runtime_amd.append(temp)\n",
    "\n",
    "for i in range(8):\n",
    "    temp = df_amd.iloc[i]['mape_power']\n",
    "    ape_power_amd.append(temp)\n",
    "    \n",
    "for i in range(8):\n",
    "    ape_runtime_amd[i] = ape_runtime_amd[i]*100\n",
    "for i in range(8):\n",
    "    ape_power_amd[i] = ape_power_amd[i]*100    "
   ]
  },
  {
   "cell_type": "code",
   "execution_count": 11,
   "metadata": {},
   "outputs": [
    {
     "data": {
      "text/plain": [
       "['lr', 'rr', 'knn', 'gpr', 'dt', 'rf', 'etr', 'dnn']"
      ]
     },
     "execution_count": 11,
     "metadata": {},
     "output_type": "execute_result"
    }
   ],
   "source": [
    "ls_temp = ['lr', 'rr', 'knn','gpr','dt','rf','etr','dnn']\n",
    "\n",
    "ls_temp"
   ]
  },
  {
   "cell_type": "code",
   "execution_count": 12,
   "metadata": {},
   "outputs": [
    {
     "data": {
      "text/plain": [
       "([0.759084269,\n",
       "  0.8018819779999999,\n",
       "  0.696744135,\n",
       "  0.12114667300000001,\n",
       "  0.631528918,\n",
       "  0.612275083,\n",
       "  0.682402999,\n",
       "  0.784614212],\n",
       " '\\n',\n",
       " 0.642069)"
      ]
     },
     "execution_count": 12,
     "metadata": {},
     "output_type": "execute_result"
    }
   ],
   "source": [
    "r2_amd,'\\n', np.mean(r2_amd[4:7])"
   ]
  },
  {
   "cell_type": "code",
   "execution_count": 13,
   "metadata": {},
   "outputs": [
    {
     "name": "stdout",
     "output_type": "stream",
     "text": [
      "APE Runtime ARM: [18.4565177, 18.4927525, 15.1852655, 68.73006459999999, 14.8453793, 15.090527000000002, 14.5706679, 12.4754758] \n",
      " 14.2455125 \n",
      "\n",
      "APE Runtime AMD: [18.282506199999997, 11.272124, 14.221724499999999, 69.7970478, 3.6033132999999995, 2.7417018, 2.3335561, 20.4523511] \n",
      " 2.8928570666666666 \n",
      "\n",
      "APE Power ARM: [28.311306199999997, 23.3130292, 15.3766197, 31.5151674, 21.339938, 22.453875399999998, 22.3097897, 8.3279859] \n",
      " 18.60789725 \n",
      "\n",
      "APE Power AMD: [16.9215163, 18.4972031, 22.107336, 29.010537499999998, 24.128234600000003, 25.6053657, 22.2376957, 8.9820295] \n",
      " 23.990432000000002 \n",
      "\n"
     ]
    }
   ],
   "source": [
    "print('APE Runtime ARM:', ape_runtime_arm,'\\n', np.mean(ape_runtime_arm[4:8]), '\\n')\n",
    "print('APE Runtime AMD:',ape_runtime_amd,'\\n', np.mean(ape_runtime_amd[4:7]), '\\n')\n",
    "\n",
    "print('APE Power ARM:',ape_power_arm,'\\n', np.mean(ape_power_arm[4:8]), '\\n')\n",
    "print('APE Power AMD:',ape_power_amd,'\\n', np.mean(ape_power_amd[4:7]), '\\n')\n"
   ]
  },
  {
   "cell_type": "code",
   "execution_count": 16,
   "metadata": {},
   "outputs": [
    {
     "name": "stderr",
     "output_type": "stream",
     "text": [
      "findfont: Font family ['normal'] not found. Falling back to DejaVu Sans.\n",
      "The PostScript backend does not support transparency; partially transparent artists will be rendered opaque.\n",
      "The PostScript backend does not support transparency; partially transparent artists will be rendered opaque.\n",
      "The PostScript backend does not support transparency; partially transparent artists will be rendered opaque.\n",
      "The PostScript backend does not support transparency; partially transparent artists will be rendered opaque.\n",
      "C:\\Users\\Rajat\\Anaconda3\\lib\\site-packages\\ipykernel_launcher.py:27: UserWarning: Matplotlib is currently using module://ipykernel.pylab.backend_inline, which is a non-GUI backend, so cannot show the figure.\n"
     ]
    },
    {
     "data": {
      "image/png": "[encoded data removed]",
      "text/plain": [
       "<Figure size 720x504 with 2 Axes>"
      ]
     },
     "metadata": {
      "needs_background": "light"
     },
     "output_type": "display_data"
    }
   ],
   "source": [
    "ls_temp = ['lr', 'rr', 'knn','gpr','dt','rf','etr','dnn']\n",
    "ls = np.arange(0,8)\n",
    "fig, ax = plt.subplots(1,1, figsize = (10, 7)) # create 2x2 array of subplots\n",
    "y_r2 = r2_arm\n",
    "y_mape_runtime = ape_runtime_arm\n",
    "y_mape_power = ape_power_arm\n",
    "\n",
    "bar1 = ax.bar(ls-0.2,y_mape_runtime, width = 0.38,color = 'limegreen', label = 'APE Runtime', align = 'center')\n",
    "bar2 = ax.bar(ls+0.2,y_mape_power, width = 0.38, color = 'mediumblue', label = 'APE Power', align = 'center')\n",
    "ax.legend(frameon= True, loc='upper left', prop={'size': 18})\n",
    "# ax_temp.set_xticklabels(ls, rotation = 90)\n",
    "ax.ticklabel_format(style='sci', axis='y', scilimits=(0,0))\n",
    "ax.set_ylim(0,50)\n",
    "ax.grid()\n",
    "\n",
    "ax_temp = ax.twinx()  # instantiate a second axes that shares the same x-axis\n",
    "px = ax_temp.plot(ls_temp, y_r2,marker = '+', color = 'darkorchid',label='R2 Score', linewidth = 3, markersize = 12, \n",
    "                  mec = 'crimson',mew = 10)\n",
    "ax_temp.legend(frameon=True, loc='upper right', prop={'size': 18})\n",
    "ax_temp.set_xticklabels(ls_temp, rotation = 90, fontsize = 25, fontweight = 'bold')\n",
    "ax_temp.set_ylim(-0.5,1)\n",
    "\n",
    "fig.tight_layout()  # otherwise the right y-label is slightly clipped\n",
    "name = 'transfer_learning_intel_to_arm'\n",
    "plt.rc('font', size = 25)\n",
    "fig.savefig(name+ '.eps')\n",
    "fig.show()\n"
   ]
  },
  {
   "cell_type": "code",
   "execution_count": 18,
   "metadata": {},
   "outputs": [
    {
     "name": "stderr",
     "output_type": "stream",
     "text": [
      "The PostScript backend does not support transparency; partially transparent artists will be rendered opaque.\n",
      "The PostScript backend does not support transparency; partially transparent artists will be rendered opaque.\n",
      "The PostScript backend does not support transparency; partially transparent artists will be rendered opaque.\n",
      "The PostScript backend does not support transparency; partially transparent artists will be rendered opaque.\n",
      "C:\\Users\\Rajat\\Anaconda3\\lib\\site-packages\\ipykernel_launcher.py:27: UserWarning: Matplotlib is currently using module://ipykernel.pylab.backend_inline, which is a non-GUI backend, so cannot show the figure.\n"
     ]
    },
    {
     "data": {
      "image/png": "[encoded data removed]",
      "text/plain": [
       "<Figure size 720x504 with 2 Axes>"
      ]
     },
     "metadata": {
      "needs_background": "light"
     },
     "output_type": "display_data"
    }
   ],
   "source": [
    "ls_temp = ['lr', 'rr', 'knn','gpr','dt','rf','etr','dnn']\n",
    "ls = np.arange(0,8)\n",
    "fig, ax = plt.subplots(1,1, figsize = (10, 7)) # create 2x2 array of subplots\n",
    "y_r2 = r2_amd\n",
    "y_mape_runtime = ape_runtime_amd\n",
    "y_mape_power = ape_power_amd\n",
    "\n",
    "bar1 = ax.bar(ls-0.2,y_mape_runtime, width = 0.38,color = 'limegreen', label = 'APE Runtime', align = 'center')\n",
    "bar2 = ax.bar(ls+0.2,y_mape_power, width = 0.38, color = 'mediumblue', label = 'APE Power', align = 'center')\n",
    "ax.legend(frameon= True, loc='upper left', prop={'size': 18})\n",
    "# ax_temp.set_xticklabels(ls, rotation = 90)\n",
    "ax.ticklabel_format(style='sci', axis='y', scilimits=(0,0))\n",
    "ax.set_ylim(0,50)\n",
    "ax.grid()\n",
    "\n",
    "ax_temp = ax.twinx()  # instantiate a second axes that shares the same x-axis\n",
    "px = ax_temp.plot(ls_temp, y_r2,marker = '+', color = 'darkorchid',label='R2 Score', linewidth = 3, markersize = 12, \n",
    "                  mec = 'crimson',mew = 10)\n",
    "ax_temp.legend(frameon=True, loc='upper right', prop={'size': 18})\n",
    "ax_temp.set_xticklabels(ls_temp, rotation = 90, fontsize = 25,fontweight = 'bold')\n",
    "ax_temp.set_ylim(-0.1,1.5)\n",
    "\n",
    "fig.tight_layout()  # otherwise the right y-label is slightly clipped\n",
    "name = 'transfer_learning_intel_to_amd'\n",
    "plt.rc('font', size = 25)\n",
    "fig.savefig(name+ '.eps')\n",
    "fig.show()\n"
   ]
  }
 ],
 "metadata": {
  "kernelspec": {
   "display_name": "Python 3",
   "language": "python",
   "name": "python3"
  },
  "language_info": {
   "codemirror_mode": {
    "name": "ipython",
    "version": 3
   },
   "file_extension": ".py",
   "mimetype": "text/x-python",
   "name": "python",
   "nbconvert_exporter": "python",
   "pygments_lexer": "ipython3",
   "version": "3.7.3"
  }
 },
 "nbformat": 4,
 "nbformat_minor": 2
}
