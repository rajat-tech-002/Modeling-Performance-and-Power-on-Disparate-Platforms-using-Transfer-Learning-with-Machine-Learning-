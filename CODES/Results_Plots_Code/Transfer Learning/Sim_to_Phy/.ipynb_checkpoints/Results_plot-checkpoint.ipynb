{
 "cells": [
  {
   "cell_type": "code",
   "execution_count": 1,
   "metadata": {},
   "outputs": [],
   "source": [
    "import pandas as pd\n",
    "import matplotlib.pyplot as plt\n",
    "from matplotlib import pyplot\n",
    "import numpy as np\n",
    "plt.rcParams.update({'figure.max_open_warning': 0})"
   ]
  },
  {
   "cell_type": "code",
   "execution_count": 2,
   "metadata": {},
   "outputs": [],
   "source": [
    "import matplotlib as mpl\n",
    "font = {'family' : 'normal',\n",
    "        'weight' : 'bold',\n",
    "        'size'   : 30}\n",
    "\n",
    "mpl.rc('font', **font)"
   ]
  },
  {
   "cell_type": "code",
   "execution_count": 3,
   "metadata": {},
   "outputs": [],
   "source": [
    "all_results = 'Results_for_plots\\\\'\n",
    "df_multi = pd.read_csv(all_results + 'result_multivariate_stitch.csv')\n",
    "df_uni = pd.read_csv(all_results + 'result_univariate_stitch.csv')"
   ]
  },
  {
   "cell_type": "code",
   "execution_count": 4,
   "metadata": {},
   "outputs": [
    {
     "data": {
      "text/html": [
       "<div>\n",
       "<style scoped>\n",
       "    .dataframe tbody tr th:only-of-type {\n",
       "        vertical-align: middle;\n",
       "    }\n",
       "\n",
       "    .dataframe tbody tr th {\n",
       "        vertical-align: top;\n",
       "    }\n",
       "\n",
       "    .dataframe thead th {\n",
       "        text-align: right;\n",
       "    }\n",
       "</style>\n",
       "<table border=\"1\" class=\"dataframe\">\n",
       "  <thead>\n",
       "    <tr style=\"text-align: right;\">\n",
       "      <th></th>\n",
       "      <th>Unnamed: 0</th>\n",
       "      <th>model_name</th>\n",
       "      <th>r2</th>\n",
       "      <th>mape_runtime</th>\n",
       "      <th>mape_power</th>\n",
       "    </tr>\n",
       "  </thead>\n",
       "  <tbody>\n",
       "    <tr>\n",
       "      <th>0</th>\n",
       "      <td>0</td>\n",
       "      <td>best_knn</td>\n",
       "      <td>-0.055239</td>\n",
       "      <td>0.162916</td>\n",
       "      <td>0.590057</td>\n",
       "    </tr>\n",
       "    <tr>\n",
       "      <th>1</th>\n",
       "      <td>1</td>\n",
       "      <td>best_dt</td>\n",
       "      <td>-1.492504</td>\n",
       "      <td>0.204408</td>\n",
       "      <td>0.789479</td>\n",
       "    </tr>\n",
       "    <tr>\n",
       "      <th>2</th>\n",
       "      <td>2</td>\n",
       "      <td>best_rf</td>\n",
       "      <td>-0.367194</td>\n",
       "      <td>0.186141</td>\n",
       "      <td>0.541177</td>\n",
       "    </tr>\n",
       "    <tr>\n",
       "      <th>3</th>\n",
       "      <td>3</td>\n",
       "      <td>best_etr</td>\n",
       "      <td>0.038316</td>\n",
       "      <td>0.152759</td>\n",
       "      <td>0.531736</td>\n",
       "    </tr>\n",
       "    <tr>\n",
       "      <th>4</th>\n",
       "      <td>4</td>\n",
       "      <td>best_dnn</td>\n",
       "      <td>0.419045</td>\n",
       "      <td>0.121115</td>\n",
       "      <td>0.220456</td>\n",
       "    </tr>\n",
       "  </tbody>\n",
       "</table>\n",
       "</div>"
      ],
      "text/plain": [
       "   Unnamed: 0 model_name        r2  mape_runtime  mape_power\n",
       "0           0   best_knn -0.055239      0.162916    0.590057\n",
       "1           1    best_dt -1.492504      0.204408    0.789479\n",
       "2           2    best_rf -0.367194      0.186141    0.541177\n",
       "3           3   best_etr  0.038316      0.152759    0.531736\n",
       "4           4   best_dnn  0.419045      0.121115    0.220456"
      ]
     },
     "execution_count": 4,
     "metadata": {},
     "output_type": "execute_result"
    }
   ],
   "source": [
    "df_multi.head()"
   ]
  },
  {
   "cell_type": "code",
   "execution_count": 5,
   "metadata": {},
   "outputs": [
    {
     "data": {
      "text/html": [
       "<div>\n",
       "<style scoped>\n",
       "    .dataframe tbody tr th:only-of-type {\n",
       "        vertical-align: middle;\n",
       "    }\n",
       "\n",
       "    .dataframe tbody tr th {\n",
       "        vertical-align: top;\n",
       "    }\n",
       "\n",
       "    .dataframe thead th {\n",
       "        text-align: right;\n",
       "    }\n",
       "</style>\n",
       "<table border=\"1\" class=\"dataframe\">\n",
       "  <thead>\n",
       "    <tr style=\"text-align: right;\">\n",
       "      <th></th>\n",
       "      <th>Unnamed: 0</th>\n",
       "      <th>model_name</th>\n",
       "      <th>r2</th>\n",
       "      <th>mape_runtime</th>\n",
       "      <th>mape_power</th>\n",
       "    </tr>\n",
       "  </thead>\n",
       "  <tbody>\n",
       "    <tr>\n",
       "      <th>0</th>\n",
       "      <td>0</td>\n",
       "      <td>best_knn</td>\n",
       "      <td>-0.055239</td>\n",
       "      <td>0.162916</td>\n",
       "      <td>0.590057</td>\n",
       "    </tr>\n",
       "    <tr>\n",
       "      <th>1</th>\n",
       "      <td>1</td>\n",
       "      <td>best_dt</td>\n",
       "      <td>0.289099</td>\n",
       "      <td>0.168052</td>\n",
       "      <td>0.469719</td>\n",
       "    </tr>\n",
       "    <tr>\n",
       "      <th>2</th>\n",
       "      <td>2</td>\n",
       "      <td>best_rf</td>\n",
       "      <td>0.445561</td>\n",
       "      <td>0.131533</td>\n",
       "      <td>0.422779</td>\n",
       "    </tr>\n",
       "    <tr>\n",
       "      <th>3</th>\n",
       "      <td>3</td>\n",
       "      <td>best_etr</td>\n",
       "      <td>0.262938</td>\n",
       "      <td>0.141010</td>\n",
       "      <td>0.438473</td>\n",
       "    </tr>\n",
       "    <tr>\n",
       "      <th>4</th>\n",
       "      <td>4</td>\n",
       "      <td>best_dnn</td>\n",
       "      <td>0.324666</td>\n",
       "      <td>0.113462</td>\n",
       "      <td>0.329257</td>\n",
       "    </tr>\n",
       "  </tbody>\n",
       "</table>\n",
       "</div>"
      ],
      "text/plain": [
       "   Unnamed: 0 model_name        r2  mape_runtime  mape_power\n",
       "0           0   best_knn -0.055239      0.162916    0.590057\n",
       "1           1    best_dt  0.289099      0.168052    0.469719\n",
       "2           2    best_rf  0.445561      0.131533    0.422779\n",
       "3           3   best_etr  0.262938      0.141010    0.438473\n",
       "4           4   best_dnn  0.324666      0.113462    0.329257"
      ]
     },
     "execution_count": 5,
     "metadata": {},
     "output_type": "execute_result"
    }
   ],
   "source": [
    "df_uni.head()"
   ]
  },
  {
   "cell_type": "code",
   "execution_count": 6,
   "metadata": {},
   "outputs": [
    {
     "data": {
      "text/plain": [
       "numpy.float64"
      ]
     },
     "execution_count": 6,
     "metadata": {},
     "output_type": "execute_result"
    }
   ],
   "source": [
    "k = df_multi.iloc[0]['r2']\n",
    "type(k)"
   ]
  },
  {
   "cell_type": "code",
   "execution_count": 7,
   "metadata": {},
   "outputs": [],
   "source": [
    "r2_multi = []\n",
    "r2_uni = []\n",
    "ape_runtime_multi = []\n",
    "ape_runtime_uni = []\n",
    "ape_power_multi = []\n",
    "ape_power_uni = []\n",
    "for i in range(5):\n",
    "    temp = df_multi.iloc[i]['r2']\n",
    "    r2_multi.append(temp)\n",
    "    \n",
    "for i in range(5):\n",
    "    temp = df_uni.iloc[i]['r2']\n",
    "    r2_uni.append(temp)\n",
    "    \n",
    "for i in range(5):\n",
    "    temp = df_multi.iloc[i]['mape_runtime']\n",
    "    ape_runtime_multi.append(temp)\n",
    "for i in range(5):\n",
    "    temp = df_uni.iloc[i]['mape_runtime']\n",
    "    ape_runtime_uni.append(temp)\n",
    "    \n",
    "for i in range(5):\n",
    "    temp = df_multi.iloc[i]['mape_power']\n",
    "    ape_power_multi.append(temp)\n",
    "for i in range(5):\n",
    "    temp = df_uni.iloc[i]['mape_power']\n",
    "    ape_power_uni.append(temp)\n",
    "    \n",
    "for i in range(5):\n",
    "    ape_runtime_multi[i] = ape_runtime_multi[i]*100\n",
    "for i in range(5):\n",
    "    ape_runtime_uni[i] = ape_runtime_uni[i]*100    \n",
    "for i in range(5):\n",
    "    ape_power_multi[i] = ape_power_multi[i]*100    \n",
    "for i in range(5):\n",
    "    ape_power_uni[i] = ape_power_uni[i]*100        "
   ]
  },
  {
   "cell_type": "code",
   "execution_count": 8,
   "metadata": {},
   "outputs": [
    {
     "name": "stdout",
     "output_type": "stream",
     "text": [
      "APE Runtime UNI [16.291602, 16.805159, 13.1533333, 14.1010445, 11.346172000000001] \n",
      " 14.33946216\n",
      "APE Runtime MULTI [16.291602, 20.4407884, 18.614051, 15.2759473, 12.1114741] \n",
      " 16.54677256\n",
      "APE Power UNI [59.005664800000005, 46.9719013, 42.2778554, 43.847276799999996, 32.925657] \n",
      " 45.005671060000005\n",
      "APE Power MULTI [59.005664800000005, 78.94789000000002, 54.11774460000001, 53.173646500000004, 22.0455878] \n",
      " 53.458106740000005\n"
     ]
    }
   ],
   "source": [
    "print('APE Runtime UNI', ape_runtime_uni,'\\n', np.mean(ape_runtime_uni))\n",
    "print('APE Runtime MULTI', ape_runtime_multi, '\\n', np.mean(ape_runtime_multi))\n",
    "print('APE Power UNI', ape_power_uni,'\\n', np.mean(ape_power_uni))\n",
    "print('APE Power MULTI', ape_power_multi, '\\n', np.mean(ape_power_multi))\n",
    "aru = np.mean(ape_runtime_uni)\n",
    "arm = np.mean(ape_runtime_multi)\n",
    "apu = np.mean(ape_power_uni)\n",
    "apm = np.mean(ape_power_multi)\n"
   ]
  },
  {
   "cell_type": "markdown",
   "metadata": {},
   "source": [
    "# Stitch"
   ]
  },
  {
   "cell_type": "code",
   "execution_count": 14,
   "metadata": {},
   "outputs": [
    {
     "name": "stderr",
     "output_type": "stream",
     "text": [
      "findfont: Font family ['normal'] not found. Falling back to DejaVu Sans.\n",
      "The PostScript backend does not support transparency; partially transparent artists will be rendered opaque.\n",
      "The PostScript backend does not support transparency; partially transparent artists will be rendered opaque.\n",
      "C:\\Users\\Rajat\\Anaconda3\\lib\\site-packages\\ipykernel_launcher.py:24: UserWarning: Matplotlib is currently using module://ipykernel.pylab.backend_inline, which is a non-GUI backend, so cannot show the figure.\n"
     ]
    },
    {
     "data": {
      "image/png": "[encoded data removed]",
      "text/plain": [
       "<Figure size 720x504 with 1 Axes>"
      ]
     },
     "metadata": {
      "needs_background": "light"
     },
     "output_type": "display_data"
    }
   ],
   "source": [
    "ls_temp = ['knn','dt','rf','etr','dnn']\n",
    "ls = np.arange(0,5)\n",
    "fig, ax = plt.subplots(1,1, figsize = (10, 7)) # create 2x2 array of subplots\n",
    "y_r2 = r2_multi\n",
    "\n",
    "bar1 = ax.bar(ls-0.3,ape_runtime_uni, width = 0.2,color = 'darkgreen', label = 'Runtime Univariate', align = 'center')\n",
    "bar2 = ax.bar(ls-0.1,ape_runtime_multi, width = 0.2, color = 'limegreen', label = 'Runtime Multivariate', align = 'center')\n",
    "bar3 = ax.bar(ls+0.1,ape_power_uni, width = 0.2,color = 'mediumblue', label = 'Power Univariate', align = 'center')\n",
    "bar4 = ax.bar(ls+0.3,ape_power_multi, width = 0.2, color = 'skyblue', label = 'Power Multivariate', align = 'center')\n",
    "\n",
    "ax.legend(frameon= True, loc='upper right', prop={'size': 20})\n",
    "# ax_temp.set_xticklabels(ls, rotation = 90)\n",
    "ax.ticklabel_format(style='sci', axis='y', scilimits=(0,0))\n",
    "ax.set_xticklabels(ls_temp, rotation = 0, fontsize = 25, fontweight = 'bold')\n",
    "ax.set_xticks(ls)\n",
    "ax.set_ylim(0,80)\n",
    "ax.grid()\n",
    "\n",
    "\n",
    "fig.tight_layout()  # otherwise the right y-label is slightly clipped\n",
    "name = 'transfer_learning_sim_phy_stitch'\n",
    "plt.rc('font', size = 24)\n",
    "fig.savefig(name+ '.eps')\n",
    "fig.show()\n"
   ]
  },
  {
   "cell_type": "markdown",
   "metadata": {},
   "source": [
    "# SVM"
   ]
  },
  {
   "cell_type": "code",
   "execution_count": 16,
   "metadata": {},
   "outputs": [
    {
     "name": "stderr",
     "output_type": "stream",
     "text": [
      "The PostScript backend does not support transparency; partially transparent artists will be rendered opaque.\n",
      "The PostScript backend does not support transparency; partially transparent artists will be rendered opaque.\n"
     ]
    },
    {
     "name": "stdout",
     "output_type": "stream",
     "text": [
      "APE Runtime UNI [11.170454300000001, 12.099306300000002, 12.0499416, 10.8803196, 9.056849] \n",
      " 11.051374160000002\n",
      "APE Runtime MULTI [11.170454300000001, 11.397805300000002, 10.915486000000001, 10.7286385, 9.1022356] \n",
      " 10.662923940000002\n",
      "APE Power UNI [57.9131202, 46.3564496, 28.442392699999996, 37.280662799999995, 32.308699000000004] \n",
      " 40.460264859999995\n",
      "APE Power MULTI [57.9131202, 37.8004116, 42.6517044, 43.4542164, 23.3776723] \n",
      " 41.03942498\n"
     ]
    },
    {
     "name": "stderr",
     "output_type": "stream",
     "text": [
      "C:\\Users\\Rajat\\Anaconda3\\lib\\site-packages\\ipykernel_launcher.py:73: UserWarning: Matplotlib is currently using module://ipykernel.pylab.backend_inline, which is a non-GUI backend, so cannot show the figure.\n"
     ]
    },
    {
     "data": {
      "image/png": "[encoded data removed]",
      "text/plain": [
       "<Figure size 720x504 with 1 Axes>"
      ]
     },
     "metadata": {
      "needs_background": "light"
     },
     "output_type": "display_data"
    }
   ],
   "source": [
    "all_results = 'Results_for_plots\\\\'\n",
    "df_multi = pd.read_csv(all_results + 'result_multivariate_svm.csv')\n",
    "df_uni = pd.read_csv(all_results + 'result_univariate_svm.csv')\n",
    "r2_multi = []\n",
    "r2_uni = []\n",
    "ape_runtime_multi = []\n",
    "ape_runtime_uni = []\n",
    "ape_power_multi = []\n",
    "ape_power_uni = []\n",
    "for i in range(5):\n",
    "    temp = df_multi.iloc[i]['r2']\n",
    "    r2_multi.append(temp)\n",
    "    \n",
    "for i in range(5):\n",
    "    temp = df_uni.iloc[i]['r2']\n",
    "    r2_uni.append(temp)\n",
    "    \n",
    "for i in range(5):\n",
    "    temp = df_multi.iloc[i]['mape_runtime']\n",
    "    ape_runtime_multi.append(temp)\n",
    "for i in range(5):\n",
    "    temp = df_uni.iloc[i]['mape_runtime']\n",
    "    ape_runtime_uni.append(temp)\n",
    "    \n",
    "for i in range(5):\n",
    "    temp = df_multi.iloc[i]['mape_power']\n",
    "    ape_power_multi.append(temp)\n",
    "for i in range(5):\n",
    "    temp = df_uni.iloc[i]['mape_power']\n",
    "    ape_power_uni.append(temp)\n",
    "    \n",
    "for i in range(5):\n",
    "    ape_runtime_multi[i] = ape_runtime_multi[i]*100\n",
    "for i in range(5):\n",
    "    ape_runtime_uni[i] = ape_runtime_uni[i]*100    \n",
    "for i in range(5):\n",
    "    ape_power_multi[i] = ape_power_multi[i]*100    \n",
    "for i in range(5):\n",
    "    ape_power_uni[i] = ape_power_uni[i]*100        \n",
    "\n",
    "print('APE Runtime UNI', ape_runtime_uni,'\\n', np.mean(ape_runtime_uni))\n",
    "print('APE Runtime MULTI', ape_runtime_multi, '\\n', np.mean(ape_runtime_multi))\n",
    "print('APE Power UNI', ape_power_uni,'\\n', np.mean(ape_power_uni))\n",
    "print('APE Power MULTI', ape_power_multi, '\\n', np.mean(ape_power_multi))\n",
    "aru = np.mean(ape_runtime_uni)\n",
    "arm = np.mean(ape_runtime_multi)\n",
    "apu = np.mean(ape_power_uni)\n",
    "apm = np.mean(ape_power_multi)\n",
    "\n",
    "ls_temp = ['knn','dt','rf','etr','dnn']\n",
    "ls = np.arange(0,5)\n",
    "fig, ax = plt.subplots(1,1, figsize = (10, 7)) # create 2x2 array of subplots\n",
    "y_r2 = r2_multi\n",
    "\n",
    "bar1 = ax.bar(ls-0.3,ape_runtime_uni, width = 0.2,color = 'darkgreen', label = 'Runtime Univariate', align = 'center')\n",
    "bar2 = ax.bar(ls-0.1,ape_runtime_multi, width = 0.2, color = 'limegreen', label = 'Runtime Multivariate', align = 'center')\n",
    "bar3 = ax.bar(ls+0.1,ape_power_uni, width = 0.2,color = 'mediumblue', label = 'Power Univariate', align = 'center')\n",
    "bar4 = ax.bar(ls+0.3,ape_power_multi, width = 0.2, color = 'skyblue', label = 'Power Multivariate', align = 'center')\n",
    "\n",
    "ax.legend(frameon= True, loc='upper right', prop={'size': 20})\n",
    "# ax_temp.set_xticklabels(ls, rotation = 90)\n",
    "ax.ticklabel_format(style='sci', axis='y', scilimits=(0,0))\n",
    "ax.set_xticklabels(ls_temp, rotation = 0, fontsize = 25, fontweight = 'bold')\n",
    "ax.set_xticks(ls)\n",
    "ax.set_ylim(0,80)\n",
    "ax.grid()\n",
    "\n",
    "\n",
    "fig.tight_layout()  # otherwise the right y-label is slightly clipped\n",
    "name = 'transfer_learning_sim_phy_svm'\n",
    "plt.rc('font', size = 24)\n",
    "fig.savefig(name+ '.eps')\n",
    "fig.show()\n"
   ]
  },
  {
   "cell_type": "markdown",
   "metadata": {},
   "source": [
    "# Tracking"
   ]
  },
  {
   "cell_type": "code",
   "execution_count": 18,
   "metadata": {},
   "outputs": [
    {
     "name": "stderr",
     "output_type": "stream",
     "text": [
      "The PostScript backend does not support transparency; partially transparent artists will be rendered opaque.\n",
      "The PostScript backend does not support transparency; partially transparent artists will be rendered opaque.\n"
     ]
    },
    {
     "name": "stdout",
     "output_type": "stream",
     "text": [
      "APE Runtime UNI [16.122219599999998, 14.6273972, 15.290975600000001, 15.2531943, 11.753708999999999] \n",
      " 14.60949914\n",
      "APE Runtime MULTI [16.122219599999998, 15.4937048, 14.1020118, 13.696429599999998, 11.819255199999999] \n",
      " 14.2467242\n",
      "APE Power UNI [62.1600371, 50.254340500000005, 45.2282058, 42.341494000000004, 39.192499] \n",
      " 47.835315279999996\n",
      "APE Power MULTI [62.1600371, 53.07426400000001, 51.51682639999999, 52.1021255, 31.027177899999998] \n",
      " 49.976086179999996\n"
     ]
    },
    {
     "name": "stderr",
     "output_type": "stream",
     "text": [
      "C:\\Users\\Rajat\\Anaconda3\\lib\\site-packages\\ipykernel_launcher.py:73: UserWarning: Matplotlib is currently using module://ipykernel.pylab.backend_inline, which is a non-GUI backend, so cannot show the figure.\n"
     ]
    },
    {
     "data": {
      "image/png": "[encoded data removed]",
      "text/plain": [
       "<Figure size 720x504 with 1 Axes>"
      ]
     },
     "metadata": {
      "needs_background": "light"
     },
     "output_type": "display_data"
    }
   ],
   "source": [
    "all_results = 'Results_for_plots\\\\'\n",
    "df_multi = pd.read_csv(all_results + 'result_multivariate_tracking.csv')\n",
    "df_uni = pd.read_csv(all_results + 'result_univariate_tracking.csv')\n",
    "r2_multi = []\n",
    "r2_uni = []\n",
    "ape_runtime_multi = []\n",
    "ape_runtime_uni = []\n",
    "ape_power_multi = []\n",
    "ape_power_uni = []\n",
    "for i in range(5):\n",
    "    temp = df_multi.iloc[i]['r2']\n",
    "    r2_multi.append(temp)\n",
    "    \n",
    "for i in range(5):\n",
    "    temp = df_uni.iloc[i]['r2']\n",
    "    r2_uni.append(temp)\n",
    "    \n",
    "for i in range(5):\n",
    "    temp = df_multi.iloc[i]['mape_runtime']\n",
    "    ape_runtime_multi.append(temp)\n",
    "for i in range(5):\n",
    "    temp = df_uni.iloc[i]['mape_runtime']\n",
    "    ape_runtime_uni.append(temp)\n",
    "    \n",
    "for i in range(5):\n",
    "    temp = df_multi.iloc[i]['mape_power']\n",
    "    ape_power_multi.append(temp)\n",
    "for i in range(5):\n",
    "    temp = df_uni.iloc[i]['mape_power']\n",
    "    ape_power_uni.append(temp)\n",
    "    \n",
    "for i in range(5):\n",
    "    ape_runtime_multi[i] = ape_runtime_multi[i]*100\n",
    "for i in range(5):\n",
    "    ape_runtime_uni[i] = ape_runtime_uni[i]*100    \n",
    "for i in range(5):\n",
    "    ape_power_multi[i] = ape_power_multi[i]*100    \n",
    "for i in range(5):\n",
    "    ape_power_uni[i] = ape_power_uni[i]*100        \n",
    "\n",
    "print('APE Runtime UNI', ape_runtime_uni,'\\n', np.mean(ape_runtime_uni))\n",
    "print('APE Runtime MULTI', ape_runtime_multi, '\\n', np.mean(ape_runtime_multi))\n",
    "print('APE Power UNI', ape_power_uni,'\\n', np.mean(ape_power_uni))\n",
    "print('APE Power MULTI', ape_power_multi, '\\n', np.mean(ape_power_multi))\n",
    "aru = np.mean(ape_runtime_uni)\n",
    "arm = np.mean(ape_runtime_multi)\n",
    "apu = np.mean(ape_power_uni)\n",
    "apm = np.mean(ape_power_multi)\n",
    "\n",
    "ls_temp = ['knn','dt','rf','etr','dnn']\n",
    "ls = np.arange(0,5)\n",
    "fig, ax = plt.subplots(1,1, figsize = (10, 7)) # create 2x2 array of subplots\n",
    "y_r2 = r2_multi\n",
    "\n",
    "bar1 = ax.bar(ls-0.3,ape_runtime_uni, width = 0.2,color = 'darkgreen', label = 'Runtime Univariate', align = 'center')\n",
    "bar2 = ax.bar(ls-0.1,ape_runtime_multi, width = 0.2, color = 'limegreen', label = 'Runtime Multivariate', align = 'center')\n",
    "bar3 = ax.bar(ls+0.1,ape_power_uni, width = 0.2,color = 'mediumblue', label = 'Power Univariate', align = 'center')\n",
    "bar4 = ax.bar(ls+0.3,ape_power_multi, width = 0.2, color = 'skyblue', label = 'Power Multivariate', align = 'center')\n",
    "\n",
    "ax.legend(frameon= True, loc='upper right', prop={'size': 20})\n",
    "# ax_temp.set_xticklabels(ls, rotation = 90)\n",
    "ax.ticklabel_format(style='sci', axis='y', scilimits=(0,0))\n",
    "ax.set_xticklabels(ls_temp, rotation = 0, fontsize = 25, fontweight = 'bold')\n",
    "ax.set_xticks(ls)\n",
    "ax.set_ylim(0,80)\n",
    "ax.grid()\n",
    "\n",
    "\n",
    "fig.tight_layout()  # otherwise the right y-label is slightly clipped\n",
    "name = 'transfer_learning_sim_phy_tracking'\n",
    "plt.rc('font', size = 24)\n",
    "fig.savefig(name+ '.eps')\n",
    "fig.show()\n"
   ]
  },
  {
   "cell_type": "code",
   "execution_count": 12,
   "metadata": {},
   "outputs": [
    {
     "data": {
      "text/plain": [
       "(13.333445153333335, 13.8188069, 44.4337504, 48.15787263333334)"
      ]
     },
     "execution_count": 12,
     "metadata": {},
     "output_type": "execute_result"
    }
   ],
   "source": [
    "all_dataset_runtime_UNI = [14.33946216 ,11.051374160000002 , 14.60949914]\n",
    "all_dataset_runtime_MULTI = [16.54677256 ,10.662923940000002 , 14.2467242]\n",
    "all_dataset_power_UNI = [45.005671060000005 ,40.460264859999995 , 47.835315279999996]\n",
    "all_dataset_power_MULTI = [53.458106740000005 ,41.03942498 , 49.976086179999996]\n",
    "np.mean(all_dataset_runtime_UNI), np.mean(all_dataset_runtime_MULTI), np.mean(all_dataset_power_UNI), np.mean(all_dataset_power_MULTI)"
   ]
  },
  {
   "cell_type": "code",
   "execution_count": null,
   "metadata": {},
   "outputs": [],
   "source": [
    "# Excluding DNN\n",
    "all_dataset_runtime_UNI = [14.33946216 ,11.051374160000002 , 14.60949914]\n",
    "all_dataset_runtime_MULTI = [16.54677256 ,10.662923940000002 , 14.2467242]\n",
    "all_dataset_power_UNI = [45.005671060000005 ,40.460264859999995 , 47.835315279999996]\n",
    "all_dataset_power_MULTI = [53.458106740000005 ,41.03942498 , 49.976086179999996]\n",
    "np.mean(all_dataset_runtime_UNI), np.mean(all_dataset_runtime_MULTI), np.mean(all_dataset_power_UNI), np.mean(all_dataset_power_MULTI)"
   ]
  },
  {
   "cell_type": "code",
   "execution_count": 13,
   "metadata": {},
   "outputs": [
    {
     "data": {
      "text/plain": [
       "(34.808951666666665, 25.48347933333333)"
      ]
     },
     "execution_count": 13,
     "metadata": {},
     "output_type": "execute_result"
    }
   ],
   "source": [
    "dnn_power_uni = [32.925657, 32.308699000000004,39.192499 ]\n",
    "dnn_power_multi = [22.0455878, 23.3776723,31.027177899999998]\n",
    "np.mean(dnn_power_uni), np.mean(dnn_power_multi)"
   ]
  },
  {
   "cell_type": "code",
   "execution_count": null,
   "metadata": {},
   "outputs": [],
   "source": []
  },
  {
   "cell_type": "code",
   "execution_count": null,
   "metadata": {},
   "outputs": [],
   "source": []
  },
  {
   "cell_type": "code",
   "execution_count": null,
   "metadata": {},
   "outputs": [],
   "source": []
  }
 ],
 "metadata": {
  "kernelspec": {
   "display_name": "Python 3",
   "language": "python",
   "name": "python3"
  },
  "language_info": {
   "codemirror_mode": {
    "name": "ipython",
    "version": 3
   },
   "file_extension": ".py",
   "mimetype": "text/x-python",
   "name": "python",
   "nbconvert_exporter": "python",
   "pygments_lexer": "ipython3",
   "version": "3.7.3"
  }
 },
 "nbformat": 4,
 "nbformat_minor": 2
}
