{
 "cells": [
  {
   "cell_type": "code",
   "execution_count": 1,
   "metadata": {},
   "outputs": [
    {
     "name": "stderr",
     "output_type": "stream",
     "text": [
      "Using TensorFlow backend.\n"
     ]
    }
   ],
   "source": [
    "from sklearn.preprocessing import StandardScaler\n",
    "from sklearn.preprocessing import MinMaxScaler\n",
    "from sklearn.model_selection import train_test_split\n",
    "from sklearn.metrics import mean_squared_error, r2_score\n",
    "from sklearn.metrics import mean_absolute_error\n",
    "from sklearn.model_selection import GridSearchCV \n",
    "from sklearn.model_selection import KFold\n",
    "from sklearn.metrics import accuracy_score\n",
    "from keras.layers import Dense\n",
    "from keras.models import Sequential\n",
    "from keras.optimizers import SGD\n",
    "from matplotlib import pyplot as plt\n",
    "import matplotlib as mpl\n",
    "import seaborn as sns\n",
    "import numpy as np\n",
    "import pandas as pd\n",
    "import category_encoders as ce\n",
    "import os\n",
    "import pickle\n",
    "import gc\n",
    "from tqdm import tqdm\n",
    "from sklearn.model_selection import ShuffleSplit"
   ]
  },
  {
   "cell_type": "code",
   "execution_count": 3,
   "metadata": {},
   "outputs": [],
   "source": [
    "def encode_text_features(encode_decode, data_frame, encoder_isa=None, encoder_mem_type=None):\n",
    "    # Implement Categorical OneHot encoding for ISA and mem-type\n",
    "    if encode_decode == 'encode':\n",
    "        encoder_isa = ce.one_hot.OneHotEncoder(cols=['isa'])\n",
    "        encoder_mem_type = ce.one_hot.OneHotEncoder(cols=['mem-type'])\n",
    "        encoder_isa.fit(data_frame, verbose=1)\n",
    "        df_new1 = encoder_isa.transform(data_frame)\n",
    "        encoder_mem_type.fit(df_new1, verbose=1)\n",
    "        df_new = encoder_mem_type.transform(df_new1)\n",
    "        encoded_data_frame = df_new\n",
    "    else:\n",
    "        df_new1 = encoder_isa.transform(data_frame)\n",
    "        df_new = encoder_mem_type.transform(df_new1)\n",
    "        encoded_data_frame = df_new\n",
    "        \n",
    "    return encoded_data_frame, encoder_isa, encoder_mem_type"
   ]
  },
  {
   "cell_type": "code",
   "execution_count": 120,
   "metadata": {},
   "outputs": [],
   "source": [
    "all_datasets = 'C:\\\\Users\\\\Rajat\\\\Desktop\\\\PROJECT_MODE\\\\Paper_2_Aditya\\\\Dataset\\\\'\n",
    "df = pd.read_csv(all_datasets + 'matmul_physical.csv')"
   ]
  },
  {
   "cell_type": "code",
   "execution_count": 121,
   "metadata": {},
   "outputs": [],
   "source": [
    "encoded_data_frame, encoder_isa, encoder_mem_type = encode_text_features('encode', df, encoder_isa = None, encoder_mem_type=None)"
   ]
  },
  {
   "cell_type": "code",
   "execution_count": 122,
   "metadata": {},
   "outputs": [
    {
     "data": {
      "text/html": [
       "<div>\n",
       "<style scoped>\n",
       "    .dataframe tbody tr th:only-of-type {\n",
       "        vertical-align: middle;\n",
       "    }\n",
       "\n",
       "    .dataframe tbody tr th {\n",
       "        vertical-align: top;\n",
       "    }\n",
       "\n",
       "    .dataframe thead th {\n",
       "        text-align: right;\n",
       "    }\n",
       "</style>\n",
       "<table border=\"1\" class=\"dataframe\">\n",
       "  <thead>\n",
       "    <tr style=\"text-align: right;\">\n",
       "      <th></th>\n",
       "      <th>arch</th>\n",
       "      <th>ps</th>\n",
       "      <th>num-cpus</th>\n",
       "      <th>runtime</th>\n",
       "      <th>power</th>\n",
       "      <th>cpu-clock</th>\n",
       "      <th>isa_1</th>\n",
       "      <th>l1d_assoc</th>\n",
       "      <th>l1d_cache_lines</th>\n",
       "      <th>l1d_shared_by_threads</th>\n",
       "      <th>...</th>\n",
       "      <th>l3_assoc</th>\n",
       "      <th>l3_cache_lines</th>\n",
       "      <th>l3_shared_by_threads</th>\n",
       "      <th>l3_size</th>\n",
       "      <th>mem-size</th>\n",
       "      <th>mem-type_1</th>\n",
       "      <th>mem-type_2</th>\n",
       "      <th>mem_clock</th>\n",
       "      <th>num-cpu</th>\n",
       "      <th>bus_speed</th>\n",
       "    </tr>\n",
       "  </thead>\n",
       "  <tbody>\n",
       "    <tr>\n",
       "      <th>0</th>\n",
       "      <td>cep002</td>\n",
       "      <td>100</td>\n",
       "      <td>1</td>\n",
       "      <td>958.0853</td>\n",
       "      <td>25.774741</td>\n",
       "      <td>3.168</td>\n",
       "      <td>1</td>\n",
       "      <td>8</td>\n",
       "      <td>64</td>\n",
       "      <td>1</td>\n",
       "      <td>...</td>\n",
       "      <td>16</td>\n",
       "      <td>64</td>\n",
       "      <td>6</td>\n",
       "      <td>12288</td>\n",
       "      <td>16</td>\n",
       "      <td>1</td>\n",
       "      <td>0</td>\n",
       "      <td>2666</td>\n",
       "      <td>6</td>\n",
       "      <td>4096</td>\n",
       "    </tr>\n",
       "    <tr>\n",
       "      <th>1</th>\n",
       "      <td>cep002</td>\n",
       "      <td>100</td>\n",
       "      <td>10</td>\n",
       "      <td>2034.8911</td>\n",
       "      <td>42.109035</td>\n",
       "      <td>3.168</td>\n",
       "      <td>1</td>\n",
       "      <td>8</td>\n",
       "      <td>64</td>\n",
       "      <td>1</td>\n",
       "      <td>...</td>\n",
       "      <td>16</td>\n",
       "      <td>64</td>\n",
       "      <td>6</td>\n",
       "      <td>12288</td>\n",
       "      <td>16</td>\n",
       "      <td>1</td>\n",
       "      <td>0</td>\n",
       "      <td>2666</td>\n",
       "      <td>6</td>\n",
       "      <td>4096</td>\n",
       "    </tr>\n",
       "    <tr>\n",
       "      <th>2</th>\n",
       "      <td>cep002</td>\n",
       "      <td>100</td>\n",
       "      <td>11</td>\n",
       "      <td>3965.8928</td>\n",
       "      <td>47.193510</td>\n",
       "      <td>3.168</td>\n",
       "      <td>1</td>\n",
       "      <td>8</td>\n",
       "      <td>64</td>\n",
       "      <td>1</td>\n",
       "      <td>...</td>\n",
       "      <td>16</td>\n",
       "      <td>64</td>\n",
       "      <td>6</td>\n",
       "      <td>12288</td>\n",
       "      <td>16</td>\n",
       "      <td>1</td>\n",
       "      <td>0</td>\n",
       "      <td>2666</td>\n",
       "      <td>6</td>\n",
       "      <td>4096</td>\n",
       "    </tr>\n",
       "    <tr>\n",
       "      <th>3</th>\n",
       "      <td>cep002</td>\n",
       "      <td>100</td>\n",
       "      <td>12</td>\n",
       "      <td>3467.8764</td>\n",
       "      <td>41.905992</td>\n",
       "      <td>3.168</td>\n",
       "      <td>1</td>\n",
       "      <td>8</td>\n",
       "      <td>64</td>\n",
       "      <td>1</td>\n",
       "      <td>...</td>\n",
       "      <td>16</td>\n",
       "      <td>64</td>\n",
       "      <td>6</td>\n",
       "      <td>12288</td>\n",
       "      <td>16</td>\n",
       "      <td>1</td>\n",
       "      <td>0</td>\n",
       "      <td>2666</td>\n",
       "      <td>6</td>\n",
       "      <td>4096</td>\n",
       "    </tr>\n",
       "    <tr>\n",
       "      <th>4</th>\n",
       "      <td>cep002</td>\n",
       "      <td>100</td>\n",
       "      <td>2</td>\n",
       "      <td>547.6646</td>\n",
       "      <td>22.879879</td>\n",
       "      <td>3.168</td>\n",
       "      <td>1</td>\n",
       "      <td>8</td>\n",
       "      <td>64</td>\n",
       "      <td>1</td>\n",
       "      <td>...</td>\n",
       "      <td>16</td>\n",
       "      <td>64</td>\n",
       "      <td>6</td>\n",
       "      <td>12288</td>\n",
       "      <td>16</td>\n",
       "      <td>1</td>\n",
       "      <td>0</td>\n",
       "      <td>2666</td>\n",
       "      <td>6</td>\n",
       "      <td>4096</td>\n",
       "    </tr>\n",
       "  </tbody>\n",
       "</table>\n",
       "<p>5 rows × 25 columns</p>\n",
       "</div>"
      ],
      "text/plain": [
       "     arch   ps  num-cpus    runtime      power  cpu-clock  isa_1  l1d_assoc  \\\n",
       "0  cep002  100         1   958.0853  25.774741      3.168      1          8   \n",
       "1  cep002  100        10  2034.8911  42.109035      3.168      1          8   \n",
       "2  cep002  100        11  3965.8928  47.193510      3.168      1          8   \n",
       "3  cep002  100        12  3467.8764  41.905992      3.168      1          8   \n",
       "4  cep002  100         2   547.6646  22.879879      3.168      1          8   \n",
       "\n",
       "   l1d_cache_lines  l1d_shared_by_threads  ...  l3_assoc  l3_cache_lines  \\\n",
       "0               64                      1  ...        16              64   \n",
       "1               64                      1  ...        16              64   \n",
       "2               64                      1  ...        16              64   \n",
       "3               64                      1  ...        16              64   \n",
       "4               64                      1  ...        16              64   \n",
       "\n",
       "   l3_shared_by_threads  l3_size  mem-size  mem-type_1  mem-type_2  mem_clock  \\\n",
       "0                     6    12288        16           1           0       2666   \n",
       "1                     6    12288        16           1           0       2666   \n",
       "2                     6    12288        16           1           0       2666   \n",
       "3                     6    12288        16           1           0       2666   \n",
       "4                     6    12288        16           1           0       2666   \n",
       "\n",
       "   num-cpu  bus_speed  \n",
       "0        6       4096  \n",
       "1        6       4096  \n",
       "2        6       4096  \n",
       "3        6       4096  \n",
       "4        6       4096  \n",
       "\n",
       "[5 rows x 25 columns]"
      ]
     },
     "execution_count": 122,
     "metadata": {},
     "output_type": "execute_result"
    }
   ],
   "source": [
    "encoded_data_frame.head()"
   ]
  },
  {
   "cell_type": "code",
   "execution_count": 123,
   "metadata": {},
   "outputs": [],
   "source": [
    "total_data = encoded_data_frame.drop(columns = ['arch'])"
   ]
  },
  {
   "cell_type": "code",
   "execution_count": 124,
   "metadata": {},
   "outputs": [],
   "source": [
    "total_data = total_data.fillna(0)"
   ]
  },
  {
   "cell_type": "code",
   "execution_count": 125,
   "metadata": {},
   "outputs": [
    {
     "data": {
      "image/png": "[encoded data removed]",
      "text/plain": [
       "<Figure size 432x288 with 1 Axes>"
      ]
     },
     "metadata": {
      "needs_background": "light"
     },
     "output_type": "display_data"
    }
   ],
   "source": [
    "sns_plot = sns.distplot(total_data['runtime'], hist=True, kde=False, \n",
    "            color = 'limegreen', \n",
    "             hist_kws={'edgecolor':'black'},\n",
    "             kde_kws={'linewidth': 4})\n",
    "sns_plot.figure.savefig(\"matmul_physical_runtime.png\")"
   ]
  },
  {
   "cell_type": "code",
   "execution_count": 126,
   "metadata": {},
   "outputs": [
    {
     "data": {
      "image/png": "[encoded data removed]",
      "text/plain": [
       "<Figure size 432x288 with 1 Axes>"
      ]
     },
     "metadata": {
      "needs_background": "light"
     },
     "output_type": "display_data"
    }
   ],
   "source": [
    "sns_plot_2 = sns.distplot(total_data['power'], hist=True, kde=False, \n",
    "            color = 'mediumblue', \n",
    "             hist_kws={'edgecolor':'black'},\n",
    "             kde_kws={'linewidth': 4})\n",
    "sns_plot_2.figure.savefig(\"matmul_physical_power.png\")"
   ]
  },
  {
   "cell_type": "code",
   "execution_count": null,
   "metadata": {},
   "outputs": [],
   "source": []
  },
  {
   "cell_type": "code",
   "execution_count": null,
   "metadata": {},
   "outputs": [],
   "source": []
  }
 ],
 "metadata": {
  "kernelspec": {
   "display_name": "Python 3",
   "language": "python",
   "name": "python3"
  },
  "language_info": {
   "codemirror_mode": {
    "name": "ipython",
    "version": 3
   },
   "file_extension": ".py",
   "mimetype": "text/x-python",
   "name": "python",
   "nbconvert_exporter": "python",
   "pygments_lexer": "ipython3",
   "version": "3.7.3"
  }
 },
 "nbformat": 4,
 "nbformat_minor": 2
}
